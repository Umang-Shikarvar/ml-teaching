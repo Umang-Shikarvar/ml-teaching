{
  "cells": [
    {
      "cell_type": "markdown",
      "metadata": {},
      "source": [
        "# Binomial\n",
        "\n",
        "Nipun Batra  \n",
        "2025-07-24\n",
        "\n",
        "<figure>\n",
        "<a\n",
        "href=\"https://colab.research.google.com/github/nipunbatra/ml-teaching/blob/master/notebooks/binomial.ipynb\"><img\n",
        "src=\"https://colab.research.google.com/assets/colab-badge.svg\" /></a>\n",
        "<figcaption>Open In Colab</figcaption>\n",
        "</figure>"
      ],
      "id": "11281c3e-126e-4cf3-a219-e1ed19285705"
    },
    {
      "cell_type": "code",
      "execution_count": 1,
      "metadata": {},
      "outputs": [],
      "source": [
        "import numpy as np\n",
        "import matplotlib.pyplot as plt"
      ],
      "id": "cell-2"
    },
    {
      "cell_type": "code",
      "execution_count": 2,
      "metadata": {},
      "outputs": [],
      "source": [
        "SPINE_COLOR = 'gray'\n",
        "\n",
        "def format_axes(ax):\n",
        "\n",
        "    for spine in ['top', 'right']:\n",
        "        ax.spines[spine].set_visible(False)\n",
        "\n",
        "    for spine in ['left', 'bottom']:\n",
        "        ax.spines[spine].set_color(SPINE_COLOR)\n",
        "        ax.spines[spine].set_linewidth(0.5)\n",
        "\n",
        "    ax.xaxis.set_ticks_position('bottom')\n",
        "    ax.yaxis.set_ticks_position('left')\n",
        "\n",
        "    for axis in [ax.xaxis, ax.yaxis]:\n",
        "        axis.set_tick_params(direction='out', color=SPINE_COLOR)\n",
        "\n",
        "    return ax"
      ],
      "id": "cell-3"
    },
    {
      "cell_type": "code",
      "execution_count": null,
      "metadata": {},
      "outputs": [],
      "source": [
        "def bino(n, p, k)"
      ],
      "id": "cell-4"
    },
    {
      "cell_type": "code",
      "execution_count": null,
      "metadata": {},
      "outputs": [],
      "source": [
        " choose(n, k) * p**k * (1-p)**(n-k)"
      ],
      "id": "cell-5"
    },
    {
      "cell_type": "code",
      "execution_count": 26,
      "metadata": {},
      "outputs": [
        {
          "output_type": "display_data",
          "metadata": {},
          "data": {
            "text/plain": [
              "0.11277578372328753"
            ]
          }
        }
      ],
      "source": [
        "stats.binom.pmf(n=21, p=0.3, k=4)"
      ],
      "id": "cell-6"
    },
    {
      "cell_type": "code",
      "execution_count": 64,
      "metadata": {},
      "outputs": [
        {
          "output_type": "display_data",
          "metadata": {},
          "data": {
            "image/png": "[encoded data removed]"
          }
        },
        {
          "output_type": "display_data",
          "metadata": {},
          "data": {
            "image/png": "[encoded data removed]"
          }
        }
      ],
      "source": [
        "from scipy import stats\n",
        "a=range(21)\n",
        "for error in [0.3, 0.6]:\n",
        "    fig, ax = plt.subplots(figsize=(4,3))\n",
        "    ax.bar(a,stats.binom.pmf(n=21, p=error, k=a), color='grey', alpha=0.3)\n",
        "    ax.bar(a[11:],stats.binom.pmf(n=21, p=error, k=a[11:]), color='grey', alpha=0.9)\n",
        "\n",
        "\n",
        "    ax.set_ylabel(r'$P(X=k)$')\n",
        "    ax.set_xlabel(r'$k$')\n",
        "    #ax.set_ylim((0,0.4))\n",
        "    #ax.legend()\n",
        "    format_axes(ax)\n",
        "    #plt.fill_betweenx(3, 11, 20)\n",
        "    plt.axvline(10.5, color='k',lw=2, label=r'$k=11, \\epsilon={}$'.format(error))\n",
        "    plt.title(\"Probability that majority vote \\n (11 out of 21) is wrong = {}\".format(sum(stats.binom.pmf(n=21, p=error, k=a[11:])).round(3)))\n",
        "    plt.legend()\n",
        "    import tikzplotlib\n",
        "\n",
        "    tikzplotlib.save(\"test-{}.tex\".format(error), )"
      ],
      "id": "cell-7"
    },
    {
      "cell_type": "code",
      "execution_count": 11,
      "metadata": {},
      "outputs": [
        {
          "output_type": "stream",
          "name": "stdout",
          "text": [
            "% This file was created by tikzplotlib v0.9.0.\n",
            "\\begin{tikzpicture}\n",
            "\n",
            "\\definecolor{color0}{rgb}{0.12156862745098,0.466666666666667,0.705882352941177}\n",
            "\n",
            "\\begin{axis}[\n",
            "tick align=outside,\n",
            "tick pos=left,\n",
            "title={Simple plot \\(\\displaystyle \\frac{\\alpha}{2}\\)},\n",
            "x grid style={white!69.0196078431373!black},\n",
            "xlabel={time (s)},\n",
            "xmin=-0.75, xmax=15.75,\n",
            "xtick style={color=black},\n",
            "y grid style={white!69.0196078431373!black},\n",
            "ylabel={Voltage (mV)},\n",
            "ymin=0, ymax=0.24892,\n",
            "ytick style={color=black}\n",
            "]\n",
            "\\draw[draw=none,fill=color0] (axis cs:0,0) rectangle (axis cs:1.5,0.00293333333333333);\n",
            "\\draw[draw=none,fill=color0] (axis cs:1.5,0) rectangle (axis cs:3,0.0157333333333333);\n",
            "\\draw[draw=none,fill=color0] (axis cs:3,0) rectangle (axis cs:4.5,0.110866666666667);\n",
            "\\draw[draw=none,fill=color0] (axis cs:4.5,0) rectangle (axis cs:6,0.116866666666667);\n",
            "\\draw[draw=none,fill=color0] (axis cs:6,0) rectangle (axis cs:7.5,0.237066666666667);\n",
            "\\draw[draw=none,fill=color0] (axis cs:7.5,0) rectangle (axis cs:9,0.0889333333333333);\n",
            "\\draw[draw=none,fill=color0] (axis cs:9,0) rectangle (axis cs:10.5,0.0760666666666667);\n",
            "\\draw[draw=none,fill=color0] (axis cs:10.5,0) rectangle (axis cs:12,0.012);\n",
            "\\draw[draw=none,fill=color0] (axis cs:12,0) rectangle (axis cs:13.5,0.00593333333333333);\n",
            "\\draw[draw=none,fill=color0] (axis cs:13.5,0) rectangle (axis cs:15,0.000266666666666667);\n",
            "\\end{axis}\n",
            "\n",
            "\\end{tikzpicture}"
          ]
        }
      ],
      "source": [
        "!cat test.tex\n"
      ],
      "id": "cell-8"
    },
    {
      "cell_type": "code",
      "execution_count": 61,
      "metadata": {},
      "outputs": [
        {
          "output_type": "display_data",
          "metadata": {},
          "data": {
            "text/plain": [
              "0.83"
            ]
          }
        }
      ],
      "source": [
        "sum(stats.binom.pmf(n=21, p=error, k=a[11:])).round(2)"
      ],
      "id": "cell-9"
    }
  ],
  "nbformat": 4,
  "nbformat_minor": 5,
  "metadata": {
    "kernelspec": {
      "name": "python3",
      "display_name": "Python 3",
      "language": "python"
    },
    "language_info": {
      "name": "python",
      "codemirror_mode": {
        "name": "ipython",
        "version": "3"
      },
      "file_extension": ".py",
      "mimetype": "text/x-python",
      "nbconvert_exporter": "python",
      "pygments_lexer": "ipython3",
      "version": "3.11.4"
    }
  }
}