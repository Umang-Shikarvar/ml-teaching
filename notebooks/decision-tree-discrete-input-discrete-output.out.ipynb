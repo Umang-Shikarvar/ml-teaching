{
  "cells": [
    {
      "cell_type": "markdown",
      "metadata": {},
      "source": [
        "# Decision Trees Discrete Input and Discrete Output\n",
        "\n",
        "Nipun Batra  \n",
        "2024-01-21\n",
        "\n",
        "<figure>\n",
        "<a\n",
        "href=\"https://colab.research.google.com/github/nipunbatra/ml-teaching/blob/master/notebooks/decision-tree-discrete-input-discrete-output.ipynb\"><img\n",
        "src=\"https://colab.research.google.com/assets/colab-badge.svg\" /></a>\n",
        "<figcaption>Open In Colab</figcaption>\n",
        "</figure>"
      ],
      "id": "2fd58f5c-39ef-4697-b9f0-fb025feebf2f"
    },
    {
      "cell_type": "code",
      "execution_count": 2,
      "metadata": {},
      "outputs": [],
      "source": [
        "import matplotlib.pyplot as plt\n",
        "import numpy as np\n",
        "import pandas as pd\n",
        "# Retina mode\n",
        "%matplotlib inline\n",
        "%config InlineBackend.figure_format = 'retina'\n",
        "\n",
        "from latexify import latexify, format_axes"
      ],
      "id": "cell-2"
    },
    {
      "cell_type": "code",
      "execution_count": 3,
      "metadata": {},
      "outputs": [],
      "source": [
        "df = pd.read_csv(\"../datasets/tennis-discrete-output.csv\", index_col=0)"
      ],
      "id": "cell-3"
    },
    {
      "cell_type": "code",
      "execution_count": 4,
      "metadata": {},
      "outputs": [
        {
          "output_type": "display_data",
          "metadata": {},
          "data": {
            "text/html": [
              "\n",
              "</div>"
            ]
          }
        }
      ],
      "source": [
        "df"
      ],
      "id": "cell-4"
    },
    {
      "cell_type": "code",
      "execution_count": 8,
      "metadata": {},
      "outputs": [],
      "source": [
        "def entropy(ser):\n",
        "    \"\"\"\n",
        "    Calculate entropy for a categorical variable.\n",
        "\n",
        "    Parameters:\n",
        "    - ser: pd.Series of categorical data\n",
        "\n",
        "    Returns:\n",
        "    - Entropy value\n",
        "    \"\"\"\n",
        "    # Count the occurrences of each unique value in the series\n",
        "    value_counts = ser.value_counts()\n",
        "\n",
        "    # Calculate the probabilities of each unique value\n",
        "    probabilities = value_counts / len(ser)\n",
        "\n",
        "    # Calculate entropy using the formula: H(S) = -p1*log2(p1) - p2*log2(p2) - ...\n",
        "    entropy_value = -np.sum(probabilities * np.log2(probabilities))\n",
        "\n",
        "    return entropy_value\n",
        "    "
      ],
      "id": "cell-5"
    },
    {
      "cell_type": "code",
      "execution_count": 9,
      "metadata": {},
      "outputs": [
        {
          "output_type": "display_data",
          "metadata": {},
          "data": {
            "text/plain": [
              "0.9402859586706311"
            ]
          }
        }
      ],
      "source": [
        "entropy(df[\"Play\"])"
      ],
      "id": "cell-6"
    }
  ],
  "nbformat": 4,
  "nbformat_minor": 5,
  "metadata": {
    "kernelspec": {
      "name": "python3",
      "display_name": "base",
      "language": "python"
    },
    "language_info": {
      "name": "python",
      "codemirror_mode": {
        "name": "ipython",
        "version": "3"
      },
      "file_extension": ".py",
      "mimetype": "text/x-python",
      "nbconvert_exporter": "python",
      "pygments_lexer": "ipython3",
      "version": "3.9.15"
    }
  }
}