{
  "cells": [
    {
      "cell_type": "markdown",
      "metadata": {},
      "source": [
        "# Numpy Pandas Basics\n",
        "\n",
        "R Yeeshu Dhurandhar, Nipun Batra  \n",
        "2023-12-31"
      ],
      "id": "ec16e812-70d7-4ef4-923d-1837ecc27fdd"
    },
    {
      "cell_type": "code",
      "execution_count": 2,
      "metadata": {},
      "outputs": [],
      "source": [
        "# importing necessary libraries\n",
        "import numpy as np\n",
        "import pandas as pd\n",
        "import time\n",
        "import matplotlib.pyplot as plt\n",
        "%matplotlib inline\n",
        "%config InlineBackend.figure_format = 'retina'"
      ],
      "id": "cell-1"
    },
    {
      "cell_type": "markdown",
      "metadata": {},
      "source": [
        "# Lists"
      ],
      "id": "14242eb8-97c4-4323-ac54-da3eb7802e3b"
    },
    {
      "cell_type": "code",
      "execution_count": 3,
      "metadata": {},
      "outputs": [],
      "source": [
        "# Creating lists\n",
        "list_a = [1, 2, 3, 4, 5]\n",
        "list_b = [6, 7, 8, 9, 10]"
      ],
      "id": "cell-3"
    },
    {
      "cell_type": "code",
      "execution_count": 4,
      "metadata": {},
      "outputs": [
        {
          "output_type": "stream",
          "name": "stdout",
          "text": [
            "List Sum: [7, 9, 11, 13, 15]\n",
            "Vector Product: [6, 14, 24, 36, 50]"
          ]
        }
      ],
      "source": [
        "# Operations on lists\n",
        "# Adding lists\n",
        "list_sum = [a + b for a, b in zip(list_a, list_b)]\n",
        "print(\"List Sum:\", list_sum)\n",
        "\n",
        "# Vector product using lists    \n",
        "vector_product = [a * b for a, b in zip(list_a, list_b)]\n",
        "print(\"Vector Product:\", vector_product)"
      ],
      "id": "cell-4"
    },
    {
      "cell_type": "markdown",
      "metadata": {},
      "source": [
        "# Numpy Array"
      ],
      "id": "2a4e89c3-3739-44a6-a03d-e2415c00b823"
    },
    {
      "cell_type": "code",
      "execution_count": 5,
      "metadata": {},
      "outputs": [],
      "source": [
        "# Creating numpy arrays\n",
        "numpy_array_a = np.array(list_a)\n",
        "numpy_array_b = np.array(list_b)"
      ],
      "id": "cell-6"
    },
    {
      "cell_type": "code",
      "execution_count": 6,
      "metadata": {},
      "outputs": [
        {
          "output_type": "stream",
          "name": "stdout",
          "text": [
            "Numpy Sum: [ 7  9 11 13 15]\n",
            "Numpy Vector Product: [ 6 14 24 36 50]"
          ]
        }
      ],
      "source": [
        "# Operations on numpy arrays\n",
        "# Adding numpy arrays\n",
        "numpy_sum = numpy_array_a + numpy_array_b\n",
        "print(\"Numpy Sum:\", numpy_sum)\n",
        "\n",
        "# Vector product using numpy arrays\n",
        "numpy_vector_product = np.multiply(numpy_array_a, numpy_array_b)\n",
        "print(\"Numpy Vector Product:\", numpy_vector_product)"
      ],
      "id": "cell-7"
    },
    {
      "cell_type": "code",
      "execution_count": 7,
      "metadata": {},
      "outputs": [
        {
          "output_type": "display_data",
          "metadata": {},
          "data": {
            "text/plain": [
              "(True, True)"
            ]
          }
        }
      ],
      "source": [
        "np.allclose(list_sum, numpy_sum), np.allclose(vector_product, numpy_vector_product)"
      ],
      "id": "cell-8"
    },
    {
      "cell_type": "markdown",
      "metadata": {},
      "source": [
        "# Time comparison between list and numpy array"
      ],
      "id": "288fdc5b-e652-48ad-9e73-9aa11d863718"
    },
    {
      "cell_type": "code",
      "execution_count": 8,
      "metadata": {},
      "outputs": [],
      "source": [
        "# Creating large arrays and lists for time comparison\n",
        "numpy_array_a = np.random.randint(0, 100, size=10000)\n",
        "numpy_array_b = np.random.randint(0, 100, size=10000)\n",
        "\n",
        "list_a = list(numpy_array_a)\n",
        "list_b = list(numpy_array_b)"
      ],
      "id": "cell-10"
    },
    {
      "cell_type": "code",
      "execution_count": 9,
      "metadata": {},
      "outputs": [
        {
          "output_type": "stream",
          "name": "stdout",
          "text": [
            "Time taken for lists addition: 0.5500102043151855\n",
            "Time taken for numpy addition: 0.0038487911224365234"
          ]
        }
      ],
      "source": [
        "# Time for list addition\n",
        "start_time = time.time()\n",
        "for _ in range(1000):\n",
        "    list_sum = [a + b for a, b in zip(list_a, list_b)]\n",
        "end_time = time.time()\n",
        "print(\"Time taken for lists addition:\", end_time - start_time)\n",
        "\n",
        "# Time for numpy addition\n",
        "start_time = time.time()\n",
        "for _ in range(1000):\n",
        "    numpy_sum = numpy_array_a + numpy_array_b\n",
        "end_time = time.time()\n",
        "print(\"Time taken for numpy addition:\", end_time - start_time)"
      ],
      "id": "cell-11"
    },
    {
      "cell_type": "code",
      "execution_count": 10,
      "metadata": {},
      "outputs": [
        {
          "output_type": "stream",
          "name": "stdout",
          "text": [
            "Time taken for list vector product: 5.371699571609497\n",
            "Time taken for numpy vector product: 0.047417640686035156"
          ]
        }
      ],
      "source": [
        "# Time for list vector product\n",
        "start_time = time.time()\n",
        "for _ in range(10000):\n",
        "    list_product = [a * b for a, b in zip(list_a, list_b)]\n",
        "\n",
        "end_time = time.time()\n",
        "print(\"Time taken for list vector product:\", end_time - start_time)\n",
        "\n",
        "# Time for numpy vector product \n",
        "start_time = time.time()\n",
        "for _ in range(10000):\n",
        "    numpy_product = np.multiply(numpy_array_a, numpy_array_b)\n",
        "\n",
        "end_time = time.time()\n",
        "print(\"Time taken for numpy vector product:\", end_time - start_time)"
      ],
      "id": "cell-12"
    },
    {
      "cell_type": "code",
      "execution_count": 11,
      "metadata": {},
      "outputs": [
        {
          "output_type": "display_data",
          "metadata": {},
          "data": {
            "text/plain": [
              "(True, True)"
            ]
          }
        }
      ],
      "source": [
        "np.allclose(list_sum, numpy_sum), np.allclose(vector_product, numpy_vector_product)"
      ],
      "id": "cell-13"
    },
    {
      "cell_type": "code",
      "execution_count": 12,
      "metadata": {},
      "outputs": [
        {
          "output_type": "stream",
          "name": "stdout",
          "text": [
            "542 µs ± 593 ns per loop (mean ± std. dev. of 7 runs, 1,000 loops each)"
          ]
        }
      ],
      "source": [
        "timeit_add_list = %timeit -o [a + b for a, b in zip(list_a, list_b)]"
      ],
      "id": "cell-14"
    },
    {
      "cell_type": "code",
      "execution_count": 13,
      "metadata": {},
      "outputs": [
        {
          "output_type": "stream",
          "name": "stdout",
          "text": [
            "3.5 µs ± 6.1 ns per loop (mean ± std. dev. of 7 runs, 100,000 loops each)"
          ]
        }
      ],
      "source": [
        "timeit_add_numpy = %timeit -o numpy_array_a + numpy_array_b"
      ],
      "id": "cell-15"
    },
    {
      "cell_type": "markdown",
      "metadata": {},
      "source": [
        "# Code clarity"
      ],
      "id": "c9b09fc4-1741-4370-b94b-b453e103f20b"
    },
    {
      "cell_type": "code",
      "execution_count": 14,
      "metadata": {},
      "outputs": [],
      "source": [
        "# Numpy code is often more concise and readable than list comprehensions\n",
        "# Example: Calculate the element-wise product of two lists\n",
        "list_product = [a * b for a, b in zip(list_a, list_b)]\n",
        "numpy_product = np.multiply(numpy_array_a, numpy_array_b)"
      ],
      "id": "cell-17"
    },
    {
      "cell_type": "code",
      "execution_count": 15,
      "metadata": {},
      "outputs": [
        {
          "output_type": "display_data",
          "metadata": {},
          "data": {
            "text/plain": [
              "array([5950, 1995,  264, ..., 2436,  928,  665])"
            ]
          }
        }
      ],
      "source": [
        "numpy_product"
      ],
      "id": "cell-18"
    },
    {
      "cell_type": "code",
      "execution_count": 16,
      "metadata": {},
      "outputs": [
        {
          "output_type": "display_data",
          "metadata": {},
          "data": {
            "text/plain": [
              "24470992"
            ]
          }
        }
      ],
      "source": [
        "numpy_array_a@numpy_array_b"
      ],
      "id": "cell-19"
    },
    {
      "cell_type": "markdown",
      "metadata": {},
      "source": [
        "# Reading CSV file using Numpy"
      ],
      "id": "2e4a32ec-ad86-41f5-b839-86cd624debd8"
    },
    {
      "cell_type": "code",
      "execution_count": 17,
      "metadata": {},
      "outputs": [
        {
          "output_type": "stream",
          "name": "stdout",
          "text": [
            "Day,Outlook,Temp,Humidity,Windy,Play\n",
            "D1,Sunny,Hot,High,Weak,No\n",
            "D2,Sunny,Hot,High,Strong,No\n",
            "D3,Overcast,Hot,High,Weak,Yes\n",
            "D4,Rain,Mild,High,Weak,Yes\n",
            "D5,Rain,Cool,Normal,Weak,Yes\n",
            "D6,Rain,Cool,Normal,Strong,No\n",
            "D7,Overcast,Cool,Normal,Strong,Yes\n",
            "D8,Sunny,Mild,High,Weak,No\n",
            "D9,Sunny,Cool,Normal,Weak,Yes"
          ]
        }
      ],
      "source": [
        "!head ../datasets/tennis-discrete-output.csv"
      ],
      "id": "cell-21"
    },
    {
      "cell_type": "code",
      "execution_count": 19,
      "metadata": {},
      "outputs": [],
      "source": [
        "np.genfromtxt?"
      ],
      "id": "cell-22"
    },
    {
      "cell_type": "code",
      "execution_count": 18,
      "metadata": {},
      "outputs": [
        {
          "output_type": "display_data",
          "metadata": {},
          "data": {
            "text/plain": [
              "array([[nan, nan, nan, nan, nan, nan],\n",
              "       [nan, nan, nan, nan, nan, nan],\n",
              "       [nan, nan, nan, nan, nan, nan],\n",
              "       [nan, nan, nan, nan, nan, nan],\n",
              "       [nan, nan, nan, nan, nan, nan],\n",
              "       [nan, nan, nan, nan, nan, nan],\n",
              "       [nan, nan, nan, nan, nan, nan],\n",
              "       [nan, nan, nan, nan, nan, nan],\n",
              "       [nan, nan, nan, nan, nan, nan],\n",
              "       [nan, nan, nan, nan, nan, nan],\n",
              "       [nan, nan, nan, nan, nan, nan],\n",
              "       [nan, nan, nan, nan, nan, nan],\n",
              "       [nan, nan, nan, nan, nan, nan],\n",
              "       [nan, nan, nan, nan, nan, nan],\n",
              "       [nan, nan, nan, nan, nan, nan]])"
            ]
          }
        }
      ],
      "source": [
        "data = np.genfromtxt('../datasets/tennis-discrete-output.csv', delimiter=',')\n",
        "data"
      ],
      "id": "cell-23"
    },
    {
      "cell_type": "markdown",
      "metadata": {},
      "source": [
        "Wait! What happened?"
      ],
      "id": "4b786f0e-1f2b-4705-9a4d-177861ca4b3b"
    },
    {
      "cell_type": "code",
      "execution_count": 23,
      "metadata": {},
      "outputs": [
        {
          "output_type": "display_data",
          "metadata": {},
          "data": {
            "text/plain": [
              "array([['Day', 'Outlook', 'Temp', 'Humidity', 'Windy', 'Play'],\n",
              "       ['D1', 'Sunny', 'Hot', 'High', 'Weak', 'No'],\n",
              "       ['D2', 'Sunny', 'Hot', 'High', 'Strong', 'No'],\n",
              "       ['D3', 'Overcast', 'Hot', 'High', 'Weak', 'Yes'],\n",
              "       ['D4', 'Rain', 'Mild', 'High', 'Weak', 'Yes'],\n",
              "       ['D5', 'Rain', 'Cool', 'Normal', 'Weak', 'Yes'],\n",
              "       ['D6', 'Rain', 'Cool', 'Normal', 'Strong', 'No'],\n",
              "       ['D7', 'Overcast', 'Cool', 'Normal', 'Strong', 'Yes'],\n",
              "       ['D8', 'Sunny', 'Mild', 'High', 'Weak', 'No'],\n",
              "       ['D9', 'Sunny', 'Cool', 'Normal', 'Weak', 'Yes'],\n",
              "       ['D10', 'Rain', 'Mild', 'Normal', 'Weak', 'Yes'],\n",
              "       ['D11', 'Sunny', 'Mild', 'Normal', 'Strong', 'Yes'],\n",
              "       ['D12', 'Overcast', 'Mild', 'High', 'Strong', 'Yes'],\n",
              "       ['D13', 'Overcast', 'Hot', 'Normal', 'Weak', 'Yes'],\n",
              "       ['D14', 'Rain', 'Mild', 'High', 'Strong', 'No']], dtype='<U8')"
            ]
          }
        }
      ],
      "source": [
        "data = np.genfromtxt('../datasets/tennis-discrete-output.csv', delimiter=',', dtype=str)\n",
        "data"
      ],
      "id": "cell-26"
    },
    {
      "cell_type": "code",
      "execution_count": 24,
      "metadata": {},
      "outputs": [
        {
          "output_type": "display_data",
          "metadata": {},
          "data": {
            "text/plain": [
              "(15, 6)"
            ]
          }
        }
      ],
      "source": [
        "data.shape"
      ],
      "id": "cell-27"
    },
    {
      "cell_type": "markdown",
      "metadata": {},
      "source": [
        "Question: Find the outlook on D11"
      ],
      "id": "048b3ec1-0ad0-420c-b667-eff6b36adbdb"
    },
    {
      "cell_type": "code",
      "execution_count": 25,
      "metadata": {},
      "outputs": [
        {
          "output_type": "display_data",
          "metadata": {},
          "data": {
            "text/plain": [
              "11"
            ]
          }
        }
      ],
      "source": [
        "idx = np.argwhere(data[:, 0] == 'D11')[0, 0]\n",
        "idx"
      ],
      "id": "cell-29"
    },
    {
      "cell_type": "code",
      "execution_count": 18,
      "metadata": {},
      "outputs": [
        {
          "output_type": "display_data",
          "metadata": {},
          "data": {
            "text/plain": [
              "array(['D11', 'Sunny', 'Mild', 'Normal', 'Strong', 'Yes'], dtype='<U8')"
            ]
          }
        }
      ],
      "source": [
        "data[idx]"
      ],
      "id": "cell-30"
    },
    {
      "cell_type": "code",
      "execution_count": 19,
      "metadata": {},
      "outputs": [
        {
          "output_type": "display_data",
          "metadata": {},
          "data": {
            "text/plain": [
              "'Sunny'"
            ]
          }
        }
      ],
      "source": [
        "data[idx][1]"
      ],
      "id": "cell-31"
    },
    {
      "cell_type": "markdown",
      "metadata": {},
      "source": [
        "# Reading CSV file using Pandas"
      ],
      "id": "9a5b7eaf-f35c-4a22-8ffb-ba9ae63c1376"
    },
    {
      "cell_type": "code",
      "execution_count": 32,
      "metadata": {},
      "outputs": [],
      "source": [
        "df = pd.read_csv('../datasets/tennis-discrete-output.csv')"
      ],
      "id": "cell-33"
    },
    {
      "cell_type": "code",
      "execution_count": 33,
      "metadata": {},
      "outputs": [
        {
          "output_type": "display_data",
          "metadata": {},
          "data": {
            "text/html": [
              "\n",
              "</div>"
            ]
          }
        }
      ],
      "source": [
        "df"
      ],
      "id": "cell-34"
    },
    {
      "cell_type": "code",
      "execution_count": 34,
      "metadata": {},
      "outputs": [
        {
          "output_type": "display_data",
          "metadata": {},
          "data": {
            "text/plain": [
              "0     False\n",
              "1     False\n",
              "2     False\n",
              "3     False\n",
              "4     False\n",
              "5     False\n",
              "6     False\n",
              "7     False\n",
              "8     False\n",
              "9     False\n",
              "10     True\n",
              "11    False\n",
              "12    False\n",
              "13    False\n",
              "Name: Day, dtype: bool"
            ]
          }
        }
      ],
      "source": [
        "df['Day'] == 'D11'"
      ],
      "id": "cell-35"
    },
    {
      "cell_type": "code",
      "execution_count": 35,
      "metadata": {},
      "outputs": [
        {
          "output_type": "display_data",
          "metadata": {},
          "data": {
            "text/html": [
              "\n",
              "</div>"
            ]
          }
        }
      ],
      "source": [
        "df[df['Day'] == 'D11']"
      ],
      "id": "cell-36"
    },
    {
      "cell_type": "code",
      "execution_count": 65,
      "metadata": {},
      "outputs": [
        {
          "output_type": "display_data",
          "metadata": {},
          "data": {
            "text/plain": [
              "10    Sunny\n",
              "Name: Outlook, dtype: object"
            ]
          }
        }
      ],
      "source": [
        "df[df['Day'] == 'D11']['Outlook']"
      ],
      "id": "cell-37"
    },
    {
      "cell_type": "code",
      "execution_count": 66,
      "metadata": {},
      "outputs": [
        {
          "output_type": "display_data",
          "metadata": {},
          "data": {
            "text/plain": [
              "10    Sunny\n",
              "Name: Outlook, dtype: object"
            ]
          }
        }
      ],
      "source": [
        "df.query('Day == \"D11\"')['Outlook']"
      ],
      "id": "cell-38"
    },
    {
      "cell_type": "code",
      "execution_count": 36,
      "metadata": {},
      "outputs": [
        {
          "output_type": "display_data",
          "metadata": {},
          "data": {
            "text/plain": [
              "(14, 6)"
            ]
          }
        }
      ],
      "source": [
        "df.shape"
      ],
      "id": "cell-39"
    },
    {
      "cell_type": "markdown",
      "metadata": {},
      "source": [
        "Question. How many times do we play v/s not play tennis"
      ],
      "id": "1461cde9-9cf2-4695-8f77-f1079c56369f"
    },
    {
      "cell_type": "code",
      "execution_count": 44,
      "metadata": {},
      "outputs": [
        {
          "output_type": "display_data",
          "metadata": {},
          "data": {
            "text/plain": [
              "0      No\n",
              "1      No\n",
              "2     Yes\n",
              "3     Yes\n",
              "4     Yes\n",
              "5      No\n",
              "6     Yes\n",
              "7      No\n",
              "8     Yes\n",
              "9     Yes\n",
              "10    Yes\n",
              "11    Yes\n",
              "12    Yes\n",
              "13     No\n",
              "Name: Play, dtype: object"
            ]
          }
        }
      ],
      "source": [
        "ser = df['Play']\n",
        "ser"
      ],
      "id": "cell-41"
    },
    {
      "cell_type": "code",
      "execution_count": 40,
      "metadata": {},
      "outputs": [
        {
          "output_type": "display_data",
          "metadata": {},
          "data": {
            "text/plain": [
              "array(['No', 'Yes'], dtype=object)"
            ]
          }
        }
      ],
      "source": [
        "unique_play_options = df['Play'].unique()\n",
        "unique_play_options"
      ],
      "id": "cell-42"
    },
    {
      "cell_type": "code",
      "execution_count": 41,
      "metadata": {},
      "outputs": [
        {
          "output_type": "stream",
          "name": "stdout",
          "text": [
            "No 5\n",
            "Yes 9"
          ]
        }
      ],
      "source": [
        "for option in unique_play_options:\n",
        "    print(option, (df['Play'] == option).sum())\n"
      ],
      "id": "cell-43"
    },
    {
      "cell_type": "code",
      "execution_count": 42,
      "metadata": {},
      "outputs": [
        {
          "output_type": "display_data",
          "metadata": {},
          "data": {
            "text/plain": [
              "Play\n",
              "Yes    9\n",
              "No     5\n",
              "Name: count, dtype: int64"
            ]
          }
        }
      ],
      "source": [
        "df['Play'].value_counts()"
      ],
      "id": "cell-44"
    },
    {
      "cell_type": "code",
      "execution_count": 46,
      "metadata": {},
      "outputs": [
        {
          "output_type": "display_data",
          "metadata": {},
          "data": {
            "text/plain": [
              "Play\n",
              "No     5\n",
              "Yes    9\n",
              "dtype: int64"
            ]
          }
        }
      ],
      "source": [
        "df.groupby('Play').size()"
      ],
      "id": "cell-45"
    },
    {
      "cell_type": "code",
      "execution_count": 48,
      "metadata": {},
      "outputs": [],
      "source": [
        "gby = df.groupby('Play')"
      ],
      "id": "cell-46"
    },
    {
      "cell_type": "code",
      "execution_count": 51,
      "metadata": {},
      "outputs": [
        {
          "output_type": "display_data",
          "metadata": {},
          "data": {
            "text/plain": [
              "{'No': 5, 'Yes': 9}"
            ]
          }
        }
      ],
      "source": [
        "{k: len(v) for k, v in gby.groups.items()}"
      ],
      "id": "cell-47"
    },
    {
      "cell_type": "code",
      "execution_count": 52,
      "metadata": {},
      "outputs": [
        {
          "output_type": "display_data",
          "metadata": {},
          "data": {
            "text/html": [
              "\n",
              "</div>"
            ]
          }
        }
      ],
      "source": [
        "pd.crosstab(index=df['Play'], columns='count')"
      ],
      "id": "cell-48"
    },
    {
      "cell_type": "markdown",
      "metadata": {},
      "source": [
        "What is the distribution of any given attribute?"
      ],
      "id": "3af88fe1-e4d9-4ed0-9bd3-068534650c89"
    },
    {
      "cell_type": "code",
      "execution_count": 53,
      "metadata": {},
      "outputs": [],
      "source": [
        "def distribution(df, attribute):\n",
        "    return df[attribute].value_counts()"
      ],
      "id": "cell-50"
    },
    {
      "cell_type": "code",
      "execution_count": 55,
      "metadata": {},
      "outputs": [],
      "source": [
        "ser = distribution(df, 'Outlook')"
      ],
      "id": "cell-51"
    },
    {
      "cell_type": "code",
      "execution_count": 56,
      "metadata": {},
      "outputs": [
        {
          "output_type": "display_data",
          "metadata": {},
          "data": {
            "text/plain": [
              "Outlook\n",
              "Sunny       5\n",
              "Rain        5\n",
              "Overcast    4\n",
              "Name: count, dtype: int64"
            ]
          }
        }
      ],
      "source": [
        "ser"
      ],
      "id": "cell-52"
    },
    {
      "cell_type": "code",
      "execution_count": 57,
      "metadata": {},
      "outputs": [
        {
          "output_type": "display_data",
          "metadata": {},
          "data": {
            "text/plain": [
              "pandas.core.series.Series"
            ]
          }
        }
      ],
      "source": [
        "type(ser)"
      ],
      "id": "cell-53"
    },
    {
      "cell_type": "code",
      "execution_count": 58,
      "metadata": {},
      "outputs": [
        {
          "output_type": "display_data",
          "metadata": {},
          "data": {
            "text/plain": [
              "array([5, 5, 4])"
            ]
          }
        }
      ],
      "source": [
        "ser.values"
      ],
      "id": "cell-54"
    },
    {
      "cell_type": "code",
      "execution_count": 59,
      "metadata": {},
      "outputs": [
        {
          "output_type": "display_data",
          "metadata": {},
          "data": {
            "text/plain": [
              "Index(['Sunny', 'Rain', 'Overcast'], dtype='object', name='Outlook')"
            ]
          }
        }
      ],
      "source": [
        "ser.index"
      ],
      "id": "cell-55"
    },
    {
      "cell_type": "code",
      "execution_count": 29,
      "metadata": {},
      "outputs": [
        {
          "output_type": "display_data",
          "metadata": {},
          "data": {
            "text/plain": [
              "Temp\n",
              "Mild    6\n",
              "Hot     4\n",
              "Cool    4\n",
              "Name: count, dtype: int64"
            ]
          }
        }
      ],
      "source": [
        "distribution(df, 'Temp')"
      ],
      "id": "cell-56"
    },
    {
      "cell_type": "markdown",
      "metadata": {},
      "source": [
        "Finding entropy for target variable"
      ],
      "id": "7849ea19-e070-4918-bb52-ca7a01cf590e"
    },
    {
      "cell_type": "code",
      "execution_count": 60,
      "metadata": {},
      "outputs": [],
      "source": [
        "target_attribute = 'Play'\n",
        "dist_target = distribution(df, target_attribute)"
      ],
      "id": "cell-58"
    },
    {
      "cell_type": "code",
      "execution_count": 61,
      "metadata": {},
      "outputs": [
        {
          "output_type": "display_data",
          "metadata": {},
          "data": {
            "text/plain": [
              "Play\n",
              "Yes    9\n",
              "No     5\n",
              "Name: count, dtype: int64"
            ]
          }
        }
      ],
      "source": [
        "dist_target"
      ],
      "id": "cell-59"
    },
    {
      "cell_type": "markdown",
      "metadata": {},
      "source": [
        "Normalize distribution"
      ],
      "id": "86bd19e9-ad51-40c6-a2c2-b668c74a0577"
    },
    {
      "cell_type": "code",
      "execution_count": 32,
      "metadata": {},
      "outputs": [
        {
          "output_type": "display_data",
          "metadata": {},
          "data": {
            "text/plain": [
              "Play\n",
              "Yes    0.642857\n",
              "No     0.357143\n",
              "Name: count, dtype: float64"
            ]
          }
        }
      ],
      "source": [
        "dist_target/dist_target.sum()"
      ],
      "id": "cell-61"
    },
    {
      "cell_type": "code",
      "execution_count": 33,
      "metadata": {},
      "outputs": [
        {
          "output_type": "display_data",
          "metadata": {},
          "data": {
            "text/plain": [
              "Play\n",
              "Yes    0.642857\n",
              "No     0.357143\n",
              "Name: proportion, dtype: float64"
            ]
          }
        }
      ],
      "source": [
        "df['Play'].value_counts(normalize=True)"
      ],
      "id": "cell-62"
    },
    {
      "cell_type": "code",
      "execution_count": 63,
      "metadata": {},
      "outputs": [],
      "source": [
        "normalized_dist_target = dist_target/dist_target.sum()"
      ],
      "id": "cell-63"
    },
    {
      "cell_type": "markdown",
      "metadata": {},
      "source": [
        "For loop way of calculating entropy"
      ],
      "id": "3e2ee268-8ee6-4a05-b277-36c552767a67"
    },
    {
      "cell_type": "code",
      "execution_count": 64,
      "metadata": {},
      "outputs": [
        {
          "output_type": "stream",
          "name": "stdout",
          "text": [
            "0.9402830732836911"
          ]
        }
      ],
      "source": [
        "e = 0.0\n",
        "for value, p in normalized_dist_target.items():\n",
        "    e = e - p * np.log2(p + 1e-6) # 1e-6 is added to avoid log(0)\n",
        "print(e)"
      ],
      "id": "cell-65"
    },
    {
      "cell_type": "code",
      "execution_count": 65,
      "metadata": {},
      "outputs": [
        {
          "output_type": "display_data",
          "metadata": {},
          "data": {
            "text/plain": [
              "Play\n",
              "Yes    0.409775\n",
              "No     0.530508\n",
              "Name: count, dtype: float64"
            ]
          }
        }
      ],
      "source": [
        "normalized_dist_target.apply(lambda x: -x * np.log2(x + 1e-6))"
      ],
      "id": "cell-66"
    },
    {
      "cell_type": "code",
      "execution_count": 36,
      "metadata": {},
      "outputs": [
        {
          "output_type": "display_data",
          "metadata": {},
          "data": {
            "text/plain": [
              "0.9402830732836911"
            ]
          }
        }
      ],
      "source": [
        "normalized_dist_target.apply(lambda x: -x * np.log2(x + 1e-6)).sum()"
      ],
      "id": "cell-67"
    },
    {
      "cell_type": "markdown",
      "metadata": {},
      "source": [
        "More on crosstab"
      ],
      "id": "bb2a7b6a-07cc-4e78-abf0-2aef5d460d3d"
    },
    {
      "cell_type": "code",
      "execution_count": 37,
      "metadata": {},
      "outputs": [
        {
          "output_type": "display_data",
          "metadata": {},
          "data": {
            "text/html": [
              "\n",
              "</div>"
            ]
          }
        }
      ],
      "source": [
        "pd.crosstab(index=df['Outlook'], columns=df['Play'])"
      ],
      "id": "cell-69"
    },
    {
      "cell_type": "code",
      "execution_count": 38,
      "metadata": {},
      "outputs": [
        {
          "output_type": "display_data",
          "metadata": {},
          "data": {
            "text/html": [
              "\n",
              "</div>"
            ]
          }
        }
      ],
      "source": [
        "pd.crosstab(index=df['Outlook'], columns=df['Play']).T"
      ],
      "id": "cell-70"
    },
    {
      "cell_type": "code",
      "execution_count": 70,
      "metadata": {},
      "outputs": [
        {
          "output_type": "display_data",
          "metadata": {},
          "data": {
            "text/html": [
              "\n",
              "</div>"
            ]
          }
        }
      ],
      "source": [
        "df_attr = pd.crosstab(index=df['Play'], columns=df['Outlook'], normalize='columns')\n",
        "df_attr"
      ],
      "id": "cell-71"
    },
    {
      "cell_type": "markdown",
      "metadata": {},
      "source": [
        "Using groupby"
      ],
      "id": "cb39d562-dbb3-4af2-b026-d90c8de7dbfc"
    },
    {
      "cell_type": "code",
      "execution_count": 71,
      "metadata": {},
      "outputs": [
        {
          "output_type": "display_data",
          "metadata": {},
          "data": {
            "text/plain": [
              "Play  Outlook \n",
              "No    Rain        2\n",
              "      Sunny       3\n",
              "Yes   Overcast    4\n",
              "      Rain        3\n",
              "      Sunny       2\n",
              "dtype: int64"
            ]
          }
        }
      ],
      "source": [
        "df.groupby(['Play', 'Outlook']).size()"
      ],
      "id": "cell-73"
    },
    {
      "cell_type": "code",
      "execution_count": 72,
      "metadata": {},
      "outputs": [
        {
          "output_type": "display_data",
          "metadata": {},
          "data": {
            "text/plain": [
              "MultiIndex([( 'No',     'Rain'),\n",
              "            ( 'No',    'Sunny'),\n",
              "            ('Yes', 'Overcast'),\n",
              "            ('Yes',     'Rain'),\n",
              "            ('Yes',    'Sunny')],\n",
              "           names=['Play', 'Outlook'])"
            ]
          }
        }
      ],
      "source": [
        "df.groupby(['Play', 'Outlook']).size().index"
      ],
      "id": "cell-74"
    },
    {
      "cell_type": "code",
      "execution_count": 73,
      "metadata": {},
      "outputs": [
        {
          "output_type": "display_data",
          "metadata": {},
          "data": {
            "text/html": [
              "\n",
              "</div>"
            ]
          }
        }
      ],
      "source": [
        "df.groupby(['Play', 'Outlook']).size().unstack('Outlook')"
      ],
      "id": "cell-75"
    },
    {
      "cell_type": "code",
      "execution_count": 74,
      "metadata": {},
      "outputs": [
        {
          "output_type": "display_data",
          "metadata": {},
          "data": {
            "text/html": [
              "\n",
              "</div>"
            ]
          }
        }
      ],
      "source": [
        "df_attr_groupby = df.groupby(['Play', 'Outlook']).size().unstack('Outlook').fillna(0)\n",
        "df_attr_groupby"
      ],
      "id": "cell-76"
    },
    {
      "cell_type": "markdown",
      "metadata": {},
      "source": [
        "Apply"
      ],
      "id": "c988e118-c7fd-47f4-9701-5a6785b90c6b"
    },
    {
      "cell_type": "code",
      "execution_count": 75,
      "metadata": {},
      "outputs": [
        {
          "output_type": "display_data",
          "metadata": {},
          "data": {
            "text/html": [
              "\n",
              "</div>"
            ]
          }
        }
      ],
      "source": [
        "neg_plogp = df_attr.apply(lambda x: -x * np.log2(x + 1e-6), axis=0)\n",
        "neg_plogp"
      ],
      "id": "cell-78"
    },
    {
      "cell_type": "code",
      "execution_count": 76,
      "metadata": {},
      "outputs": [
        {
          "output_type": "display_data",
          "metadata": {},
          "data": {
            "text/plain": [
              "Outlook\n",
              "Overcast   -0.000001\n",
              "Rain        0.970948\n",
              "Sunny       0.970948\n",
              "dtype: float64"
            ]
          }
        }
      ],
      "source": [
        "neg_plogp.sum(axis=0).sort_index()"
      ],
      "id": "cell-79"
    },
    {
      "cell_type": "code",
      "execution_count": 77,
      "metadata": {},
      "outputs": [
        {
          "output_type": "display_data",
          "metadata": {},
          "data": {
            "text/plain": [
              "Outlook\n",
              "Sunny       0.357143\n",
              "Rain        0.357143\n",
              "Overcast    0.285714\n",
              "Name: count, dtype: float64"
            ]
          }
        }
      ],
      "source": [
        "df_attr_dist = distribution(df, 'Outlook')\n",
        "norm_attr_dist = df_attr_dist/df_attr_dist.sum()\n",
        "norm_attr_dist"
      ],
      "id": "cell-80"
    },
    {
      "cell_type": "code",
      "execution_count": 78,
      "metadata": {},
      "outputs": [
        {
          "output_type": "display_data",
          "metadata": {},
          "data": {
            "text/plain": [
              "0.6935336657070463"
            ]
          }
        }
      ],
      "source": [
        "(norm_attr_dist*neg_plogp.sum(axis=0).sort_index()).sum()"
      ],
      "id": "cell-81"
    }
  ],
  "nbformat": 4,
  "nbformat_minor": 5,
  "metadata": {
    "kernelspec": {
      "name": "python3",
      "display_name": "pml",
      "language": "python"
    },
    "language_info": {
      "name": "python",
      "codemirror_mode": {
        "name": "ipython",
        "version": "3"
      },
      "file_extension": ".py",
      "mimetype": "text/x-python",
      "nbconvert_exporter": "python",
      "pygments_lexer": "ipython3",
      "version": "3.9.7"
    }
  }
}