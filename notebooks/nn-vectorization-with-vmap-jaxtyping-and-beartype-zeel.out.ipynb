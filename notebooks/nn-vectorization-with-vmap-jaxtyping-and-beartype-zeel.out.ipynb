{
  "cells": [
    {
      "cell_type": "markdown",
      "metadata": {},
      "source": [
        "# Introduction to Neural Networks\n",
        "\n",
        "## Imports"
      ],
      "id": "f3467d34-8e92-4a5b-9d52-b9bd5901268b"
    },
    {
      "cell_type": "code",
      "execution_count": 1,
      "metadata": {},
      "outputs": [],
      "source": [
        "import torch\n",
        "import torch.nn as nn\n",
        "import torch.nn.functional as F"
      ],
      "id": "cell-3"
    },
    {
      "cell_type": "markdown",
      "metadata": {},
      "source": [
        "## Convention"
      ],
      "id": "95d5142f-f273-4db3-b5da-9ff4fe96fd91"
    },
    {
      "cell_type": "code",
      "execution_count": 3,
      "metadata": {},
      "outputs": [
        {
          "output_type": "display_data",
          "metadata": {},
          "data": {
            "text/plain": [
              "Linear(in_features=3, out_features=2, bias=True)"
            ]
          }
        }
      ],
      "source": [
        "n0 = 3\n",
        "n1 = 2\n",
        "layer = nn.Linear(n0, n1)\n",
        "layer"
      ],
      "id": "cell-5"
    },
    {
      "cell_type": "code",
      "execution_count": 4,
      "metadata": {},
      "outputs": [
        {
          "output_type": "display_data",
          "metadata": {},
          "data": {
            "text/plain": [
              "torch.Size([2, 3])"
            ]
          }
        }
      ],
      "source": [
        "layer.weight.shape"
      ],
      "id": "cell-6"
    },
    {
      "cell_type": "code",
      "execution_count": 5,
      "metadata": {},
      "outputs": [
        {
          "output_type": "display_data",
          "metadata": {},
          "data": {
            "text/plain": [
              "torch.Size([2])"
            ]
          }
        }
      ],
      "source": [
        "layer.bias.shape"
      ],
      "id": "cell-7"
    },
    {
      "cell_type": "code",
      "execution_count": 6,
      "metadata": {},
      "outputs": [
        {
          "output_type": "stream",
          "name": "stdout",
          "text": [
            "tensor(-0.0279, grad_fn=<SelectBackward0>)\n",
            "tensor(0.0743, grad_fn=<SelectBackward0>)\n",
            "tensor(-0.1339, grad_fn=<SelectBackward0>)"
          ]
        }
      ],
      "source": [
        "for i in range(n0):\n",
        "    print(layer.weight[0, i])"
      ],
      "id": "cell-8"
    },
    {
      "cell_type": "markdown",
      "metadata": {},
      "source": [
        "### A 2-layer network"
      ],
      "id": "f149b122-94e1-41da-bb47-d27bda192f58"
    },
    {
      "cell_type": "code",
      "execution_count": 7,
      "metadata": {},
      "outputs": [],
      "source": [
        "mlp_2layers = nn.Sequential(\n",
        "    nn.Linear(4, 3),\n",
        "    nn.ReLU(),\n",
        "    nn.Linear(3, 2),\n",
        "    nn.ReLU(),\n",
        "    nn.Linear(2, 1)\n",
        ")"
      ],
      "id": "cell-10"
    },
    {
      "cell_type": "code",
      "execution_count": 8,
      "metadata": {},
      "outputs": [
        {
          "output_type": "display_data",
          "metadata": {},
          "data": {
            "text/plain": [
              "{'0.weight': torch.Size([3, 4]),\n",
              " '0.bias': torch.Size([3]),\n",
              " '2.weight': torch.Size([2, 3]),\n",
              " '2.bias': torch.Size([2]),\n",
              " '4.weight': torch.Size([1, 2]),\n",
              " '4.bias': torch.Size([1])}"
            ]
          }
        }
      ],
      "source": [
        "params = dict(mlp_2layers.named_parameters())\n",
        "{name: param.shape for name, param in params.items()}"
      ],
      "id": "cell-11"
    },
    {
      "cell_type": "markdown",
      "metadata": {},
      "source": [
        "## Vectorization with `torch.vmap`"
      ],
      "id": "8a308980-26c9-499d-977c-821b63a5137a"
    },
    {
      "cell_type": "code",
      "execution_count": 9,
      "metadata": {},
      "outputs": [],
      "source": [
        "from jaxtyping import Float\n",
        "from torch import Tensor\n",
        "from beartype import beartype"
      ],
      "id": "cell-13"
    },
    {
      "cell_type": "markdown",
      "metadata": {},
      "source": [
        "### Quick intro to jaxtyping\n",
        "\n",
        "#### Scalars"
      ],
      "id": "7d8ac896-5b91-4a31-afa3-6dca6423e0f7"
    },
    {
      "cell_type": "code",
      "execution_count": 10,
      "metadata": {},
      "outputs": [],
      "source": [
        "scalar_type = Float[Tensor, \"\"]"
      ],
      "id": "cell-16"
    },
    {
      "cell_type": "code",
      "execution_count": 11,
      "metadata": {},
      "outputs": [
        {
          "output_type": "display_data",
          "metadata": {},
          "data": {
            "text/plain": [
              "torch.Size([])"
            ]
          }
        }
      ],
      "source": [
        "scalar = torch.tensor(1.0)\n",
        "scalar.shape"
      ],
      "id": "cell-17"
    },
    {
      "cell_type": "code",
      "execution_count": 12,
      "metadata": {},
      "outputs": [
        {
          "output_type": "display_data",
          "metadata": {},
          "data": {
            "text/plain": [
              "True"
            ]
          }
        }
      ],
      "source": [
        "isinstance(scalar, scalar_type)"
      ],
      "id": "cell-18"
    },
    {
      "cell_type": "code",
      "execution_count": 13,
      "metadata": {},
      "outputs": [
        {
          "output_type": "display_data",
          "metadata": {},
          "data": {
            "text/plain": [
              "torch.Size([1])"
            ]
          }
        }
      ],
      "source": [
        "non_scalar = torch.tensor([1.0])\n",
        "non_scalar.shape"
      ],
      "id": "cell-19"
    },
    {
      "cell_type": "code",
      "execution_count": 14,
      "metadata": {},
      "outputs": [
        {
          "output_type": "display_data",
          "metadata": {},
          "data": {
            "text/plain": [
              "False"
            ]
          }
        }
      ],
      "source": [
        "isinstance(non_scalar, scalar_type)"
      ],
      "id": "cell-20"
    },
    {
      "cell_type": "markdown",
      "metadata": {},
      "source": [
        "#### Vectors"
      ],
      "id": "8ff97510-a8cc-42ff-a035-cae6ff06c06c"
    },
    {
      "cell_type": "code",
      "execution_count": 19,
      "metadata": {},
      "outputs": [],
      "source": [
        "vector_type = Float[Tensor, \"n0\"]"
      ],
      "id": "cell-22"
    },
    {
      "cell_type": "code",
      "execution_count": 20,
      "metadata": {},
      "outputs": [
        {
          "output_type": "display_data",
          "metadata": {},
          "data": {
            "text/plain": [
              "True"
            ]
          }
        }
      ],
      "source": [
        "isinstance(non_scalar, vector_type)"
      ],
      "id": "cell-23"
    },
    {
      "cell_type": "code",
      "execution_count": 21,
      "metadata": {},
      "outputs": [
        {
          "output_type": "display_data",
          "metadata": {},
          "data": {
            "text/plain": [
              "torch.Size([2])"
            ]
          }
        }
      ],
      "source": [
        "vector = torch.tensor([1.0, 2.0])\n",
        "vector.shape"
      ],
      "id": "cell-24"
    },
    {
      "cell_type": "code",
      "execution_count": 22,
      "metadata": {},
      "outputs": [
        {
          "output_type": "display_data",
          "metadata": {},
          "data": {
            "text/plain": [
              "True"
            ]
          }
        }
      ],
      "source": [
        "isinstance(vector, vector_type)"
      ],
      "id": "cell-25"
    },
    {
      "cell_type": "markdown",
      "metadata": {},
      "source": [
        "#### Matrices"
      ],
      "id": "10d3eec8-b583-4d97-8d00-f8ff7a08668b"
    },
    {
      "cell_type": "code",
      "execution_count": 24,
      "metadata": {},
      "outputs": [],
      "source": [
        "matrix_type = Float[Tensor, \"n0 n1\"]"
      ],
      "id": "cell-27"
    },
    {
      "cell_type": "code",
      "execution_count": 25,
      "metadata": {},
      "outputs": [
        {
          "output_type": "display_data",
          "metadata": {},
          "data": {
            "text/plain": [
              "False"
            ]
          }
        }
      ],
      "source": [
        "isinstance(vector, matrix_type)"
      ],
      "id": "cell-28"
    },
    {
      "cell_type": "code",
      "execution_count": 26,
      "metadata": {},
      "outputs": [
        {
          "output_type": "display_data",
          "metadata": {},
          "data": {
            "text/plain": [
              "torch.Size([1, 2])"
            ]
          }
        }
      ],
      "source": [
        "matrix = torch.tensor([[1.0, 2.0]])\n",
        "matrix.shape"
      ],
      "id": "cell-29"
    },
    {
      "cell_type": "code",
      "execution_count": 27,
      "metadata": {},
      "outputs": [
        {
          "output_type": "display_data",
          "metadata": {},
          "data": {
            "text/plain": [
              "True"
            ]
          }
        }
      ],
      "source": [
        "isinstance(matrix, matrix_type)"
      ],
      "id": "cell-30"
    },
    {
      "cell_type": "code",
      "execution_count": 28,
      "metadata": {},
      "outputs": [
        {
          "output_type": "display_data",
          "metadata": {},
          "data": {
            "text/plain": [
              "torch.Size([2, 3])"
            ]
          }
        }
      ],
      "source": [
        "another_matrix = torch.tensor([[1.0, 2.0, 3.0], [4.0, 5.0, 6.0]])\n",
        "another_matrix.shape"
      ],
      "id": "cell-31"
    },
    {
      "cell_type": "code",
      "execution_count": 29,
      "metadata": {},
      "outputs": [
        {
          "output_type": "display_data",
          "metadata": {},
          "data": {
            "text/plain": [
              "True"
            ]
          }
        }
      ],
      "source": [
        "isinstance(another_matrix, matrix_type)"
      ],
      "id": "cell-32"
    },
    {
      "cell_type": "markdown",
      "metadata": {},
      "source": [
        "#### Tensors"
      ],
      "id": "09c0021e-37f5-468b-a2b2-70df10725bd3"
    },
    {
      "cell_type": "code",
      "execution_count": 31,
      "metadata": {},
      "outputs": [],
      "source": [
        "tensor_type = Float[Tensor, \"n0 n1 n2\"]"
      ],
      "id": "cell-34"
    },
    {
      "cell_type": "code",
      "execution_count": 32,
      "metadata": {},
      "outputs": [
        {
          "output_type": "display_data",
          "metadata": {},
          "data": {
            "text/plain": [
              "torch.Size([2, 2, 2])"
            ]
          }
        }
      ],
      "source": [
        "tensor = torch.tensor([[[1.0, 2.0], [3.0, 4.0]], [[5.0, 6.0], [7.0, 8.0]]])\n",
        "tensor.shape"
      ],
      "id": "cell-35"
    },
    {
      "cell_type": "code",
      "execution_count": 33,
      "metadata": {},
      "outputs": [
        {
          "output_type": "display_data",
          "metadata": {},
          "data": {
            "text/plain": [
              "True"
            ]
          }
        }
      ],
      "source": [
        "isinstance(tensor, tensor_type)"
      ],
      "id": "cell-36"
    },
    {
      "cell_type": "markdown",
      "metadata": {},
      "source": [
        "### Quick intro to beartype"
      ],
      "id": "5a55ab02-26c5-407b-bca4-99f39166ed94"
    },
    {
      "cell_type": "code",
      "execution_count": 34,
      "metadata": {},
      "outputs": [],
      "source": [
        "def call_my_name(name):\n",
        "    return f\"Hello, {name}!\""
      ],
      "id": "cell-38"
    },
    {
      "cell_type": "code",
      "execution_count": 35,
      "metadata": {},
      "outputs": [
        {
          "output_type": "display_data",
          "metadata": {},
          "data": {
            "text/plain": [
              "'Hello, John!'"
            ]
          }
        }
      ],
      "source": [
        "call_my_name(\"John\")"
      ],
      "id": "cell-39"
    },
    {
      "cell_type": "code",
      "execution_count": 36,
      "metadata": {},
      "outputs": [
        {
          "output_type": "display_data",
          "metadata": {},
          "data": {
            "text/plain": [
              "'Hello, 123!'"
            ]
          }
        }
      ],
      "source": [
        "call_my_name(123)"
      ],
      "id": "cell-40"
    },
    {
      "cell_type": "code",
      "execution_count": 37,
      "metadata": {},
      "outputs": [],
      "source": [
        "@beartype\n",
        "def secured_call_my_name(name: str) -> str:\n",
        "    return f\"Hello, {name}!\""
      ],
      "id": "cell-41"
    },
    {
      "cell_type": "code",
      "execution_count": 38,
      "metadata": {},
      "outputs": [
        {
          "output_type": "display_data",
          "metadata": {},
          "data": {
            "text/plain": [
              "'Hello, John!'"
            ]
          }
        }
      ],
      "source": [
        "secured_call_my_name(\"John\")"
      ],
      "id": "cell-42"
    },
    {
      "cell_type": "code",
      "execution_count": 39,
      "metadata": {},
      "outputs": [],
      "source": [
        "secured_call_my_name(123)"
      ],
      "id": "cell-43"
    },
    {
      "cell_type": "markdown",
      "metadata": {},
      "source": [
        "### Vectorization\n",
        "\n",
        "On which dimensions should we apply the vectorization? - Current layer’s\n",
        "neurons size - Number of examples"
      ],
      "id": "4eb12268-ebd8-4e66-8e34-8ace1594ddb4"
    },
    {
      "cell_type": "code",
      "execution_count": 41,
      "metadata": {},
      "outputs": [
        {
          "output_type": "display_data",
          "metadata": {},
          "data": {
            "text/plain": [
              "torch.Size([50, 3])"
            ]
          }
        }
      ],
      "source": [
        "n = 50\n",
        "a = torch.rand(n, n0)\n",
        "a.shape"
      ],
      "id": "cell-46"
    },
    {
      "cell_type": "code",
      "execution_count": 42,
      "metadata": {},
      "outputs": [],
      "source": [
        "activation = F.relu\n",
        "\n",
        "@beartype\n",
        "def forward(a: Float[Tensor, \"n0\"], w: Float[Tensor, \"n0\"], b: Float[Tensor, \"\"]) -> Float[Tensor, \"\"]:\n",
        "    z = (a * w).sum() + b  # () + () -> ()\n",
        "    a = activation(z)  # () -> ()\n",
        "    return a  # ()"
      ],
      "id": "cell-47"
    },
    {
      "cell_type": "code",
      "execution_count": 43,
      "metadata": {},
      "outputs": [
        {
          "output_type": "stream",
          "name": "stdout",
          "text": [
            "torch.Size([3]) torch.Size([3]) torch.Size([])"
          ]
        }
      ],
      "source": [
        "dummy_a = torch.rand(n0)\n",
        "dummy_w = torch.rand(n0)\n",
        "dummy_b = torch.rand(())\n",
        "print(dummy_a.shape, dummy_w.shape, dummy_b.shape)"
      ],
      "id": "cell-48"
    },
    {
      "cell_type": "code",
      "execution_count": 44,
      "metadata": {},
      "outputs": [
        {
          "output_type": "display_data",
          "metadata": {},
          "data": {
            "text/plain": [
              "torch.Size([])"
            ]
          }
        }
      ],
      "source": [
        "forward(dummy_a, dummy_w, dummy_b).shape"
      ],
      "id": "cell-49"
    },
    {
      "cell_type": "code",
      "execution_count": 46,
      "metadata": {},
      "outputs": [
        {
          "output_type": "display_data",
          "metadata": {},
          "data": {
            "text/plain": [
              "tensor(0.1544, grad_fn=<ReluBackward0>)"
            ]
          }
        }
      ],
      "source": [
        "forward(a[0], layer.weight[0], layer.bias[0])"
      ],
      "id": "cell-50"
    },
    {
      "cell_type": "markdown",
      "metadata": {},
      "source": [
        "#### Vectorization over current layer’s neurons size\n",
        "\n",
        "| input  | shape in forward | shape in vectorized forward |\n",
        "|--------|------------------|-----------------------------|\n",
        "| a      | \\[n0=3\\]         | \\[n0=3\\]                    |\n",
        "| w      | \\[n0=3\\]         | \\[n1=2, n0=3\\]              |\n",
        "| b      | \\[\\]             | \\[n1=2\\]                    |\n",
        "| output | \\[\\]             | \\[n1=2\\]                    |"
      ],
      "id": "f9476a70-0d15-4820-9917-d906e1ae7651"
    },
    {
      "cell_type": "code",
      "execution_count": 47,
      "metadata": {},
      "outputs": [],
      "source": [
        "v1_forward = torch.vmap(forward, in_dims=(None, 0, 0), out_dims=0)"
      ],
      "id": "cell-53"
    },
    {
      "cell_type": "code",
      "execution_count": 48,
      "metadata": {},
      "outputs": [
        {
          "output_type": "display_data",
          "metadata": {},
          "data": {
            "text/plain": [
              "torch.Size([2, 3])"
            ]
          }
        }
      ],
      "source": [
        "layer.weight.shape"
      ],
      "id": "cell-54"
    },
    {
      "cell_type": "code",
      "execution_count": 49,
      "metadata": {},
      "outputs": [
        {
          "output_type": "display_data",
          "metadata": {},
          "data": {
            "text/plain": [
              "torch.Size([2])"
            ]
          }
        }
      ],
      "source": [
        "layer.bias.shape"
      ],
      "id": "cell-55"
    },
    {
      "cell_type": "code",
      "execution_count": 50,
      "metadata": {},
      "outputs": [
        {
          "output_type": "display_data",
          "metadata": {},
          "data": {
            "text/plain": [
              "torch.Size([2])"
            ]
          }
        }
      ],
      "source": [
        "out = v1_forward(a[0], layer.weight, layer.bias)\n",
        "out.shape"
      ],
      "id": "cell-56"
    },
    {
      "cell_type": "markdown",
      "metadata": {},
      "source": [
        "#### Vectorization over number of examples\n",
        "\n",
        "| input  | shape in forward | shape in vectorized forward |\n",
        "|--------|------------------|-----------------------------|\n",
        "| a      | \\[n0=3\\]         | \\[n=50, n0=3\\]              |\n",
        "| w      | \\[n1=2, n0=3\\]   | \\[n1=2, n0=3\\]              |\n",
        "| b      | \\[n1=2\\]         | \\[n1=2\\]                    |\n",
        "| output | \\[n1=2\\]         | \\[n=50, n1=2\\]              |"
      ],
      "id": "d9bbe84e-17f2-427b-811f-d77b7b9e0ea1"
    },
    {
      "cell_type": "code",
      "execution_count": 51,
      "metadata": {},
      "outputs": [],
      "source": [
        "v2_forward = torch.vmap(v1_forward, in_dims=(0, None, None), out_dims=0)"
      ],
      "id": "cell-59"
    },
    {
      "cell_type": "code",
      "execution_count": 53,
      "metadata": {},
      "outputs": [
        {
          "output_type": "display_data",
          "metadata": {},
          "data": {
            "text/plain": [
              "torch.Size([50, 2])"
            ]
          }
        }
      ],
      "source": [
        "final_out = v2_forward(a, layer.weight, layer.bias)\n",
        "final_out.shape"
      ],
      "id": "cell-60"
    },
    {
      "cell_type": "markdown",
      "metadata": {},
      "source": [
        "#### Comparing with torch model forward pass"
      ],
      "id": "e5c51f92-b7da-4ead-81a8-3599462a3783"
    },
    {
      "cell_type": "code",
      "execution_count": 55,
      "metadata": {},
      "outputs": [
        {
          "output_type": "display_data",
          "metadata": {},
          "data": {
            "text/plain": [
              "True"
            ]
          }
        }
      ],
      "source": [
        "layer_out = F.relu(layer(a))\n",
        "torch.allclose(final_out, layer_out)"
      ],
      "id": "cell-62"
    },
    {
      "cell_type": "markdown",
      "metadata": {},
      "source": [
        "## XOR example\n",
        "\n",
        "### Define inputs, outputs, weights and biases"
      ],
      "id": "6b969b1f-123d-4eee-bc2f-0b52496e0951"
    },
    {
      "cell_type": "code",
      "execution_count": 56,
      "metadata": {},
      "outputs": [
        {
          "output_type": "stream",
          "name": "stdout",
          "text": [
            "tensor([[0., 0.],\n",
            "        [0., 1.],\n",
            "        [1., 0.],\n",
            "        [1., 1.]])\n",
            "torch.Size([4, 2])"
          ]
        }
      ],
      "source": [
        "xor_x = torch.tensor([[0.0, 0.0], [0.0, 1.0], [1.0, 0.0], [1.0, 1.0]])\n",
        "print(xor_x)\n",
        "print(xor_x.shape)"
      ],
      "id": "cell-65"
    },
    {
      "cell_type": "code",
      "execution_count": 57,
      "metadata": {},
      "outputs": [
        {
          "output_type": "stream",
          "name": "stdout",
          "text": [
            "tensor([[0.],\n",
            "        [1.],\n",
            "        [1.],\n",
            "        [0.]])\n",
            "torch.Size([4, 1])"
          ]
        }
      ],
      "source": [
        "xor_y = torch.tensor([[0.0], [1.0], [1.0], [0.0]])\n",
        "print(xor_y)\n",
        "print(xor_y.shape)"
      ],
      "id": "cell-66"
    },
    {
      "cell_type": "code",
      "execution_count": 58,
      "metadata": {},
      "outputs": [
        {
          "output_type": "stream",
          "name": "stdout",
          "text": [
            "tensor([[1., 1.],\n",
            "        [1., 1.]])\n",
            "tensor([ 0., -1.])\n",
            "torch.Size([2, 2]) torch.Size([2])"
          ]
        }
      ],
      "source": [
        "W_1 = torch.tensor([[1.0, 1.0], [1.0, 1.0]])\n",
        "b_1 = torch.tensor([0.0, -1.0])\n",
        "print(W_1)\n",
        "print(b_1)\n",
        "print(W_1.shape, b_1.shape)"
      ],
      "id": "cell-67"
    },
    {
      "cell_type": "code",
      "execution_count": 59,
      "metadata": {},
      "outputs": [
        {
          "output_type": "stream",
          "name": "stdout",
          "text": [
            "tensor([[ 1., -2.]])\n",
            "tensor([0.])\n",
            "torch.Size([1, 2]) torch.Size([1])"
          ]
        }
      ],
      "source": [
        "W_2 = torch.tensor([[1.0, -2.0]])\n",
        "b_2 = torch.tensor([0.0])\n",
        "print(W_2)\n",
        "print(b_2)\n",
        "print(W_2.shape, b_2.shape)"
      ],
      "id": "cell-68"
    },
    {
      "cell_type": "markdown",
      "metadata": {},
      "source": [
        "### Forward pass"
      ],
      "id": "3f47ebbb-1184-4abe-ac11-2c97856907e7"
    },
    {
      "cell_type": "code",
      "execution_count": 60,
      "metadata": {},
      "outputs": [
        {
          "output_type": "display_data",
          "metadata": {},
          "data": {
            "text/plain": [
              "tensor([[0., 0.],\n",
              "        [1., 0.],\n",
              "        [1., 0.],\n",
              "        [2., 1.]])"
            ]
          }
        }
      ],
      "source": [
        "a1 = v2_forward(xor_x, W_1, b_1)\n",
        "a1"
      ],
      "id": "cell-70"
    },
    {
      "cell_type": "code",
      "execution_count": 61,
      "metadata": {},
      "outputs": [
        {
          "output_type": "display_data",
          "metadata": {},
          "data": {
            "text/plain": [
              "tensor([[0.],\n",
              "        [1.],\n",
              "        [1.],\n",
              "        [0.]])"
            ]
          }
        }
      ],
      "source": [
        "a2 = v2_forward(a1, W_2, b_2)\n",
        "a2"
      ],
      "id": "cell-71"
    },
    {
      "cell_type": "markdown",
      "metadata": {},
      "source": [
        "### Forward pass with torch neural network"
      ],
      "id": "56eeb5c7-ce59-4486-9172-d1d9a0c530e5"
    },
    {
      "cell_type": "code",
      "execution_count": 62,
      "metadata": {},
      "outputs": [
        {
          "output_type": "stream",
          "name": "stdout",
          "text": [
            "Linear(in_features=2, out_features=2, bias=True)\n",
            "ReLU()\n",
            "Linear(in_features=2, out_features=1, bias=True)"
          ]
        }
      ],
      "source": [
        "model = nn.Sequential(nn.Linear(2, 2), nn.ReLU(), nn.Linear(2, 1))\n",
        "print(model[0])\n",
        "print(model[1])\n",
        "print(model[2])"
      ],
      "id": "cell-73"
    },
    {
      "cell_type": "code",
      "execution_count": 63,
      "metadata": {},
      "outputs": [],
      "source": [
        "model[0].weight.data = W_1\n",
        "model[0].bias.data = b_1\n",
        "model[2].weight.data = W_2\n",
        "model[2].bias.data = b_2"
      ],
      "id": "cell-74"
    },
    {
      "cell_type": "code",
      "execution_count": 64,
      "metadata": {},
      "outputs": [
        {
          "output_type": "display_data",
          "metadata": {},
          "data": {
            "text/plain": [
              "tensor([[0.],\n",
              "        [1.],\n",
              "        [1.],\n",
              "        [0.]], grad_fn=<AddmmBackward0>)"
            ]
          }
        }
      ],
      "source": [
        "model_out = model(xor_x)\n",
        "model_out"
      ],
      "id": "cell-75"
    }
  ],
  "nbformat": 4,
  "nbformat_minor": 5,
  "metadata": {
    "kernelspec": {
      "name": "python3",
      "display_name": "torch_gpu_py311",
      "language": "python"
    },
    "language_info": {
      "name": "python",
      "codemirror_mode": {
        "name": "ipython",
        "version": "3"
      },
      "file_extension": ".py",
      "mimetype": "text/x-python",
      "nbconvert_exporter": "python",
      "pygments_lexer": "ipython3",
      "version": "3.11.6"
    }
  }
}