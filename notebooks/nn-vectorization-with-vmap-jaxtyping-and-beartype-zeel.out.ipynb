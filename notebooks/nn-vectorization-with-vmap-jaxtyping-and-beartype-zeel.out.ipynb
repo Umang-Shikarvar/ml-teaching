{
  "cells": [
    {
      "cell_type": "markdown",
      "metadata": {},
      "source": [
        "# Nn Vectorization With Vmap Jaxtyping And Beartype Zeel\n",
        "\n",
        "Nipun Batra  \n",
        "2025-07-24\n",
        "\n",
        "<figure>\n",
        "<a\n",
        "href=\"https://colab.research.google.com/github/nipunbatra/ml-teaching/blob/master/notebooks/nn-vectorization-with-vmap-jaxtyping-and-beartype-zeel.ipynb\"><img\n",
        "src=\"https://colab.research.google.com/assets/colab-badge.svg\" /></a>\n",
        "<figcaption>Open In Colab</figcaption>\n",
        "</figure>\n",
        "\n",
        "# Introduction to Neural Networks\n",
        "\n",
        "## Imports"
      ],
      "id": "a5368d5a-ef78-4b60-aedd-ccd70b752700"
    },
    {
      "cell_type": "code",
      "execution_count": 1,
      "metadata": {},
      "outputs": [],
      "source": [
        "import torch\n",
        "import torch.nn as nn\n",
        "import torch.nn.functional as F"
      ],
      "id": "cell-4"
    },
    {
      "cell_type": "markdown",
      "metadata": {},
      "source": [
        "## Convention"
      ],
      "id": "7b109709-93cd-48a8-a05d-a82a2f825e12"
    },
    {
      "cell_type": "code",
      "execution_count": 3,
      "metadata": {},
      "outputs": [
        {
          "output_type": "display_data",
          "metadata": {},
          "data": {
            "text/plain": [
              "Linear(in_features=3, out_features=2, bias=True)"
            ]
          }
        }
      ],
      "source": [
        "n0 = 3\n",
        "n1 = 2\n",
        "layer = nn.Linear(n0, n1)\n",
        "layer"
      ],
      "id": "cell-6"
    },
    {
      "cell_type": "code",
      "execution_count": 4,
      "metadata": {},
      "outputs": [
        {
          "output_type": "display_data",
          "metadata": {},
          "data": {
            "text/plain": [
              "torch.Size([2, 3])"
            ]
          }
        }
      ],
      "source": [
        "layer.weight.shape"
      ],
      "id": "cell-7"
    },
    {
      "cell_type": "code",
      "execution_count": 5,
      "metadata": {},
      "outputs": [
        {
          "output_type": "display_data",
          "metadata": {},
          "data": {
            "text/plain": [
              "torch.Size([2])"
            ]
          }
        }
      ],
      "source": [
        "layer.bias.shape"
      ],
      "id": "cell-8"
    },
    {
      "cell_type": "code",
      "execution_count": 6,
      "metadata": {},
      "outputs": [
        {
          "output_type": "stream",
          "name": "stdout",
          "text": [
            "tensor(-0.0279, grad_fn=<SelectBackward0>)\n",
            "tensor(0.0743, grad_fn=<SelectBackward0>)\n",
            "tensor(-0.1339, grad_fn=<SelectBackward0>)"
          ]
        }
      ],
      "source": [
        "for i in range(n0):\n",
        "    print(layer.weight[0, i])"
      ],
      "id": "cell-9"
    },
    {
      "cell_type": "markdown",
      "metadata": {},
      "source": [
        "### A 2-layer network"
      ],
      "id": "69ea7362-9138-40db-9349-34a84360fd8c"
    },
    {
      "cell_type": "code",
      "execution_count": 7,
      "metadata": {},
      "outputs": [],
      "source": [
        "mlp_2layers = nn.Sequential(\n",
        "    nn.Linear(4, 3),\n",
        "    nn.ReLU(),\n",
        "    nn.Linear(3, 2),\n",
        "    nn.ReLU(),\n",
        "    nn.Linear(2, 1)\n",
        ")"
      ],
      "id": "cell-11"
    },
    {
      "cell_type": "code",
      "execution_count": 8,
      "metadata": {},
      "outputs": [
        {
          "output_type": "display_data",
          "metadata": {},
          "data": {
            "text/plain": [
              "{'0.weight': torch.Size([3, 4]),\n",
              " '0.bias': torch.Size([3]),\n",
              " '2.weight': torch.Size([2, 3]),\n",
              " '2.bias': torch.Size([2]),\n",
              " '4.weight': torch.Size([1, 2]),\n",
              " '4.bias': torch.Size([1])}"
            ]
          }
        }
      ],
      "source": [
        "params = dict(mlp_2layers.named_parameters())\n",
        "{name: param.shape for name, param in params.items()}"
      ],
      "id": "cell-12"
    },
    {
      "cell_type": "markdown",
      "metadata": {},
      "source": [
        "## Vectorization with `torch.vmap`"
      ],
      "id": "32830c82-cc8f-448a-8dc3-7fe54bcbe38d"
    },
    {
      "cell_type": "code",
      "execution_count": 9,
      "metadata": {},
      "outputs": [],
      "source": [
        "from jaxtyping import Float\n",
        "from torch import Tensor\n",
        "from beartype import beartype"
      ],
      "id": "cell-14"
    },
    {
      "cell_type": "markdown",
      "metadata": {},
      "source": [
        "### Quick intro to jaxtyping\n",
        "\n",
        "#### Scalars"
      ],
      "id": "7c934bf9-b98f-42e6-9ec5-68e20db4b1aa"
    },
    {
      "cell_type": "code",
      "execution_count": 10,
      "metadata": {},
      "outputs": [],
      "source": [
        "scalar_type = Float[Tensor, \"\"]"
      ],
      "id": "cell-17"
    },
    {
      "cell_type": "code",
      "execution_count": 11,
      "metadata": {},
      "outputs": [
        {
          "output_type": "display_data",
          "metadata": {},
          "data": {
            "text/plain": [
              "torch.Size([])"
            ]
          }
        }
      ],
      "source": [
        "scalar = torch.tensor(1.0)\n",
        "scalar.shape"
      ],
      "id": "cell-18"
    },
    {
      "cell_type": "code",
      "execution_count": 12,
      "metadata": {},
      "outputs": [
        {
          "output_type": "display_data",
          "metadata": {},
          "data": {
            "text/plain": [
              "True"
            ]
          }
        }
      ],
      "source": [
        "isinstance(scalar, scalar_type)"
      ],
      "id": "cell-19"
    },
    {
      "cell_type": "code",
      "execution_count": 13,
      "metadata": {},
      "outputs": [
        {
          "output_type": "display_data",
          "metadata": {},
          "data": {
            "text/plain": [
              "torch.Size([1])"
            ]
          }
        }
      ],
      "source": [
        "non_scalar = torch.tensor([1.0])\n",
        "non_scalar.shape"
      ],
      "id": "cell-20"
    },
    {
      "cell_type": "code",
      "execution_count": 14,
      "metadata": {},
      "outputs": [
        {
          "output_type": "display_data",
          "metadata": {},
          "data": {
            "text/plain": [
              "False"
            ]
          }
        }
      ],
      "source": [
        "isinstance(non_scalar, scalar_type)"
      ],
      "id": "cell-21"
    },
    {
      "cell_type": "markdown",
      "metadata": {},
      "source": [
        "#### Vectors"
      ],
      "id": "83211000-43f2-46c1-9c88-564c4f685ba9"
    },
    {
      "cell_type": "code",
      "execution_count": 19,
      "metadata": {},
      "outputs": [],
      "source": [
        "vector_type = Float[Tensor, \"n0\"]"
      ],
      "id": "cell-23"
    },
    {
      "cell_type": "code",
      "execution_count": 20,
      "metadata": {},
      "outputs": [
        {
          "output_type": "display_data",
          "metadata": {},
          "data": {
            "text/plain": [
              "True"
            ]
          }
        }
      ],
      "source": [
        "isinstance(non_scalar, vector_type)"
      ],
      "id": "cell-24"
    },
    {
      "cell_type": "code",
      "execution_count": 21,
      "metadata": {},
      "outputs": [
        {
          "output_type": "display_data",
          "metadata": {},
          "data": {
            "text/plain": [
              "torch.Size([2])"
            ]
          }
        }
      ],
      "source": [
        "vector = torch.tensor([1.0, 2.0])\n",
        "vector.shape"
      ],
      "id": "cell-25"
    },
    {
      "cell_type": "code",
      "execution_count": 22,
      "metadata": {},
      "outputs": [
        {
          "output_type": "display_data",
          "metadata": {},
          "data": {
            "text/plain": [
              "True"
            ]
          }
        }
      ],
      "source": [
        "isinstance(vector, vector_type)"
      ],
      "id": "cell-26"
    },
    {
      "cell_type": "markdown",
      "metadata": {},
      "source": [
        "#### Matrices"
      ],
      "id": "0c06d1d1-678c-4f4c-bac6-2570bd3b4c11"
    },
    {
      "cell_type": "code",
      "execution_count": 24,
      "metadata": {},
      "outputs": [],
      "source": [
        "matrix_type = Float[Tensor, \"n0 n1\"]"
      ],
      "id": "cell-28"
    },
    {
      "cell_type": "code",
      "execution_count": 25,
      "metadata": {},
      "outputs": [
        {
          "output_type": "display_data",
          "metadata": {},
          "data": {
            "text/plain": [
              "False"
            ]
          }
        }
      ],
      "source": [
        "isinstance(vector, matrix_type)"
      ],
      "id": "cell-29"
    },
    {
      "cell_type": "code",
      "execution_count": 26,
      "metadata": {},
      "outputs": [
        {
          "output_type": "display_data",
          "metadata": {},
          "data": {
            "text/plain": [
              "torch.Size([1, 2])"
            ]
          }
        }
      ],
      "source": [
        "matrix = torch.tensor([[1.0, 2.0]])\n",
        "matrix.shape"
      ],
      "id": "cell-30"
    },
    {
      "cell_type": "code",
      "execution_count": 27,
      "metadata": {},
      "outputs": [
        {
          "output_type": "display_data",
          "metadata": {},
          "data": {
            "text/plain": [
              "True"
            ]
          }
        }
      ],
      "source": [
        "isinstance(matrix, matrix_type)"
      ],
      "id": "cell-31"
    },
    {
      "cell_type": "code",
      "execution_count": 28,
      "metadata": {},
      "outputs": [
        {
          "output_type": "display_data",
          "metadata": {},
          "data": {
            "text/plain": [
              "torch.Size([2, 3])"
            ]
          }
        }
      ],
      "source": [
        "another_matrix = torch.tensor([[1.0, 2.0, 3.0], [4.0, 5.0, 6.0]])\n",
        "another_matrix.shape"
      ],
      "id": "cell-32"
    },
    {
      "cell_type": "code",
      "execution_count": 29,
      "metadata": {},
      "outputs": [
        {
          "output_type": "display_data",
          "metadata": {},
          "data": {
            "text/plain": [
              "True"
            ]
          }
        }
      ],
      "source": [
        "isinstance(another_matrix, matrix_type)"
      ],
      "id": "cell-33"
    },
    {
      "cell_type": "markdown",
      "metadata": {},
      "source": [
        "#### Tensors"
      ],
      "id": "9eb4cbbd-a999-48e9-aace-55b72263b533"
    },
    {
      "cell_type": "code",
      "execution_count": 31,
      "metadata": {},
      "outputs": [],
      "source": [
        "tensor_type = Float[Tensor, \"n0 n1 n2\"]"
      ],
      "id": "cell-35"
    },
    {
      "cell_type": "code",
      "execution_count": 32,
      "metadata": {},
      "outputs": [
        {
          "output_type": "display_data",
          "metadata": {},
          "data": {
            "text/plain": [
              "torch.Size([2, 2, 2])"
            ]
          }
        }
      ],
      "source": [
        "tensor = torch.tensor([[[1.0, 2.0], [3.0, 4.0]], [[5.0, 6.0], [7.0, 8.0]]])\n",
        "tensor.shape"
      ],
      "id": "cell-36"
    },
    {
      "cell_type": "code",
      "execution_count": 33,
      "metadata": {},
      "outputs": [
        {
          "output_type": "display_data",
          "metadata": {},
          "data": {
            "text/plain": [
              "True"
            ]
          }
        }
      ],
      "source": [
        "isinstance(tensor, tensor_type)"
      ],
      "id": "cell-37"
    },
    {
      "cell_type": "markdown",
      "metadata": {},
      "source": [
        "### Quick intro to beartype"
      ],
      "id": "df7c9f72-4906-49ad-82b5-e6883273b242"
    },
    {
      "cell_type": "code",
      "execution_count": 34,
      "metadata": {},
      "outputs": [],
      "source": [
        "def call_my_name(name):\n",
        "    return f\"Hello, {name}!\""
      ],
      "id": "cell-39"
    },
    {
      "cell_type": "code",
      "execution_count": 35,
      "metadata": {},
      "outputs": [
        {
          "output_type": "display_data",
          "metadata": {},
          "data": {
            "text/plain": [
              "'Hello, John!'"
            ]
          }
        }
      ],
      "source": [
        "call_my_name(\"John\")"
      ],
      "id": "cell-40"
    },
    {
      "cell_type": "code",
      "execution_count": 36,
      "metadata": {},
      "outputs": [
        {
          "output_type": "display_data",
          "metadata": {},
          "data": {
            "text/plain": [
              "'Hello, 123!'"
            ]
          }
        }
      ],
      "source": [
        "call_my_name(123)"
      ],
      "id": "cell-41"
    },
    {
      "cell_type": "code",
      "execution_count": 37,
      "metadata": {},
      "outputs": [],
      "source": [
        "@beartype\n",
        "def secured_call_my_name(name: str) -> str:\n",
        "    return f\"Hello, {name}!\""
      ],
      "id": "cell-42"
    },
    {
      "cell_type": "code",
      "execution_count": 38,
      "metadata": {},
      "outputs": [
        {
          "output_type": "display_data",
          "metadata": {},
          "data": {
            "text/plain": [
              "'Hello, John!'"
            ]
          }
        }
      ],
      "source": [
        "secured_call_my_name(\"John\")"
      ],
      "id": "cell-43"
    },
    {
      "cell_type": "code",
      "execution_count": 39,
      "metadata": {},
      "outputs": [],
      "source": [
        "secured_call_my_name(123)"
      ],
      "id": "cell-44"
    },
    {
      "cell_type": "markdown",
      "metadata": {},
      "source": [
        "### Vectorization\n",
        "\n",
        "On which dimensions should we apply the vectorization? - Current layer’s\n",
        "neurons size - Number of examples"
      ],
      "id": "1f72b6e8-acdf-4793-930c-35e83b617736"
    },
    {
      "cell_type": "code",
      "execution_count": 41,
      "metadata": {},
      "outputs": [
        {
          "output_type": "display_data",
          "metadata": {},
          "data": {
            "text/plain": [
              "torch.Size([50, 3])"
            ]
          }
        }
      ],
      "source": [
        "n = 50\n",
        "a = torch.rand(n, n0)\n",
        "a.shape"
      ],
      "id": "cell-47"
    },
    {
      "cell_type": "code",
      "execution_count": 42,
      "metadata": {},
      "outputs": [],
      "source": [
        "activation = F.relu\n",
        "\n",
        "@beartype\n",
        "def forward(a: Float[Tensor, \"n0\"], w: Float[Tensor, \"n0\"], b: Float[Tensor, \"\"]) -> Float[Tensor, \"\"]:\n",
        "    z = (a * w).sum() + b  # () + () -> ()\n",
        "    a = activation(z)  # () -> ()\n",
        "    return a  # ()"
      ],
      "id": "cell-48"
    },
    {
      "cell_type": "code",
      "execution_count": 43,
      "metadata": {},
      "outputs": [
        {
          "output_type": "stream",
          "name": "stdout",
          "text": [
            "torch.Size([3]) torch.Size([3]) torch.Size([])"
          ]
        }
      ],
      "source": [
        "dummy_a = torch.rand(n0)\n",
        "dummy_w = torch.rand(n0)\n",
        "dummy_b = torch.rand(())\n",
        "print(dummy_a.shape, dummy_w.shape, dummy_b.shape)"
      ],
      "id": "cell-49"
    },
    {
      "cell_type": "code",
      "execution_count": 44,
      "metadata": {},
      "outputs": [
        {
          "output_type": "display_data",
          "metadata": {},
          "data": {
            "text/plain": [
              "torch.Size([])"
            ]
          }
        }
      ],
      "source": [
        "forward(dummy_a, dummy_w, dummy_b).shape"
      ],
      "id": "cell-50"
    },
    {
      "cell_type": "code",
      "execution_count": 46,
      "metadata": {},
      "outputs": [
        {
          "output_type": "display_data",
          "metadata": {},
          "data": {
            "text/plain": [
              "tensor(0.1544, grad_fn=<ReluBackward0>)"
            ]
          }
        }
      ],
      "source": [
        "forward(a[0], layer.weight[0], layer.bias[0])"
      ],
      "id": "cell-51"
    },
    {
      "cell_type": "markdown",
      "metadata": {},
      "source": [
        "#### Vectorization over current layer’s neurons size\n",
        "\n",
        "| input  | shape in forward | shape in vectorized forward |\n",
        "|--------|------------------|-----------------------------|\n",
        "| a      | \\[n0=3\\]         | \\[n0=3\\]                    |\n",
        "| w      | \\[n0=3\\]         | \\[n1=2, n0=3\\]              |\n",
        "| b      | \\[\\]             | \\[n1=2\\]                    |\n",
        "| output | \\[\\]             | \\[n1=2\\]                    |"
      ],
      "id": "9e03a823-7d94-4646-856e-3382ec8d7338"
    },
    {
      "cell_type": "code",
      "execution_count": 47,
      "metadata": {},
      "outputs": [],
      "source": [
        "v1_forward = torch.vmap(forward, in_dims=(None, 0, 0), out_dims=0)"
      ],
      "id": "cell-54"
    },
    {
      "cell_type": "code",
      "execution_count": 48,
      "metadata": {},
      "outputs": [
        {
          "output_type": "display_data",
          "metadata": {},
          "data": {
            "text/plain": [
              "torch.Size([2, 3])"
            ]
          }
        }
      ],
      "source": [
        "layer.weight.shape"
      ],
      "id": "cell-55"
    },
    {
      "cell_type": "code",
      "execution_count": 49,
      "metadata": {},
      "outputs": [
        {
          "output_type": "display_data",
          "metadata": {},
          "data": {
            "text/plain": [
              "torch.Size([2])"
            ]
          }
        }
      ],
      "source": [
        "layer.bias.shape"
      ],
      "id": "cell-56"
    },
    {
      "cell_type": "code",
      "execution_count": 50,
      "metadata": {},
      "outputs": [
        {
          "output_type": "display_data",
          "metadata": {},
          "data": {
            "text/plain": [
              "torch.Size([2])"
            ]
          }
        }
      ],
      "source": [
        "out = v1_forward(a[0], layer.weight, layer.bias)\n",
        "out.shape"
      ],
      "id": "cell-57"
    },
    {
      "cell_type": "markdown",
      "metadata": {},
      "source": [
        "#### Vectorization over number of examples\n",
        "\n",
        "| input  | shape in forward | shape in vectorized forward |\n",
        "|--------|------------------|-----------------------------|\n",
        "| a      | \\[n0=3\\]         | \\[n=50, n0=3\\]              |\n",
        "| w      | \\[n1=2, n0=3\\]   | \\[n1=2, n0=3\\]              |\n",
        "| b      | \\[n1=2\\]         | \\[n1=2\\]                    |\n",
        "| output | \\[n1=2\\]         | \\[n=50, n1=2\\]              |"
      ],
      "id": "058412d7-b54a-482e-a3c7-1e8335daf30c"
    },
    {
      "cell_type": "code",
      "execution_count": 51,
      "metadata": {},
      "outputs": [],
      "source": [
        "v2_forward = torch.vmap(v1_forward, in_dims=(0, None, None), out_dims=0)"
      ],
      "id": "cell-60"
    },
    {
      "cell_type": "code",
      "execution_count": 53,
      "metadata": {},
      "outputs": [
        {
          "output_type": "display_data",
          "metadata": {},
          "data": {
            "text/plain": [
              "torch.Size([50, 2])"
            ]
          }
        }
      ],
      "source": [
        "final_out = v2_forward(a, layer.weight, layer.bias)\n",
        "final_out.shape"
      ],
      "id": "cell-61"
    },
    {
      "cell_type": "markdown",
      "metadata": {},
      "source": [
        "#### Comparing with torch model forward pass"
      ],
      "id": "168411c7-5b91-427c-9594-474ff8cf94d3"
    },
    {
      "cell_type": "code",
      "execution_count": 55,
      "metadata": {},
      "outputs": [
        {
          "output_type": "display_data",
          "metadata": {},
          "data": {
            "text/plain": [
              "True"
            ]
          }
        }
      ],
      "source": [
        "layer_out = F.relu(layer(a))\n",
        "torch.allclose(final_out, layer_out)"
      ],
      "id": "cell-63"
    },
    {
      "cell_type": "markdown",
      "metadata": {},
      "source": [
        "## XOR example\n",
        "\n",
        "### Define inputs, outputs, weights and biases"
      ],
      "id": "98d5d068-aeba-495c-b1d0-e8b8145315e8"
    },
    {
      "cell_type": "code",
      "execution_count": 56,
      "metadata": {},
      "outputs": [
        {
          "output_type": "stream",
          "name": "stdout",
          "text": [
            "tensor([[0., 0.],\n",
            "        [0., 1.],\n",
            "        [1., 0.],\n",
            "        [1., 1.]])\n",
            "torch.Size([4, 2])"
          ]
        }
      ],
      "source": [
        "xor_x = torch.tensor([[0.0, 0.0], [0.0, 1.0], [1.0, 0.0], [1.0, 1.0]])\n",
        "print(xor_x)\n",
        "print(xor_x.shape)"
      ],
      "id": "cell-66"
    },
    {
      "cell_type": "code",
      "execution_count": 57,
      "metadata": {},
      "outputs": [
        {
          "output_type": "stream",
          "name": "stdout",
          "text": [
            "tensor([[0.],\n",
            "        [1.],\n",
            "        [1.],\n",
            "        [0.]])\n",
            "torch.Size([4, 1])"
          ]
        }
      ],
      "source": [
        "xor_y = torch.tensor([[0.0], [1.0], [1.0], [0.0]])\n",
        "print(xor_y)\n",
        "print(xor_y.shape)"
      ],
      "id": "cell-67"
    },
    {
      "cell_type": "code",
      "execution_count": 58,
      "metadata": {},
      "outputs": [
        {
          "output_type": "stream",
          "name": "stdout",
          "text": [
            "tensor([[1., 1.],\n",
            "        [1., 1.]])\n",
            "tensor([ 0., -1.])\n",
            "torch.Size([2, 2]) torch.Size([2])"
          ]
        }
      ],
      "source": [
        "W_1 = torch.tensor([[1.0, 1.0], [1.0, 1.0]])\n",
        "b_1 = torch.tensor([0.0, -1.0])\n",
        "print(W_1)\n",
        "print(b_1)\n",
        "print(W_1.shape, b_1.shape)"
      ],
      "id": "cell-68"
    },
    {
      "cell_type": "code",
      "execution_count": 59,
      "metadata": {},
      "outputs": [
        {
          "output_type": "stream",
          "name": "stdout",
          "text": [
            "tensor([[ 1., -2.]])\n",
            "tensor([0.])\n",
            "torch.Size([1, 2]) torch.Size([1])"
          ]
        }
      ],
      "source": [
        "W_2 = torch.tensor([[1.0, -2.0]])\n",
        "b_2 = torch.tensor([0.0])\n",
        "print(W_2)\n",
        "print(b_2)\n",
        "print(W_2.shape, b_2.shape)"
      ],
      "id": "cell-69"
    },
    {
      "cell_type": "markdown",
      "metadata": {},
      "source": [
        "### Forward pass"
      ],
      "id": "bbed8ac8-de21-49ac-8823-80be85290f42"
    },
    {
      "cell_type": "code",
      "execution_count": 60,
      "metadata": {},
      "outputs": [
        {
          "output_type": "display_data",
          "metadata": {},
          "data": {
            "text/plain": [
              "tensor([[0., 0.],\n",
              "        [1., 0.],\n",
              "        [1., 0.],\n",
              "        [2., 1.]])"
            ]
          }
        }
      ],
      "source": [
        "a1 = v2_forward(xor_x, W_1, b_1)\n",
        "a1"
      ],
      "id": "cell-71"
    },
    {
      "cell_type": "code",
      "execution_count": 61,
      "metadata": {},
      "outputs": [
        {
          "output_type": "display_data",
          "metadata": {},
          "data": {
            "text/plain": [
              "tensor([[0.],\n",
              "        [1.],\n",
              "        [1.],\n",
              "        [0.]])"
            ]
          }
        }
      ],
      "source": [
        "a2 = v2_forward(a1, W_2, b_2)\n",
        "a2"
      ],
      "id": "cell-72"
    },
    {
      "cell_type": "markdown",
      "metadata": {},
      "source": [
        "### Forward pass with torch neural network"
      ],
      "id": "1d6dc3d8-9543-4fd5-ac3c-1522fcb0cb52"
    },
    {
      "cell_type": "code",
      "execution_count": 62,
      "metadata": {},
      "outputs": [
        {
          "output_type": "stream",
          "name": "stdout",
          "text": [
            "Linear(in_features=2, out_features=2, bias=True)\n",
            "ReLU()\n",
            "Linear(in_features=2, out_features=1, bias=True)"
          ]
        }
      ],
      "source": [
        "model = nn.Sequential(nn.Linear(2, 2), nn.ReLU(), nn.Linear(2, 1))\n",
        "print(model[0])\n",
        "print(model[1])\n",
        "print(model[2])"
      ],
      "id": "cell-74"
    },
    {
      "cell_type": "code",
      "execution_count": 63,
      "metadata": {},
      "outputs": [],
      "source": [
        "model[0].weight.data = W_1\n",
        "model[0].bias.data = b_1\n",
        "model[2].weight.data = W_2\n",
        "model[2].bias.data = b_2"
      ],
      "id": "cell-75"
    },
    {
      "cell_type": "code",
      "execution_count": 64,
      "metadata": {},
      "outputs": [
        {
          "output_type": "display_data",
          "metadata": {},
          "data": {
            "text/plain": [
              "tensor([[0.],\n",
              "        [1.],\n",
              "        [1.],\n",
              "        [0.]], grad_fn=<AddmmBackward0>)"
            ]
          }
        }
      ],
      "source": [
        "model_out = model(xor_x)\n",
        "model_out"
      ],
      "id": "cell-76"
    }
  ],
  "nbformat": 4,
  "nbformat_minor": 5,
  "metadata": {
    "kernelspec": {
      "name": "python3",
      "display_name": "torch_gpu_py311",
      "language": "python"
    },
    "language_info": {
      "name": "python",
      "codemirror_mode": {
        "name": "ipython",
        "version": "3"
      },
      "file_extension": ".py",
      "mimetype": "text/x-python",
      "nbconvert_exporter": "python",
      "pygments_lexer": "ipython3",
      "version": "3.11.6"
    }
  }
}