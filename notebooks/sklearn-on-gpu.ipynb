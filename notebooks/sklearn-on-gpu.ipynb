{
  "cells": [
    {
      "cell_type": "raw",
      "metadata": {},
      "source": [
        "---\n",
        "author: Kalash Kankaria\n",
        "badges: true\n",
        "categories:\n",
        "- ML\n",
        "- Tutorial\n",
        "date: '2024-2-12'\n",
        "title: Sklearn on GPU\n",
        "toc: true\n",
        "---"
      ]
    },
    {
      "cell_type": "markdown",
      "metadata": {
        "id": "Gn9fc6UBxjqF"
      },
      "source": [
        "## References:\n",
        "\n",
        "https://scikit-learn.org/stable/modules/array_api.html\n",
        "\n",
        "https://scikit-learn.org/stable/modules/generated/sklearn.decomposition.PCA.html#sklearn.decomposition.PCA\n",
        "\n",
        "https://github.com/data-apis/array-api-compat\n",
        "\n",
        "https://labs.quansight.org/blog/array-api-support-scikit-learn"
      ]
    },
    {
      "cell_type": "markdown",
      "metadata": {
        "id": "1lHZO8ozqAzW"
      },
      "source": [
        "# Install the latest version of scikit-learn library"
      ]
    },
    {
      "cell_type": "code",
      "execution_count": null,
      "metadata": {
        "colab": {
          "base_uri": "https://localhost:8080/",
          "height": 334
        },
        "id": "jdQ5W3SjpKzA",
        "outputId": "aba1fc05-12d6-4698-9e6e-ef113632067b"
      },
      "outputs": [
        {
          "name": "stdout",
          "output_type": "stream",
          "text": [
            "Collecting scikit-learn==1.4\n",
            "  Downloading scikit_learn-1.4.0-1-cp310-cp310-manylinux_2_17_x86_64.manylinux2014_x86_64.whl (12.1 MB)\n",
            "\u001b[2K     \u001b[90m━━━━━━━━━━━━━━━━━━━━━━━━━━━━━━━━━━━━━━━━\u001b[0m \u001b[32m12.1/12.1 MB\u001b[0m \u001b[31m57.9 MB/s\u001b[0m eta \u001b[36m0:00:00\u001b[0m\n",
            "\u001b[?25hRequirement already satisfied: numpy<2.0,>=1.19.5 in /usr/local/lib/python3.10/dist-packages (from scikit-learn==1.4) (1.23.5)\n",
            "Requirement already satisfied: scipy>=1.6.0 in /usr/local/lib/python3.10/dist-packages (from scikit-learn==1.4) (1.11.4)\n",
            "Requirement already satisfied: joblib>=1.2.0 in /usr/local/lib/python3.10/dist-packages (from scikit-learn==1.4) (1.3.2)\n",
            "Requirement already satisfied: threadpoolctl>=2.0.0 in /usr/local/lib/python3.10/dist-packages (from scikit-learn==1.4) (3.2.0)\n",
            "Installing collected packages: scikit-learn\n",
            "  Attempting uninstall: scikit-learn\n",
            "    Found existing installation: scikit-learn 1.2.2\n",
            "    Uninstalling scikit-learn-1.2.2:\n",
            "      Successfully uninstalled scikit-learn-1.2.2\n",
            "Successfully installed scikit-learn-1.4.0\n"
          ]
        },
        {
          "data": {
            "application/vnd.colab-display-data+json": {
              "pip_warning": {
                "packages": [
                  "sklearn"
                ]
              }
            }
          },
          "metadata": {},
          "output_type": "display_data"
        }
      ],
      "source": [
        "! pip install scikit-learn==1.4"
      ]
    },
    {
      "cell_type": "markdown",
      "metadata": {
        "id": "gATZyBE4qLYM"
      },
      "source": [
        "# Install array-api-compat library that supports Array API"
      ]
    },
    {
      "cell_type": "code",
      "execution_count": null,
      "metadata": {
        "colab": {
          "base_uri": "https://localhost:8080/"
        },
        "id": "2dts4IKGkaKP",
        "outputId": "530a0724-d38b-4455-c404-0ca40fabe900"
      },
      "outputs": [
        {
          "name": "stdout",
          "output_type": "stream",
          "text": [
            "Collecting array-api-compat\n",
            "  Downloading array_api_compat-1.4.1-py3-none-any.whl (30 kB)\n",
            "Installing collected packages: array-api-compat\n",
            "Successfully installed array-api-compat-1.4.1\n"
          ]
        }
      ],
      "source": [
        "!python -m pip install array-api-compat"
      ]
    },
    {
      "cell_type": "markdown",
      "metadata": {
        "id": "AR1mroB4qVNW"
      },
      "source": [
        "# Imports"
      ]
    },
    {
      "cell_type": "code",
      "execution_count": null,
      "metadata": {
        "colab": {
          "base_uri": "https://localhost:8080/"
        },
        "id": "i8zG9Wn0nh4l",
        "outputId": "158d8e8d-85cd-4a0e-e91e-f1038bc0c8ca"
      },
      "outputs": [
        {
          "name": "stdout",
          "output_type": "stream",
          "text": [
            "1.4.0\n"
          ]
        }
      ],
      "source": [
        "import sklearn\n",
        "from sklearn.discriminant_analysis import LinearDiscriminantAnalysis\n",
        "from sklearn.datasets import make_classification\n",
        "import torch\n",
        "\n",
        "print(sklearn.__version__)"
      ]
    },
    {
      "cell_type": "markdown",
      "metadata": {
        "id": "_FGKmIaRqdjZ"
      },
      "source": [
        "# Create Classification Data"
      ]
    },
    {
      "cell_type": "code",
      "execution_count": null,
      "metadata": {
        "colab": {
          "base_uri": "https://localhost:8080/"
        },
        "id": "KZomN9CoovqM",
        "outputId": "b8631186-97ad-4d54-a041-de1ecbd35b12"
      },
      "outputs": [
        {
          "data": {
            "text/plain": [
              "(array([[-1.81619458, -1.85550544,  1.0407837 , ...,  0.05972718,\n",
              "         -0.78920817, -1.17862744],\n",
              "        [-0.81112283,  1.22246367,  0.5230838 , ...,  0.34797711,\n",
              "         -0.96876649, -1.09807831],\n",
              "        [ 0.2102088 ,  1.78862513,  0.19437414, ...,  1.05634817,\n",
              "         -1.71915482,  0.09357639],\n",
              "        ...,\n",
              "        [ 0.41402928,  0.89958434,  0.98362959, ..., -0.80880198,\n",
              "          0.27123176, -0.52871488],\n",
              "        [-0.87256303,  1.32778686, -0.97017018, ...,  0.22443048,\n",
              "         -0.80234779,  0.78283347],\n",
              "        [ 0.50504494, -0.39312103,  1.56072382, ...,  2.01801143,\n",
              "         -0.34582501, -0.71471391]]),\n",
              " array([0, 1, 1, ..., 0, 1, 0]))"
            ]
          },
          "execution_count": 8,
          "metadata": {},
          "output_type": "execute_result"
        }
      ],
      "source": [
        "X_np, y_np = make_classification(random_state=0, n_samples=500_000, n_features=300)\n",
        "X_np, y_np"
      ]
    },
    {
      "cell_type": "markdown",
      "metadata": {
        "id": "46lW3Ef7rLLx"
      },
      "source": [
        "# Globally set configuration"
      ]
    },
    {
      "cell_type": "code",
      "execution_count": null,
      "metadata": {
        "id": "ovneKWaIrCeE"
      },
      "outputs": [],
      "source": [
        "sklearn.set_config(array_api_dispatch=True)"
      ]
    },
    {
      "cell_type": "markdown",
      "metadata": {
        "id": "zmsVxug9vMRe"
      },
      "source": [
        "# LinearDiscriminantAnalysis"
      ]
    },
    {
      "cell_type": "markdown",
      "metadata": {
        "id": "nd_a5rOVsKjW"
      },
      "source": [
        "### Sklearn Performance on CPU"
      ]
    },
    {
      "cell_type": "code",
      "execution_count": null,
      "metadata": {
        "colab": {
          "base_uri": "https://localhost:8080/"
        },
        "id": "mYLslWJ0sOXk",
        "outputId": "28b3f184-a7a1-43d3-a49c-b52cab986849"
      },
      "outputs": [
        {
          "name": "stdout",
          "output_type": "stream",
          "text": [
            "cpu\n",
            "<class 'torch.Tensor'>\n",
            "time taken to run: 30.194514389999767\n"
          ]
        }
      ],
      "source": [
        "import time\n",
        "\n",
        "t1 = time.perf_counter()\n",
        "\n",
        "X_torch_cpu, y_torch_cpu = torch.asarray(X_np), torch.asarray(y_np)\n",
        "\n",
        "lda_torch_cpu = LinearDiscriminantAnalysis()\n",
        "lda_torch_cpu.fit(X_torch_cpu, y_torch_cpu)\n",
        "\n",
        "predictions = lda_torch_cpu.predict(X_torch_cpu)\n",
        "\n",
        "print(predictions.device)\n",
        "print(type(predictions))\n",
        "\n",
        "t2 = time.perf_counter()\n",
        "print('time taken to run:',t2-t1)"
      ]
    },
    {
      "cell_type": "markdown",
      "metadata": {
        "id": "o9Ko2R9atCQ3"
      },
      "source": [
        "### Sklearn Performance on GPU"
      ]
    },
    {
      "cell_type": "code",
      "execution_count": null,
      "metadata": {
        "colab": {
          "base_uri": "https://localhost:8080/"
        },
        "id": "E_Pz0VX9qodF",
        "outputId": "1063222d-53e0-43a8-b5a2-f61fdeae37a3"
      },
      "outputs": [
        {
          "name": "stdout",
          "output_type": "stream",
          "text": [
            "<class 'torch.Tensor'>\n",
            "<class 'torch.Tensor'>\n"
          ]
        }
      ],
      "source": [
        "X_torch_cuda = torch.asarray(X_np, device=\"cuda\", dtype=torch.float32)\n",
        "y_torch_cuda = torch.asarray(y_np, device=\"cuda\", dtype=torch.float32)\n",
        "print(type(X_torch_cuda))\n",
        "print(type(y_torch_cuda))"
      ]
    },
    {
      "cell_type": "code",
      "execution_count": null,
      "metadata": {
        "colab": {
          "base_uri": "https://localhost:8080/"
        },
        "id": "jLwlCwj2rfP9",
        "outputId": "86455395-e299-44b1-8a06-b440f0ca9a93"
      },
      "outputs": [
        {
          "name": "stdout",
          "output_type": "stream",
          "text": [
            "cuda:0\n",
            "<class 'torch.Tensor'>\n",
            "time taken to run: 0.5633445190001112\n"
          ]
        }
      ],
      "source": [
        "import time\n",
        "\n",
        "t1 = time.perf_counter()\n",
        "\n",
        "lda_torch_cuda = LinearDiscriminantAnalysis()\n",
        "lda_torch_cuda.fit(X_torch_cuda, y_torch_cuda)\n",
        "predictions = lda_torch_cuda.predict(X_torch_cuda)\n",
        "\n",
        "print(predictions.device)\n",
        "print(type(predictions))\n",
        "\n",
        "t2 = time.perf_counter()\n",
        "print('time taken to run:',t2-t1)"
      ]
    },
    {
      "cell_type": "code",
      "execution_count": null,
      "metadata": {
        "colab": {
          "base_uri": "https://localhost:8080/"
        },
        "id": "o8nnMQV_rurL",
        "outputId": "f2bd2bc1-daaa-4695-b586-9e09ce5403ac"
      },
      "outputs": [
        {
          "name": "stdout",
          "output_type": "stream",
          "text": [
            "<class 'torch.Tensor'>\n"
          ]
        }
      ],
      "source": [
        "print(type(predictions))"
      ]
    },
    {
      "cell_type": "markdown",
      "metadata": {
        "id": "Ux5b5h0kr4Nf"
      },
      "source": [
        "# Train model on GPU and transfer to CPU for deployment"
      ]
    },
    {
      "cell_type": "code",
      "execution_count": null,
      "metadata": {
        "colab": {
          "base_uri": "https://localhost:8080/"
        },
        "id": "IDcORYI-r7m9",
        "outputId": "d4a7d4e0-c2c9-4e86-b13b-375038188e3c"
      },
      "outputs": [
        {
          "name": "stdout",
          "output_type": "stream",
          "text": [
            "<class 'numpy.ndarray'>\n",
            "<class 'numpy.ndarray'>\n"
          ]
        }
      ],
      "source": [
        "from sklearn.utils._array_api import _estimator_with_converted_arrays\n",
        "\n",
        "tensor_to_ndarray = lambda array : array.cpu().numpy()\n",
        "lda_np = _estimator_with_converted_arrays(lda_torch_cuda, tensor_to_ndarray)\n",
        "X_trans = lda_np.transform(X_np)\n",
        "\n",
        "print(type(X_np))\n",
        "print(type(X_trans))"
      ]
    },
    {
      "cell_type": "markdown",
      "metadata": {
        "id": "VRkTpKMmvSds"
      },
      "source": [
        "# PCA Decomposition"
      ]
    },
    {
      "cell_type": "code",
      "execution_count": null,
      "metadata": {
        "id": "7UY2uryLsCfe"
      },
      "outputs": [],
      "source": [
        "from sklearn.decomposition import PCA\n",
        "import numpy as np\n",
        "\n",
        "X_np = np.random.rand(1000000, 100)\n"
      ]
    },
    {
      "cell_type": "markdown",
      "metadata": {
        "id": "yCZQJyRmxTZI"
      },
      "source": [
        "### Sklearn Performance on CPU"
      ]
    },
    {
      "cell_type": "code",
      "execution_count": null,
      "metadata": {
        "colab": {
          "base_uri": "https://localhost:8080/"
        },
        "id": "TTAAozyFvgoM",
        "outputId": "be06bad3-7aa5-49d9-fc56-457d8caf3d5b"
      },
      "outputs": [
        {
          "name": "stdout",
          "output_type": "stream",
          "text": [
            "tensor([0.0102, 0.0102], dtype=torch.float64)\n",
            "tensor([291.4060, 291.3705], dtype=torch.float64)\n",
            "time taken to run: 10.91760363100002\n"
          ]
        }
      ],
      "source": [
        "X_torch_cpu = torch.asarray(X_np)\n",
        "\n",
        "t1 = time.perf_counter()\n",
        "\n",
        "pca_cpu = PCA(n_components=2, svd_solver='full')\n",
        "pca_cpu.fit(X_torch_cpu)\n",
        "print(pca_cpu.explained_variance_ratio_)\n",
        "print(pca_cpu.singular_values_)\n",
        "\n",
        "t2 = time.perf_counter()\n",
        "print('time taken to run:',t2-t1)"
      ]
    },
    {
      "cell_type": "markdown",
      "metadata": {
        "id": "52w8g0pCxVAz"
      },
      "source": [
        "### Sklearn Performance on GPU"
      ]
    },
    {
      "cell_type": "code",
      "execution_count": null,
      "metadata": {
        "colab": {
          "base_uri": "https://localhost:8080/"
        },
        "id": "EOFHXgHXv6et",
        "outputId": "2015ae59-ef8f-459f-da5c-d8949aa1b347"
      },
      "outputs": [
        {
          "name": "stdout",
          "output_type": "stream",
          "text": [
            "tensor([0.0102, 0.0102], device='cuda:0')\n",
            "tensor([291.4084, 291.3728], device='cuda:0')\n",
            "time taken to run: 0.278887709999708\n"
          ]
        }
      ],
      "source": [
        "X_torch_cuda = torch.asarray(X_np, device=\"cuda\", dtype=torch.float32)\n",
        "\n",
        "t1 = time.perf_counter()\n",
        "\n",
        "pca_cuda = PCA(n_components=2, svd_solver='full')\n",
        "pca_cuda.fit(X_torch_cuda)\n",
        "print(pca_cuda.explained_variance_ratio_)\n",
        "print(pca_cuda.singular_values_)\n",
        "\n",
        "t2 = time.perf_counter()\n",
        "print('time taken to run:',t2-t1)"
      ]
    }
  ],
  "metadata": {
    "accelerator": "GPU",
    "colab": {
      "gpuType": "T4",
      "provenance": []
    },
    "kernelspec": {
      "display_name": "Python 3",
      "name": "python3"
    },
    "language_info": {
      "name": "python"
    }
  },
  "nbformat": 4,
  "nbformat_minor": 0
}
