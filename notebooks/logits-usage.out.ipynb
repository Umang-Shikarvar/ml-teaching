{
  "cells": [
    {
      "cell_type": "markdown",
      "metadata": {},
      "source": [
        "# Why use logits\n",
        "\n",
        "Nipun Batra  \n",
        "2024-02-27\n",
        "\n",
        "<figure>\n",
        "<a\n",
        "href=\"https://colab.research.google.com/github/nipunbatra/ml-teaching/blob/master/notebooks/logits-usage.ipynb\"><img\n",
        "src=\"https://colab.research.google.com/assets/colab-badge.svg\" /></a>\n",
        "<figcaption>Open In Colab</figcaption>\n",
        "</figure>"
      ],
      "id": "68aedbcc-aa4f-49c6-a593-6771d6d0d471"
    },
    {
      "cell_type": "code",
      "execution_count": 10,
      "metadata": {},
      "outputs": [],
      "source": [
        "import numpy as np\n",
        "import sklearn \n",
        "import torch\n",
        "import torch.nn as nn\n",
        "import matplotlib.pyplot as plt\n",
        "from latexify import *\n",
        "%matplotlib inline\n",
        "%config InlineBackend.figure_format = 'retina'\n"
      ],
      "id": "cell-2"
    },
    {
      "cell_type": "code",
      "execution_count": 12,
      "metadata": {},
      "outputs": [
        {
          "output_type": "stream",
          "name": "stdout",
          "text": [
            "Loss using probabilities: 0.7269279956817627\n",
            "Loss using logits: 0.7269280552864075"
          ]
        }
      ],
      "source": [
        "import torch\n",
        "import torch.nn.functional as F\n",
        "import ipywidgets as widgets\n",
        "from ipywidgets import interactive\n",
        "from IPython.display import display\n",
        "\n",
        "# Example ground truth probabilities\n",
        "ground_truth_probs = torch.tensor([0.3, 0.7])\n",
        "\n",
        "# Example model predictions (logits)\n",
        "model_logits = torch.tensor([-2.0, 2.0])\n",
        "\n",
        "# Applying softmax to logits to get probabilities\n",
        "model_probs = F.sigmoid(model_logits)\n",
        "\n",
        "# Cross-entropy loss using probabilities\n",
        "loss_probs = F.binary_cross_entropy(model_probs, ground_truth_probs)\n",
        "\n",
        "# Cross-entropy loss using logits\n",
        "loss_logits = F.binary_cross_entropy_with_logits(model_logits, ground_truth_probs)\n",
        "\n",
        "print(\"Loss using probabilities:\", loss_probs.item())\n",
        "print(\"Loss using logits:\", loss_logits.item())"
      ],
      "id": "cell-3"
    },
    {
      "cell_type": "code",
      "execution_count": 13,
      "metadata": {},
      "outputs": [],
      "source": [
        "l1 = widgets.FloatSlider(value=0.3, min=-300, max=300, step=0.01, description='Logits ex 1')\n",
        "l2 = widgets.FloatSlider(value=0.7, min=-300, max=300, step=0.01, description='Logits ex 2')\n",
        "\n",
        "box = widgets.VBox([l1, l2])"
      ],
      "id": "cell-4"
    },
    {
      "cell_type": "code",
      "execution_count": 14,
      "metadata": {},
      "outputs": [],
      "source": [
        "def print_loss_using_both_methods(l1, l2):\n",
        "    logits = torch.tensor([l1, l2])\n",
        "    probs = F.sigmoid(logits)\n",
        "    loss_probs = F.binary_cross_entropy(probs, ground_truth_probs)\n",
        "    loss_logits = F.binary_cross_entropy_with_logits(logits, ground_truth_probs)\n",
        "    print(\"Loss using probabilities:\", loss_probs.item())\n",
        "    print(\"Loss using logits:\", loss_logits.item())"
      ],
      "id": "cell-5"
    },
    {
      "cell_type": "code",
      "execution_count": 15,
      "metadata": {},
      "outputs": [
        {
          "output_type": "display_data",
          "metadata": {},
          "data": {
            "application/vnd.jupyter.widget-view+json": {
              "model_id": "076016553be24f0094339fde28bd69c0",
              "version_major": 2,
              "version_minor": 0
            }
          }
        }
      ],
      "source": [
        "# add interactivity\n",
        "interactive(print_loss_using_both_methods, l1=l1, l2=l2)"
      ],
      "id": "cell-6"
    },
    {
      "cell_type": "code",
      "execution_count": 6,
      "metadata": {},
      "outputs": [
        {
          "output_type": "stream",
          "name": "stdout",
          "text": [
            "Loss using probabilities: 3.164093017578125\n",
            "Loss using logits: 3.164093017578125"
          ]
        }
      ],
      "source": [
        "print_loss_using_both_methods(l1.value, l2.value)"
      ],
      "id": "cell-7"
    },
    {
      "cell_type": "code",
      "execution_count": 16,
      "metadata": {},
      "outputs": [],
      "source": [
        "def our_sigmoid(z):\n",
        "    return 1/(1+torch.exp(-z))"
      ],
      "id": "cell-8"
    },
    {
      "cell_type": "code",
      "execution_count": null,
      "metadata": {},
      "outputs": [
        {
          "output_type": "display_data",
          "metadata": {},
          "data": {
            "text/plain": [
              "tensor(0.)"
            ]
          }
        }
      ],
      "source": [
        "our_sigmoid(torch.tensor(-90.0))\n"
      ],
      "id": "cell-9"
    },
    {
      "cell_type": "code",
      "execution_count": null,
      "metadata": {},
      "outputs": [
        {
          "output_type": "display_data",
          "metadata": {},
          "data": {
            "text/plain": [
              "tensor(0.)"
            ]
          }
        }
      ],
      "source": [
        "our_sigmoid(torch.tensor(-92.0))"
      ],
      "id": "cell-10"
    },
    {
      "cell_type": "code",
      "execution_count": 32,
      "metadata": {},
      "outputs": [
        {
          "output_type": "display_data",
          "metadata": {},
          "data": {
            "text/plain": [
              "tensor(0.9999)"
            ]
          }
        }
      ],
      "source": [
        "our_sigmoid(torch.tensor(9.0))"
      ],
      "id": "cell-11"
    },
    {
      "cell_type": "code",
      "execution_count": 9,
      "metadata": {},
      "outputs": [],
      "source": [
        "F.binary_cross_entropy_with_logits?"
      ],
      "id": "cell-12"
    }
  ],
  "nbformat": 4,
  "nbformat_minor": 5,
  "metadata": {
    "kernelspec": {
      "name": "python3",
      "display_name": "base",
      "language": "python"
    },
    "language_info": {
      "name": "python",
      "codemirror_mode": {
        "name": "ipython",
        "version": "3"
      },
      "file_extension": ".py",
      "mimetype": "text/x-python",
      "nbconvert_exporter": "python",
      "pygments_lexer": "ipython3",
      "version": "3.9.20"
    }
  }
}