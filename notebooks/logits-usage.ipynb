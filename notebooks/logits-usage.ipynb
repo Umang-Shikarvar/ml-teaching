{
  "cells": [
    {
      "cell_type": "raw",
      "metadata": {},
      "source": [
        "---\nauthor: Nipun Batra\nbadges: true\ncategories:\n- ML\ndate: '2/27/2024'\ntitle: Why use logits\ntoc: true\n\n---"
      ]
    },
    {
      "cell_type": "markdown",
      "metadata": {},
      "source": [
        "[![Open In Colab](https://colab.research.google.com/assets/colab-badge.svg)](https://colab.research.google.com/github/nipunbatra/ml-teaching/blob/master/notebooks/logits-usage.ipynb)\n"
      ]
    },
    {
      "cell_type": "code",
      "execution_count": 10,
      "metadata": {},
      "outputs": [],
      "source": [
        "import numpy as np\n",
        "import sklearn \n",
        "import torch\n",
        "import torch.nn as nn\n",
        "import matplotlib.pyplot as plt\n",
        "from latexify import *\n",
        "%matplotlib inline\n",
        "%config InlineBackend.figure_format = 'retina'\n"
      ]
    },
    {
      "cell_type": "code",
      "execution_count": 12,
      "metadata": {},
      "outputs": [
        {
          "name": "stdout",
          "output_type": "stream",
          "text": [
            "Loss using probabilities: 0.7269279956817627\n",
            "Loss using logits: 0.7269280552864075\n"
          ]
        }
      ],
      "source": [
        "import torch\n",
        "import torch.nn.functional as F\n",
        "import ipywidgets as widgets\n",
        "from ipywidgets import interactive\n",
        "from IPython.display import display\n",
        "\n",
        "# Example ground truth probabilities\n",
        "ground_truth_probs = torch.tensor([0.3, 0.7])\n",
        "\n",
        "# Example model predictions (logits)\n",
        "model_logits = torch.tensor([-2.0, 2.0])\n",
        "\n",
        "# Applying softmax to logits to get probabilities\n",
        "model_probs = F.sigmoid(model_logits)\n",
        "\n",
        "# Cross-entropy loss using probabilities\n",
        "loss_probs = F.binary_cross_entropy(model_probs, ground_truth_probs)\n",
        "\n",
        "# Cross-entropy loss using logits\n",
        "loss_logits = F.binary_cross_entropy_with_logits(model_logits, ground_truth_probs)\n",
        "\n",
        "print(\"Loss using probabilities:\", loss_probs.item())\n",
        "print(\"Loss using logits:\", loss_logits.item())"
      ]
    },
    {
      "cell_type": "code",
      "execution_count": 13,
      "metadata": {},
      "outputs": [],
      "source": [
        "l1 = widgets.FloatSlider(value=0.3, min=-300, max=300, step=0.01, description='Logits ex 1')\n",
        "l2 = widgets.FloatSlider(value=0.7, min=-300, max=300, step=0.01, description='Logits ex 2')\n",
        "\n",
        "box = widgets.VBox([l1, l2])"
      ]
    },
    {
      "cell_type": "code",
      "execution_count": 14,
      "metadata": {},
      "outputs": [],
      "source": [
        "def print_loss_using_both_methods(l1, l2):\n",
        "    logits = torch.tensor([l1, l2])\n",
        "    probs = F.sigmoid(logits)\n",
        "    loss_probs = F.binary_cross_entropy(probs, ground_truth_probs)\n",
        "    loss_logits = F.binary_cross_entropy_with_logits(logits, ground_truth_probs)\n",
        "    print(\"Loss using probabilities:\", loss_probs.item())\n",
        "    print(\"Loss using logits:\", loss_logits.item())"
      ]
    },
    {
      "cell_type": "code",
      "execution_count": 15,
      "metadata": {},
      "outputs": [
        {
          "data": {
            "application/vnd.jupyter.widget-view+json": {
              "model_id": "076016553be24f0094339fde28bd69c0",
              "version_major": 2,
              "version_minor": 0
            },
            "text/plain": [
              "interactive(children=(FloatSlider(value=0.3, description='Logits ex 1', max=300.0, min=-300.0, step=0.01), Flo…"
            ]
          },
          "execution_count": 15,
          "metadata": {},
          "output_type": "execute_result"
        }
      ],
      "source": [
        "# add interactivity\n",
        "interactive(print_loss_using_both_methods, l1=l1, l2=l2)"
      ]
    },
    {
      "cell_type": "code",
      "execution_count": 6,
      "metadata": {},
      "outputs": [
        {
          "name": "stdout",
          "output_type": "stream",
          "text": [
            "Loss using probabilities: 3.164093017578125\n",
            "Loss using logits: 3.164093017578125\n"
          ]
        }
      ],
      "source": [
        "print_loss_using_both_methods(l1.value, l2.value)"
      ]
    },
    {
      "cell_type": "code",
      "execution_count": 16,
      "metadata": {},
      "outputs": [],
      "source": [
        "def our_sigmoid(z):\n",
        "    return 1/(1+torch.exp(-z))"
      ]
    },
    {
      "cell_type": "code",
      "execution_count": null,
      "metadata": {},
      "outputs": [
        {
          "data": {
            "text/plain": [
              "tensor(0.)"
            ]
          },
          "execution_count": 17,
          "metadata": {},
          "output_type": "execute_result"
        }
      ],
      "source": [
        "our_sigmoid(torch.tensor(-90.0))\n"
      ]
    },
    {
      "cell_type": "code",
      "execution_count": null,
      "metadata": {},
      "outputs": [
        {
          "data": {
            "text/plain": [
              "tensor(0.)"
            ]
          },
          "execution_count": 24,
          "metadata": {},
          "output_type": "execute_result"
        }
      ],
      "source": [
        "our_sigmoid(torch.tensor(-92.0))"
      ]
    },
    {
      "cell_type": "code",
      "execution_count": 32,
      "metadata": {},
      "outputs": [
        {
          "data": {
            "text/plain": [
              "tensor(0.9999)"
            ]
          },
          "execution_count": 32,
          "metadata": {},
          "output_type": "execute_result"
        }
      ],
      "source": [
        "our_sigmoid(torch.tensor(9.0))"
      ]
    },
    {
      "cell_type": "code",
      "execution_count": 9,
      "metadata": {},
      "outputs": [
        {
          "name": "stdout",
          "output_type": "stream",
          "text": [
            "\u001b[0;31mSignature:\u001b[0m\n",
            "\u001b[0mF\u001b[0m\u001b[0;34m.\u001b[0m\u001b[0mbinary_cross_entropy_with_logits\u001b[0m\u001b[0;34m(\u001b[0m\u001b[0;34m\u001b[0m\n",
            "\u001b[0;34m\u001b[0m    \u001b[0minput\u001b[0m\u001b[0;34m:\u001b[0m \u001b[0mtorch\u001b[0m\u001b[0;34m.\u001b[0m\u001b[0mTensor\u001b[0m\u001b[0;34m,\u001b[0m\u001b[0;34m\u001b[0m\n",
            "\u001b[0;34m\u001b[0m    \u001b[0mtarget\u001b[0m\u001b[0;34m:\u001b[0m \u001b[0mtorch\u001b[0m\u001b[0;34m.\u001b[0m\u001b[0mTensor\u001b[0m\u001b[0;34m,\u001b[0m\u001b[0;34m\u001b[0m\n",
            "\u001b[0;34m\u001b[0m    \u001b[0mweight\u001b[0m\u001b[0;34m:\u001b[0m \u001b[0mOptional\u001b[0m\u001b[0;34m[\u001b[0m\u001b[0mtorch\u001b[0m\u001b[0;34m.\u001b[0m\u001b[0mTensor\u001b[0m\u001b[0;34m]\u001b[0m \u001b[0;34m=\u001b[0m \u001b[0;32mNone\u001b[0m\u001b[0;34m,\u001b[0m\u001b[0;34m\u001b[0m\n",
            "\u001b[0;34m\u001b[0m    \u001b[0msize_average\u001b[0m\u001b[0;34m:\u001b[0m \u001b[0mOptional\u001b[0m\u001b[0;34m[\u001b[0m\u001b[0mbool\u001b[0m\u001b[0;34m]\u001b[0m \u001b[0;34m=\u001b[0m \u001b[0;32mNone\u001b[0m\u001b[0;34m,\u001b[0m\u001b[0;34m\u001b[0m\n",
            "\u001b[0;34m\u001b[0m    \u001b[0mreduce\u001b[0m\u001b[0;34m:\u001b[0m \u001b[0mOptional\u001b[0m\u001b[0;34m[\u001b[0m\u001b[0mbool\u001b[0m\u001b[0;34m]\u001b[0m \u001b[0;34m=\u001b[0m \u001b[0;32mNone\u001b[0m\u001b[0;34m,\u001b[0m\u001b[0;34m\u001b[0m\n",
            "\u001b[0;34m\u001b[0m    \u001b[0mreduction\u001b[0m\u001b[0;34m:\u001b[0m \u001b[0mstr\u001b[0m \u001b[0;34m=\u001b[0m \u001b[0;34m'mean'\u001b[0m\u001b[0;34m,\u001b[0m\u001b[0;34m\u001b[0m\n",
            "\u001b[0;34m\u001b[0m    \u001b[0mpos_weight\u001b[0m\u001b[0;34m:\u001b[0m \u001b[0mOptional\u001b[0m\u001b[0;34m[\u001b[0m\u001b[0mtorch\u001b[0m\u001b[0;34m.\u001b[0m\u001b[0mTensor\u001b[0m\u001b[0;34m]\u001b[0m \u001b[0;34m=\u001b[0m \u001b[0;32mNone\u001b[0m\u001b[0;34m,\u001b[0m\u001b[0;34m\u001b[0m\n",
            "\u001b[0;34m\u001b[0m\u001b[0;34m)\u001b[0m \u001b[0;34m->\u001b[0m \u001b[0mtorch\u001b[0m\u001b[0;34m.\u001b[0m\u001b[0mTensor\u001b[0m\u001b[0;34m\u001b[0m\u001b[0;34m\u001b[0m\u001b[0m\n",
            "\u001b[0;31mDocstring:\u001b[0m\n",
            "Function that measures Binary Cross Entropy between target and input\n",
            "logits.\n",
            "\n",
            "See :class:`~torch.nn.BCEWithLogitsLoss` for details.\n",
            "\n",
            "Args:\n",
            "    input: Tensor of arbitrary shape as unnormalized scores (often referred to as logits).\n",
            "    target: Tensor of the same shape as input with values between 0 and 1\n",
            "    weight (Tensor, optional): a manual rescaling weight\n",
            "        if provided it's repeated to match input tensor shape\n",
            "    size_average (bool, optional): Deprecated (see :attr:`reduction`). By default,\n",
            "        the losses are averaged over each loss element in the batch. Note that for\n",
            "        some losses, there multiple elements per sample. If the field :attr:`size_average`\n",
            "        is set to ``False``, the losses are instead summed for each minibatch. Ignored\n",
            "        when reduce is ``False``. Default: ``True``\n",
            "    reduce (bool, optional): Deprecated (see :attr:`reduction`). By default, the\n",
            "        losses are averaged or summed over observations for each minibatch depending\n",
            "        on :attr:`size_average`. When :attr:`reduce` is ``False``, returns a loss per\n",
            "        batch element instead and ignores :attr:`size_average`. Default: ``True``\n",
            "    reduction (string, optional): Specifies the reduction to apply to the output:\n",
            "        ``'none'`` | ``'mean'`` | ``'sum'``. ``'none'``: no reduction will be applied,\n",
            "        ``'mean'``: the sum of the output will be divided by the number of\n",
            "        elements in the output, ``'sum'``: the output will be summed. Note: :attr:`size_average`\n",
            "        and :attr:`reduce` are in the process of being deprecated, and in the meantime,\n",
            "        specifying either of those two args will override :attr:`reduction`. Default: ``'mean'``\n",
            "    pos_weight (Tensor, optional): a weight of positive examples.\n",
            "            Must be a vector with length equal to the number of classes.\n",
            "\n",
            "Examples::\n",
            "\n",
            "     >>> input = torch.randn(3, requires_grad=True)\n",
            "     >>> target = torch.empty(3).random_(2)\n",
            "     >>> loss = F.binary_cross_entropy_with_logits(input, target)\n",
            "     >>> loss.backward()\n",
            "\u001b[0;31mFile:\u001b[0m      ~/miniconda3/lib/python3.9/site-packages/torch/nn/functional.py\n",
            "\u001b[0;31mType:\u001b[0m      function\n"
          ]
        }
      ],
      "source": [
        "F.binary_cross_entropy_with_logits?"
      ]
    },
    {
      "cell_type": "code",
      "execution_count": null,
      "metadata": {},
      "outputs": [],
      "source": []
    }
  ],
  "metadata": {
    "kernelspec": {
      "display_name": "base",
      "language": "python",
      "name": "python3"
    },
    "language_info": {
      "codemirror_mode": {
        "name": "ipython",
        "version": 3
      },
      "file_extension": ".py",
      "mimetype": "text/x-python",
      "name": "python",
      "nbconvert_exporter": "python",
      "pygments_lexer": "ipython3",
      "version": "3.9.20"
    }
  },
  "nbformat": 4,
  "nbformat_minor": 2
}