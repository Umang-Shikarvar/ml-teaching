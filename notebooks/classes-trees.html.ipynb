{
  "cells": [
    {
      "cell_type": "markdown",
      "metadata": {},
      "source": [
        "# Basics of Classes and Plotting Trees\n",
        "\n",
        "Nipun Batra  \n",
        "2023-12-28\n",
        "\n",
        "<figure>\n",
        "<a\n",
        "href=\"https://colab.research.google.com/github/nipunbatra/ml-teaching/blob/master/notebooks/classes-tree.ipynb\"><img\n",
        "src=\"https://colab.research.google.com/assets/colab-badge.svg\" /></a>\n",
        "<figcaption>Open In Colab</figcaption>\n",
        "</figure>"
      ],
      "id": "0ab83273-02c7-4842-9055-c2957fb3c3a7"
    },
    {
      "cell_type": "code",
      "execution_count": 1,
      "metadata": {},
      "outputs": [],
      "source": [
        "import matplotlib.pyplot as plt\n",
        "import numpy as np\n",
        "import graphviz\n",
        "# Retina mode\n",
        "%config InlineBackend.figure_format = 'retina'\n",
        "%matplotlib inline"
      ],
      "id": "cell-2"
    },
    {
      "cell_type": "code",
      "execution_count": 2,
      "metadata": {},
      "outputs": [],
      "source": [
        "class TreeNode:\n",
        "    def __init__(self, name, value=None, shape='rectangle'):\n",
        "        self.name = name\n",
        "        self.value = value\n",
        "        self.children = []\n",
        "        self.shape = shape\n",
        "\n",
        "    def add_child(self, child_node):\n",
        "        self.children.append(child_node)\n",
        "\n",
        "    def display_tree_text(self, level=0):\n",
        "        indent = \"  \" * level\n",
        "        print(f\"{indent}|- {self.name}: {self.value}\")\n",
        "        for child in self.children:\n",
        "            child.display_tree_text(level + 1)\n",
        "\n",
        "    def display_tree_graphviz(self, dot=None, parent_name=None, graph=None):\n",
        "        if graph is None:\n",
        "            graph = graphviz.Digraph(format='png')\n",
        "        graph.node(str(id(self)), str(self.name), shape=self.shape)\n",
        "\n",
        "        if parent_name is not None:\n",
        "            graph.edge(str(id(parent_name)), str(id(self)))\n",
        "\n",
        "        for child in self.children:\n",
        "            child.display_tree_graphviz(dot, self, graph)\n",
        "\n",
        "        return graph\n",
        "\n",
        "    def display_tree_directly(self):\n",
        "        graph = self.display_tree_graphviz()\n",
        "        src = graph.source\n",
        "        display(graphviz.Source(src, format='png'))"
      ],
      "id": "cell-3"
    },
    {
      "cell_type": "code",
      "execution_count": 3,
      "metadata": {},
      "outputs": [],
      "source": [
        "# Creating nodes\n",
        "root = TreeNode(\"Root\")\n",
        "child1 = TreeNode(\"Child 1\")\n",
        "child2 = TreeNode(\"Child 2\")\n",
        "child3 = TreeNode(\"Child 3\")\n",
        "\n",
        "# Building the tree structure\n",
        "root.add_child(child1)\n",
        "root.add_child(child2)\n",
        "child2.add_child(child3)"
      ],
      "id": "cell-4"
    },
    {
      "cell_type": "code",
      "execution_count": 4,
      "metadata": {},
      "outputs": [
        {
          "output_type": "stream",
          "name": "stdout",
          "text": [
            "|- Root: None\n",
            "  |- Child 1: None\n",
            "  |- Child 2: None\n",
            "    |- Child 3: None"
          ]
        }
      ],
      "source": [
        "# Displaying the tree in text format\n",
        "root.display_tree_text()"
      ],
      "id": "cell-5"
    },
    {
      "cell_type": "code",
      "execution_count": 8,
      "metadata": {},
      "outputs": [
        {
          "output_type": "display_data",
          "metadata": {},
          "data": {
            "image/svg+xml": "PD94bWwgdmVyc2lvbj0iMS4wIiBlbmNvZGluZz0iVVRGLTgiIHN0YW5kYWxvbmU9Im5vIj8+Cjwh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\n"
          }
        }
      ],
      "source": [
        "graph = root.display_tree_graphviz()\n",
        "graph"
      ],
      "id": "cell-6"
    },
    {
      "cell_type": "code",
      "execution_count": 9,
      "metadata": {},
      "outputs": [],
      "source": [
        "class DecisionTreeNode:\n",
        "    def __init__(self, feature, threshold, decision=None, left=None, right=None, shape='box'):\n",
        "        self.feature = feature\n",
        "        self.threshold = threshold\n",
        "        self.decision = decision\n",
        "        self.left = left\n",
        "        self.right = right\n",
        "        self.shape = shape\n",
        "\n",
        "    def display_tree_graphviz(self, dot=None, parent_name=None, graph=None, edge_label=None):\n",
        "        if graph is None:\n",
        "            graph = graphviz.Digraph(format='png')\n",
        "\n",
        "        node_label = self.feature\n",
        "        \n",
        "        if self.threshold is not None:\n",
        "            node_label += f\" <= {self.threshold}\"\n",
        "        \n",
        "        if self.decision is not None:\n",
        "            node_label += f\"\\nDecision: {self.decision}\"\n",
        "        \n",
        "        graph.node(str(id(self)), node_label, shape=self.shape)\n",
        "\n",
        "        if parent_name is not None:\n",
        "            if edge_label is not None:\n",
        "                graph.edge(str(id(parent_name)), str(id(self)), label=edge_label)\n",
        "            else:\n",
        "                graph.edge(str(id(parent_name)), str(id(self)))\n",
        "\n",
        "        if self.left is not None:\n",
        "            self.left.display_tree_graphviz(dot, self, graph, edge_label=\"True\")\n",
        "        if self.right is not None:\n",
        "            self.right.display_tree_graphviz(dot, self, graph, edge_label=\"False\")\n",
        "\n",
        "        return graph"
      ],
      "id": "cell-7"
    },
    {
      "cell_type": "code",
      "execution_count": 12,
      "metadata": {},
      "outputs": [],
      "source": [
        "root = DecisionTreeNode(\"Feature A\", 5.0, decision=None)\n",
        "left_child = DecisionTreeNode(\"Feature B\", 3.0, decision=None)\n",
        "right_child = DecisionTreeNode(\"Feature C\", 8.0, decision=None)\n",
        "root.left = left_child\n",
        "root.right = right_child\n",
        "\n",
        "left_left = DecisionTreeNode(\"\", None, decision = 20.0)\n",
        "left_right = DecisionTreeNode(\"\", None, decision = 10.0)\n",
        "\n",
        "left_child.left = left_left\n",
        "left_child.right = left_right\n",
        "\n",
        "right_left = DecisionTreeNode(\"\", None, decision = 30.0)\n",
        "right_right = DecisionTreeNode(\"\", None, decision = 40.0)\n",
        "\n",
        "right_child.left = right_left\n",
        "right_child.right = right_right"
      ],
      "id": "cell-8"
    },
    {
      "cell_type": "code",
      "execution_count": 13,
      "metadata": {},
      "outputs": [
        {
          "output_type": "display_data",
          "metadata": {},
          "data": {
            "image/svg+xml": "PD94bWwgdmVyc2lvbj0iMS4wIiBlbmNvZGluZz0iVVRGLTgiIHN0YW5kYWxvbmU9Im5vIj8+Cjwh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\n"
          }
        }
      ],
      "source": [
        "root.display_tree_graphviz()"
      ],
      "id": "cell-9"
    }
  ],
  "nbformat": 4,
  "nbformat_minor": 5,
  "metadata": {
    "kernelspec": {
      "name": "python3",
      "display_name": "base",
      "language": "python"
    },
    "language_info": {
      "name": "python",
      "codemirror_mode": {
        "name": "ipython",
        "version": "3"
      },
      "file_extension": ".py",
      "mimetype": "text/x-python",
      "nbconvert_exporter": "python",
      "pygments_lexer": "ipython3",
      "version": "3.9.7"
    }
  }
}