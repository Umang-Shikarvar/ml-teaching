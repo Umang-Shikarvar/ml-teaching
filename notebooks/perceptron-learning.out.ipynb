{
  "cells": [
    {
      "cell_type": "markdown",
      "metadata": {},
      "source": [
        "# Perceptron learning algorithm\n",
        "\n",
        "Nipun Batra  \n",
        "2024-01-01"
      ],
      "id": "086de86d-e4b9-441c-adfb-d9058a0d6338"
    },
    {
      "cell_type": "code",
      "execution_count": 1,
      "metadata": {},
      "outputs": [],
      "source": [
        "import numpy as np\n",
        "import matplotlib.pyplot as plt\n",
        "%matplotlib inline"
      ],
      "id": "cell-1"
    },
    {
      "cell_type": "code",
      "execution_count": 2,
      "metadata": {},
      "outputs": [],
      "source": [
        "X = np.array([[0, 0], [0, 1], [1, 0], [1, 1]])\n",
        "y_and = np.array([0, 0, 0, 1])\n",
        "y_or = np.array([0, 1, 1, 1])\n",
        "y_xor = np.array([0, 1, 1, 0])"
      ],
      "id": "cell-2"
    },
    {
      "cell_type": "code",
      "execution_count": 3,
      "metadata": {},
      "outputs": [],
      "source": [
        "class Perceptron(object):\n",
        "    def __init__(self, lr=0.01, iterations=100):\n",
        "        self.lr = lr\n",
        "        self.iterations = iterations\n",
        "        \n",
        "    def activation(self, z):\n",
        "        ac = np.zeros_like(z)\n",
        "        ac[z>0] = 1\n",
        "        return ac\n",
        "    \n",
        "    def fit(self, X, y):\n",
        "        X_with_one = np.append(np.ones((len(X), 1)), X, axis=1)\n",
        "        self.W = np.zeros((X_with_one.shape[1], 1))\n",
        "        for i in range(self.iterations):\n",
        "            for j in range(len(X)):\n",
        "                summation = (X_with_one@self.W).flatten()\n",
        "                y_hat = self.activation(summation)\n",
        "                err = y - y_hat.flatten() \n",
        "                self.W = self.W + (self.lr*err[j]*X_with_one[j]).reshape(*(self.W.shape))\n",
        "        \n",
        "    def predict(self, X):\n",
        "        X_with_one = np.append(np.ones((len(X), 1)), X, axis=1)\n",
        "        summation = (X_with_one@self.W).flatten()\n",
        "        y_hat = self.activation(summation)           \n",
        "        return y_hat\n",
        "\n",
        "    "
      ],
      "id": "cell-3"
    },
    {
      "cell_type": "code",
      "execution_count": 8,
      "metadata": {},
      "outputs": [],
      "source": [
        "perceptron = Perceptron()"
      ],
      "id": "cell-4"
    },
    {
      "cell_type": "code",
      "execution_count": 9,
      "metadata": {},
      "outputs": [],
      "source": [
        "perceptron.fit(X, y_or)"
      ],
      "id": "cell-5"
    },
    {
      "cell_type": "code",
      "execution_count": 10,
      "metadata": {},
      "outputs": [
        {
          "output_type": "display_data",
          "metadata": {},
          "data": {
            "text/plain": [
              "array([[0.  ],\n",
              "       [0.01],\n",
              "       [0.01]])"
            ]
          }
        }
      ],
      "source": [
        "perceptron.W"
      ],
      "id": "cell-6"
    },
    {
      "cell_type": "code",
      "execution_count": 11,
      "metadata": {},
      "outputs": [
        {
          "output_type": "display_data",
          "metadata": {},
          "data": {
            "text/plain": [
              "array([0., 1., 1., 1.])"
            ]
          }
        }
      ],
      "source": [
        "perceptron.predict(X)"
      ],
      "id": "cell-7"
    },
    {
      "cell_type": "code",
      "execution_count": 12,
      "metadata": {},
      "outputs": [],
      "source": [
        "perceptron.fit(X, y_and)"
      ],
      "id": "cell-8"
    },
    {
      "cell_type": "code",
      "execution_count": 13,
      "metadata": {},
      "outputs": [
        {
          "output_type": "display_data",
          "metadata": {},
          "data": {
            "text/plain": [
              "array([[-0.02],\n",
              "       [ 0.02],\n",
              "       [ 0.01]])"
            ]
          }
        }
      ],
      "source": [
        "perceptron.W"
      ],
      "id": "cell-9"
    },
    {
      "cell_type": "code",
      "execution_count": 14,
      "metadata": {},
      "outputs": [
        {
          "output_type": "display_data",
          "metadata": {},
          "data": {
            "text/plain": [
              "array([0., 0., 0., 1.])"
            ]
          }
        }
      ],
      "source": [
        "perceptron.predict(X)"
      ],
      "id": "cell-10"
    },
    {
      "cell_type": "code",
      "execution_count": 23,
      "metadata": {},
      "outputs": [],
      "source": [
        "perceptron.fit(X, y_xor)"
      ],
      "id": "cell-11"
    },
    {
      "cell_type": "code",
      "execution_count": 24,
      "metadata": {},
      "outputs": [
        {
          "output_type": "display_data",
          "metadata": {},
          "data": {
            "text/plain": [
              "array([[ 0.01],\n",
              "       [-0.01],\n",
              "       [ 0.  ]])"
            ]
          }
        }
      ],
      "source": [
        "perceptron.W"
      ],
      "id": "cell-12"
    },
    {
      "cell_type": "code",
      "execution_count": 25,
      "metadata": {},
      "outputs": [
        {
          "output_type": "display_data",
          "metadata": {},
          "data": {
            "text/plain": [
              "array([1., 1., 0., 0.])"
            ]
          }
        }
      ],
      "source": [
        "perceptron.predict(X)"
      ],
      "id": "cell-13"
    },
    {
      "cell_type": "markdown",
      "metadata": {},
      "source": [
        "### XOR using feature transformation"
      ],
      "id": "2250dbb7-0818-43fa-b228-f6aec943cb60"
    },
    {
      "cell_type": "code",
      "execution_count": 14,
      "metadata": {},
      "outputs": [],
      "source": [
        "# Transformation: 1 \n",
        "# x1, x2, x1x2\n",
        "X_xor_1 = np.append(X, (X[:, 0]*X[:, 1]).reshape(-1, 1), axis=1)"
      ],
      "id": "cell-15"
    },
    {
      "cell_type": "code",
      "execution_count": 15,
      "metadata": {},
      "outputs": [],
      "source": [
        "perceptron = Perceptron()"
      ],
      "id": "cell-16"
    },
    {
      "cell_type": "code",
      "execution_count": 16,
      "metadata": {},
      "outputs": [],
      "source": [
        "perceptron.fit(X_xor_1, y_xor)"
      ],
      "id": "cell-17"
    },
    {
      "cell_type": "code",
      "execution_count": 17,
      "metadata": {},
      "outputs": [
        {
          "output_type": "display_data",
          "metadata": {},
          "data": {
            "text/plain": [
              "array([[ 0.  ],\n",
              "       [ 0.01],\n",
              "       [ 0.01],\n",
              "       [-0.04]])"
            ]
          }
        }
      ],
      "source": [
        "perceptron.W"
      ],
      "id": "cell-18"
    },
    {
      "cell_type": "code",
      "execution_count": 19,
      "metadata": {},
      "outputs": [
        {
          "output_type": "display_data",
          "metadata": {},
          "data": {
            "text/plain": [
              "True"
            ]
          }
        }
      ],
      "source": [
        "np.allclose(perceptron.predict(X_xor_1), y_xor)"
      ],
      "id": "cell-19"
    },
    {
      "cell_type": "code",
      "execution_count": 20,
      "metadata": {},
      "outputs": [
        {
          "output_type": "display_data",
          "metadata": {},
          "data": {
            "text/plain": [
              "array([[0],\n",
              "       [0],\n",
              "       [0],\n",
              "       [1]])"
            ]
          }
        }
      ],
      "source": [
        "(X[:, 0]*X[:, 1]).reshape(-1, 1)"
      ],
      "id": "cell-20"
    },
    {
      "cell_type": "code",
      "execution_count": 21,
      "metadata": {},
      "outputs": [],
      "source": [
        "# Transformation: 1 \n",
        "# x1, x2, x1x2\n"
      ],
      "id": "cell-21"
    },
    {
      "cell_type": "code",
      "execution_count": 22,
      "metadata": {},
      "outputs": [],
      "source": [
        "X_xor_2 = np.array([(1-X[:, 0])*X[:,1], (1-X[:, 1])*X[:,0]]).T"
      ],
      "id": "cell-22"
    },
    {
      "cell_type": "code",
      "execution_count": 23,
      "metadata": {},
      "outputs": [],
      "source": [
        "perceptron = Perceptron()\n",
        "perceptron.fit(X_xor_2, y_xor)"
      ],
      "id": "cell-23"
    },
    {
      "cell_type": "code",
      "execution_count": 24,
      "metadata": {},
      "outputs": [
        {
          "output_type": "display_data",
          "metadata": {},
          "data": {
            "text/plain": [
              "array([[0.  ],\n",
              "       [0.01],\n",
              "       [0.01]])"
            ]
          }
        }
      ],
      "source": [
        "perceptron.W"
      ],
      "id": "cell-24"
    }
  ],
  "nbformat": 4,
  "nbformat_minor": 5,
  "metadata": {
    "kernelspec": {
      "name": "python3",
      "display_name": "base",
      "language": "python"
    },
    "language_info": {
      "name": "python",
      "codemirror_mode": {
        "name": "ipython",
        "version": "3"
      },
      "file_extension": ".py",
      "mimetype": "text/x-python",
      "nbconvert_exporter": "python",
      "pygments_lexer": "ipython3",
      "version": "3.9.20"
    }
  }
}