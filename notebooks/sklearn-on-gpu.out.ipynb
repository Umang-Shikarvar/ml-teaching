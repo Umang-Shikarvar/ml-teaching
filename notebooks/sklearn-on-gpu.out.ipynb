{
  "cells": [
    {
      "cell_type": "markdown",
      "metadata": {},
      "source": [
        "# Sklearn on GPU\n",
        "\n",
        "Kalash Kankaria  \n",
        "2024-02-12\n",
        "\n",
        "<figure>\n",
        "<a\n",
        "href=\"https://colab.research.google.com/github/nipunbatra/ml-teaching/blob/master/notebooks/sklearn-on-gpu.ipynb\"><img\n",
        "src=\"https://colab.research.google.com/assets/colab-badge.svg\" /></a>\n",
        "<figcaption>Open In Colab</figcaption>\n",
        "</figure>\n",
        "\n",
        "## References:\n",
        "\n",
        "https://scikit-learn.org/stable/modules/array_api.html\n",
        "\n",
        "https://scikit-learn.org/stable/modules/generated/sklearn.decomposition.PCA.html#sklearn.decomposition.PCA\n",
        "\n",
        "https://github.com/data-apis/array-api-compat\n",
        "\n",
        "https://labs.quansight.org/blog/array-api-support-scikit-learn\n",
        "\n",
        "# Install the latest version of scikit-learn library"
      ],
      "id": "cc1890a5-56b2-4c4e-b8b4-31cdb9ee81fe"
    },
    {
      "cell_type": "code",
      "execution_count": null,
      "metadata": {
        "outputId": "aba1fc05-12d6-4698-9e6e-ef113632067b",
        "quarto-private-1": {
          "key": "colab",
          "value": {
            "base_uri": "https://localhost:8080/",
            "height": 334
          }
        }
      },
      "outputs": [
        {
          "output_type": "display_data",
          "metadata": {},
          "data": {
            "text/plain": [
              "Unable to display output for mime type(s): application/vnd.colab-display-data+json"
            ]
          }
        }
      ],
      "source": [
        "! pip install scikit-learn==1.4"
      ],
      "id": "cell-4"
    },
    {
      "cell_type": "markdown",
      "metadata": {},
      "source": [
        "# Install array-api-compat library that supports Array API"
      ],
      "id": "d9dfa038-1bab-498f-8e78-5fbe4b4ada91"
    },
    {
      "cell_type": "code",
      "execution_count": null,
      "metadata": {
        "outputId": "530a0724-d38b-4455-c404-0ca40fabe900",
        "quarto-private-1": {
          "key": "colab",
          "value": {
            "base_uri": "https://localhost:8080/"
          }
        }
      },
      "outputs": [
        {
          "output_type": "stream",
          "name": "stdout",
          "text": [
            "Collecting array-api-compat\n",
            "  Downloading array_api_compat-1.4.1-py3-none-any.whl (30 kB)\n",
            "Installing collected packages: array-api-compat\n",
            "Successfully installed array-api-compat-1.4.1"
          ]
        }
      ],
      "source": [
        "!python -m pip install array-api-compat"
      ],
      "id": "cell-6"
    },
    {
      "cell_type": "markdown",
      "metadata": {},
      "source": [
        "# Imports"
      ],
      "id": "c814776f-8556-4aa2-9879-1c415cc13467"
    },
    {
      "cell_type": "code",
      "execution_count": null,
      "metadata": {
        "outputId": "158d8e8d-85cd-4a0e-e91e-f1038bc0c8ca",
        "quarto-private-1": {
          "key": "colab",
          "value": {
            "base_uri": "https://localhost:8080/"
          }
        }
      },
      "outputs": [
        {
          "output_type": "stream",
          "name": "stdout",
          "text": [
            "1.4.0"
          ]
        }
      ],
      "source": [
        "import sklearn\n",
        "from sklearn.discriminant_analysis import LinearDiscriminantAnalysis\n",
        "from sklearn.datasets import make_classification\n",
        "import torch\n",
        "\n",
        "print(sklearn.__version__)"
      ],
      "id": "cell-8"
    },
    {
      "cell_type": "markdown",
      "metadata": {},
      "source": [
        "# Create Classification Data"
      ],
      "id": "4c4581ec-542f-47b4-8c9f-b6e379060a23"
    },
    {
      "cell_type": "code",
      "execution_count": null,
      "metadata": {
        "outputId": "b8631186-97ad-4d54-a041-de1ecbd35b12",
        "quarto-private-1": {
          "key": "colab",
          "value": {
            "base_uri": "https://localhost:8080/"
          }
        }
      },
      "outputs": [
        {
          "output_type": "display_data",
          "metadata": {},
          "data": {
            "text/plain": [
              "(array([[-1.81619458, -1.85550544,  1.0407837 , ...,  0.05972718,\n",
              "         -0.78920817, -1.17862744],\n",
              "        [-0.81112283,  1.22246367,  0.5230838 , ...,  0.34797711,\n",
              "         -0.96876649, -1.09807831],\n",
              "        [ 0.2102088 ,  1.78862513,  0.19437414, ...,  1.05634817,\n",
              "         -1.71915482,  0.09357639],\n",
              "        ...,\n",
              "        [ 0.41402928,  0.89958434,  0.98362959, ..., -0.80880198,\n",
              "          0.27123176, -0.52871488],\n",
              "        [-0.87256303,  1.32778686, -0.97017018, ...,  0.22443048,\n",
              "         -0.80234779,  0.78283347],\n",
              "        [ 0.50504494, -0.39312103,  1.56072382, ...,  2.01801143,\n",
              "         -0.34582501, -0.71471391]]),\n",
              " array([0, 1, 1, ..., 0, 1, 0]))"
            ]
          }
        }
      ],
      "source": [
        "X_np, y_np = make_classification(random_state=0, n_samples=500_000, n_features=300)\n",
        "X_np, y_np"
      ],
      "id": "cell-10"
    },
    {
      "cell_type": "markdown",
      "metadata": {},
      "source": [
        "# Globally set configuration"
      ],
      "id": "40517bc5-9c0c-46b0-a0a3-57c5006fed16"
    },
    {
      "cell_type": "code",
      "execution_count": null,
      "metadata": {},
      "outputs": [],
      "source": [
        "sklearn.set_config(array_api_dispatch=True)"
      ],
      "id": "cell-12"
    },
    {
      "cell_type": "markdown",
      "metadata": {},
      "source": [
        "# LinearDiscriminantAnalysis\n",
        "\n",
        "### Sklearn Performance on CPU"
      ],
      "id": "ab009ff8-4a7b-418d-902d-37a429b716ee"
    },
    {
      "cell_type": "code",
      "execution_count": null,
      "metadata": {
        "outputId": "28b3f184-a7a1-43d3-a49c-b52cab986849",
        "quarto-private-1": {
          "key": "colab",
          "value": {
            "base_uri": "https://localhost:8080/"
          }
        }
      },
      "outputs": [
        {
          "output_type": "stream",
          "name": "stdout",
          "text": [
            "cpu\n",
            "<class 'torch.Tensor'>\n",
            "time taken to run: 30.194514389999767"
          ]
        }
      ],
      "source": [
        "import time\n",
        "\n",
        "t1 = time.perf_counter()\n",
        "\n",
        "X_torch_cpu, y_torch_cpu = torch.asarray(X_np), torch.asarray(y_np)\n",
        "\n",
        "lda_torch_cpu = LinearDiscriminantAnalysis()\n",
        "lda_torch_cpu.fit(X_torch_cpu, y_torch_cpu)\n",
        "\n",
        "predictions = lda_torch_cpu.predict(X_torch_cpu)\n",
        "\n",
        "print(predictions.device)\n",
        "print(type(predictions))\n",
        "\n",
        "t2 = time.perf_counter()\n",
        "print('time taken to run:',t2-t1)"
      ],
      "id": "cell-15"
    },
    {
      "cell_type": "markdown",
      "metadata": {},
      "source": [
        "### Sklearn Performance on GPU"
      ],
      "id": "ed93903a-b12f-4064-9d3a-7d1c8bb7d323"
    },
    {
      "cell_type": "code",
      "execution_count": null,
      "metadata": {
        "outputId": "1063222d-53e0-43a8-b5a2-f61fdeae37a3",
        "quarto-private-1": {
          "key": "colab",
          "value": {
            "base_uri": "https://localhost:8080/"
          }
        }
      },
      "outputs": [
        {
          "output_type": "stream",
          "name": "stdout",
          "text": [
            "<class 'torch.Tensor'>\n",
            "<class 'torch.Tensor'>"
          ]
        }
      ],
      "source": [
        "X_torch_cuda = torch.asarray(X_np, device=\"cuda\", dtype=torch.float32)\n",
        "y_torch_cuda = torch.asarray(y_np, device=\"cuda\", dtype=torch.float32)\n",
        "print(type(X_torch_cuda))\n",
        "print(type(y_torch_cuda))"
      ],
      "id": "cell-17"
    },
    {
      "cell_type": "code",
      "execution_count": null,
      "metadata": {
        "outputId": "86455395-e299-44b1-8a06-b440f0ca9a93",
        "quarto-private-1": {
          "key": "colab",
          "value": {
            "base_uri": "https://localhost:8080/"
          }
        }
      },
      "outputs": [
        {
          "output_type": "stream",
          "name": "stdout",
          "text": [
            "cuda:0\n",
            "<class 'torch.Tensor'>\n",
            "time taken to run: 0.5633445190001112"
          ]
        }
      ],
      "source": [
        "import time\n",
        "\n",
        "t1 = time.perf_counter()\n",
        "\n",
        "lda_torch_cuda = LinearDiscriminantAnalysis()\n",
        "lda_torch_cuda.fit(X_torch_cuda, y_torch_cuda)\n",
        "predictions = lda_torch_cuda.predict(X_torch_cuda)\n",
        "\n",
        "print(predictions.device)\n",
        "print(type(predictions))\n",
        "\n",
        "t2 = time.perf_counter()\n",
        "print('time taken to run:',t2-t1)"
      ],
      "id": "cell-18"
    },
    {
      "cell_type": "code",
      "execution_count": null,
      "metadata": {
        "outputId": "f2bd2bc1-daaa-4695-b586-9e09ce5403ac",
        "quarto-private-1": {
          "key": "colab",
          "value": {
            "base_uri": "https://localhost:8080/"
          }
        }
      },
      "outputs": [
        {
          "output_type": "stream",
          "name": "stdout",
          "text": [
            "<class 'torch.Tensor'>"
          ]
        }
      ],
      "source": [
        "print(type(predictions))"
      ],
      "id": "cell-19"
    },
    {
      "cell_type": "markdown",
      "metadata": {},
      "source": [
        "# Train model on GPU and transfer to CPU for deployment"
      ],
      "id": "0a107ea8-1a5f-4a79-9533-93bab81986a1"
    },
    {
      "cell_type": "code",
      "execution_count": null,
      "metadata": {
        "outputId": "d4a7d4e0-c2c9-4e86-b13b-375038188e3c",
        "quarto-private-1": {
          "key": "colab",
          "value": {
            "base_uri": "https://localhost:8080/"
          }
        }
      },
      "outputs": [
        {
          "output_type": "stream",
          "name": "stdout",
          "text": [
            "<class 'numpy.ndarray'>\n",
            "<class 'numpy.ndarray'>"
          ]
        }
      ],
      "source": [
        "from sklearn.utils._array_api import _estimator_with_converted_arrays\n",
        "\n",
        "tensor_to_ndarray = lambda array : array.cpu().numpy()\n",
        "lda_np = _estimator_with_converted_arrays(lda_torch_cuda, tensor_to_ndarray)\n",
        "X_trans = lda_np.transform(X_np)\n",
        "\n",
        "print(type(X_np))\n",
        "print(type(X_trans))"
      ],
      "id": "cell-21"
    },
    {
      "cell_type": "markdown",
      "metadata": {},
      "source": [
        "# PCA Decomposition"
      ],
      "id": "bdbd2ab1-06a7-496c-9791-df4e6c6a3520"
    },
    {
      "cell_type": "code",
      "execution_count": null,
      "metadata": {},
      "outputs": [],
      "source": [
        "from sklearn.decomposition import PCA\n",
        "import numpy as np\n",
        "\n",
        "X_np = np.random.rand(1000000, 100)\n"
      ],
      "id": "cell-23"
    },
    {
      "cell_type": "markdown",
      "metadata": {},
      "source": [
        "### Sklearn Performance on CPU"
      ],
      "id": "674e513d-293a-4a43-8b02-a009927a485a"
    },
    {
      "cell_type": "code",
      "execution_count": null,
      "metadata": {
        "outputId": "be06bad3-7aa5-49d9-fc56-457d8caf3d5b",
        "quarto-private-1": {
          "key": "colab",
          "value": {
            "base_uri": "https://localhost:8080/"
          }
        }
      },
      "outputs": [
        {
          "output_type": "stream",
          "name": "stdout",
          "text": [
            "tensor([0.0102, 0.0102], dtype=torch.float64)\n",
            "tensor([291.4060, 291.3705], dtype=torch.float64)\n",
            "time taken to run: 10.91760363100002"
          ]
        }
      ],
      "source": [
        "X_torch_cpu = torch.asarray(X_np)\n",
        "\n",
        "t1 = time.perf_counter()\n",
        "\n",
        "pca_cpu = PCA(n_components=2, svd_solver='full')\n",
        "pca_cpu.fit(X_torch_cpu)\n",
        "print(pca_cpu.explained_variance_ratio_)\n",
        "print(pca_cpu.singular_values_)\n",
        "\n",
        "t2 = time.perf_counter()\n",
        "print('time taken to run:',t2-t1)"
      ],
      "id": "cell-25"
    },
    {
      "cell_type": "markdown",
      "metadata": {},
      "source": [
        "### Sklearn Performance on GPU"
      ],
      "id": "259d3c9b-0293-4c42-8813-177c4b458f04"
    },
    {
      "cell_type": "code",
      "execution_count": null,
      "metadata": {
        "outputId": "2015ae59-ef8f-459f-da5c-d8949aa1b347",
        "quarto-private-1": {
          "key": "colab",
          "value": {
            "base_uri": "https://localhost:8080/"
          }
        }
      },
      "outputs": [
        {
          "output_type": "stream",
          "name": "stdout",
          "text": [
            "tensor([0.0102, 0.0102], device='cuda:0')\n",
            "tensor([291.4084, 291.3728], device='cuda:0')\n",
            "time taken to run: 0.278887709999708"
          ]
        }
      ],
      "source": [
        "X_torch_cuda = torch.asarray(X_np, device=\"cuda\", dtype=torch.float32)\n",
        "\n",
        "t1 = time.perf_counter()\n",
        "\n",
        "pca_cuda = PCA(n_components=2, svd_solver='full')\n",
        "pca_cuda.fit(X_torch_cuda)\n",
        "print(pca_cuda.explained_variance_ratio_)\n",
        "print(pca_cuda.singular_values_)\n",
        "\n",
        "t2 = time.perf_counter()\n",
        "print('time taken to run:',t2-t1)"
      ],
      "id": "cell-27"
    }
  ],
  "nbformat": 4,
  "nbformat_minor": 5,
  "metadata": {
    "accelerator": "GPU",
    "colab": {
      "gpuType": "T4",
      "provenance": []
    },
    "kernelspec": {
      "name": "python3",
      "display_name": "Python 3",
      "language": "python"
    },
    "language_info": {
      "name": "python"
    }
  }
}