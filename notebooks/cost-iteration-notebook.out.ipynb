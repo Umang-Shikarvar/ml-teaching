{
  "cells": [
    {
      "cell_type": "markdown",
      "metadata": {},
      "source": [
        "# Cost Iteration Notebook\n",
        "\n",
        "Nipun Batra  \n",
        "2025-07-24\n",
        "\n",
        "<figure>\n",
        "<a\n",
        "href=\"https://colab.research.google.com/github/nipunbatra/ml-teaching/blob/master/notebooks/cost-iteration-notebook.ipynb\"><img\n",
        "src=\"https://colab.research.google.com/assets/colab-badge.svg\" /></a>\n",
        "<figcaption>Open In Colab</figcaption>\n",
        "</figure>"
      ],
      "id": "2ad5317d-8504-4bd2-923b-bcc17a89a64f"
    },
    {
      "cell_type": "code",
      "execution_count": 1,
      "metadata": {},
      "outputs": [],
      "source": [
        "import numpy as np\n",
        "import pandas as pd\n",
        "import matplotlib.pyplot as plt\n",
        "%matplotlib inline"
      ],
      "id": "cell-2"
    },
    {
      "cell_type": "code",
      "execution_count": 2,
      "metadata": {},
      "outputs": [],
      "source": [
        "X = np.array([1, 2, 3])\n",
        "y = np.array([1, 2, 3])"
      ],
      "id": "cell-3"
    },
    {
      "cell_type": "code",
      "execution_count": 3,
      "metadata": {},
      "outputs": [],
      "source": [
        "def y_hat(X, theta_0, theta_1):\n",
        "    return theta_0 + theta_1*X"
      ],
      "id": "cell-4"
    },
    {
      "cell_type": "code",
      "execution_count": 6,
      "metadata": {},
      "outputs": [],
      "source": [
        "def cost(X, y, theta_0, theta_1):\n",
        "    yh = y_hat(X, theta_0, theta_1)\n",
        "    return (y-yh).T@(y-yh)"
      ],
      "id": "cell-5"
    },
    {
      "cell_type": "code",
      "execution_count": 49,
      "metadata": {},
      "outputs": [],
      "source": [
        "theta_0 = 4\n",
        "theta_1 = 0\n",
        "alpha = 0.1\n",
        "costs = np.zeros(1000)\n",
        "theta_0_list = np.zeros(1000)\n",
        "theta_1_list = np.zeros(1000)\n",
        "\n",
        "for i in range(1000):\n",
        "    costs[i] = cost(X, y, theta_0, theta_1)\n",
        "    theta_0 = theta_0 - 2*alpha*((y_hat(X, theta_0, theta_1)-y).mean())\n",
        "    theta_1 = theta_1 - 2*alpha*((y_hat(X, theta_0, theta_1)-y).T@X)/len(X)\n",
        "    theta_0_list[i] = theta_0\n",
        "    theta_1_list[i] = theta_1\n"
      ],
      "id": "cell-6"
    },
    {
      "cell_type": "code",
      "execution_count": 43,
      "metadata": {},
      "outputs": [],
      "source": [
        "import sys\n",
        "sys.path.append(\"../\")\n",
        "from latexify import *"
      ],
      "id": "cell-7"
    },
    {
      "cell_type": "code",
      "execution_count": 47,
      "metadata": {},
      "outputs": [
        {
          "output_type": "display_data",
          "metadata": {},
          "data": {
            "image/png": "[encoded data removed]"
          }
        }
      ],
      "source": [
        "latexify()\n",
        "plt.plot(costs[:200], 'k')\n",
        "format_axes(plt.gca())\n",
        "plt.ylabel(\"Cost\")\n",
        "plt.xlabel(\"Iteration\")\n",
        "plt.savefig(\"../gradient-descent/gd-iter-cost.pdf\", bbox_inches=\"tight\", transparent=True)"
      ],
      "id": "cell-8"
    },
    {
      "cell_type": "code",
      "execution_count": 61,
      "metadata": {},
      "outputs": [
        {
          "output_type": "display_data",
          "metadata": {},
          "data": {
            "image/png": "[encoded data removed]"
          }
        }
      ],
      "source": [
        "\n",
        "for i in range(0, 200, 20):\n",
        "    plt.title(label=\"Fit at iteration {}\".format(i))\n",
        "    plt.plot(X, theta_0_list[i]+theta_1_list[i]*X, color='k')\n",
        "    plt.scatter(X, y, color='k')\n",
        "    plt.xlabel(\"x\")\n",
        "    plt.ylabel(\"y\")\n",
        "    format_axes(plt.gca())\n",
        "    plt.savefig(\"../gradient-descent/fit-iteration-{}.pdf\".format(i), bbox_inches=\"tight\", transparent=True)\n",
        "    plt.cla()"
      ],
      "id": "cell-9"
    },
    {
      "cell_type": "code",
      "execution_count": 35,
      "metadata": {},
      "outputs": [
        {
          "output_type": "display_data",
          "metadata": {},
          "data": {
            "text/plain": [
              "2.0"
            ]
          }
        }
      ],
      "source": [
        "theta_0 = 4\n",
        "theta_1 = 0\n",
        "(y_hat(X, theta_0, theta_1)-y).mean()"
      ],
      "id": "cell-10"
    },
    {
      "cell_type": "code",
      "execution_count": 32,
      "metadata": {},
      "outputs": [
        {
          "output_type": "display_data",
          "metadata": {},
          "data": {
            "text/plain": [
              "-2.0"
            ]
          }
        }
      ],
      "source": [
        "(y-y_hat(X, theta_0, theta_1)).mean()"
      ],
      "id": "cell-11"
    },
    {
      "cell_type": "code",
      "execution_count": 38,
      "metadata": {},
      "outputs": [
        {
          "output_type": "display_data",
          "metadata": {},
          "data": {
            "text/plain": [
              "-10"
            ]
          }
        }
      ],
      "source": [
        "(y-y_hat(X, theta_0, theta_1))@X"
      ],
      "id": "cell-12"
    }
  ],
  "nbformat": 4,
  "nbformat_minor": 5,
  "metadata": {
    "kernelspec": {
      "name": "python3",
      "display_name": "Python 3",
      "language": "python"
    },
    "language_info": {
      "name": "python",
      "codemirror_mode": {
        "name": "ipython",
        "version": "3"
      },
      "file_extension": ".py",
      "mimetype": "text/x-python",
      "nbconvert_exporter": "python",
      "pygments_lexer": "ipython3",
      "version": "3.7.4"
    }
  }
}