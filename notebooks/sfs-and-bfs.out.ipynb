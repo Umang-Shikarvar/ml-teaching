{
  "cells": [
    {
      "cell_type": "markdown",
      "metadata": {},
      "source": [
        "# Sfs And Bfs\n",
        "\n",
        "Nipun Batra  \n",
        "2025-07-24\n",
        "\n",
        "<figure>\n",
        "<a\n",
        "href=\"https://colab.research.google.com/github/nipunbatra/ml-teaching/blob/master/notebooks/sfs-and-bfs.ipynb\"><img\n",
        "src=\"https://colab.research.google.com/assets/colab-badge.svg\" /></a>\n",
        "<figcaption>Open In Colab</figcaption>\n",
        "</figure>"
      ],
      "id": "1c732e3b-ff9d-47ac-8a38-6922a0c02550"
    },
    {
      "cell_type": "code",
      "execution_count": 0,
      "metadata": {
        "quarto-private-1": {
          "key": "colab",
          "value": {}
        }
      },
      "outputs": [],
      "source": [
        "import numpy as np\n",
        "import pandas as pd\n",
        "from sklearn.tree import DecisionTreeClassifier,DecisionTreeRegressor\n",
        "from sklearn.model_selection import train_test_split\n",
        "from sklearn.metrics import accuracy_score as acc\n",
        "from mlxtend.feature_selection import SequentialFeatureSelector as sfs\n",
        "from sklearn.datasets import fetch_california_housing\n",
        "\n"
      ],
      "id": "cell-2"
    },
    {
      "cell_type": "code",
      "execution_count": 0,
      "metadata": {
        "quarto-private-1": {
          "key": "colab",
          "value": {}
        }
      },
      "outputs": [],
      "source": [
        "from mlxtend.feature_selection import Sequential"
      ],
      "id": "cell-3"
    },
    {
      "cell_type": "code",
      "execution_count": 0,
      "metadata": {
        "outputId": "e2e14a2f-60b0-4940-ce1e-0a504f392801",
        "quarto-private-1": {
          "key": "colab",
          "value": {
            "base_uri": "https://localhost:8080/",
            "height": 54
          }
        }
      },
      "outputs": [
        {
          "output_type": "stream",
          "name": "stdout",
          "text": [
            "Training dataset shape: (15480, 8) (15480,)\n",
            "Testing dataset shape: (5160, 8) (5160,)"
          ]
        }
      ],
      "source": [
        "\n",
        "# Read data\n",
        "data =  fetch_california_housing()\n",
        "X = data['data']\n",
        "y = data['target']\n",
        "\n",
        "\n",
        "# Train/test split\n",
        "X_train, X_test, y_train, y_test = train_test_split(\n",
        "    X,\n",
        "    y,\n",
        "    test_size=0.25,\n",
        "    random_state=42)\n",
        "\n",
        "y_train = y_train.ravel()\n",
        "y_test = y_test.ravel()\n",
        "\n",
        "print('Training dataset shape:', X_train.shape, y_train.shape)\n",
        "print('Testing dataset shape:', X_test.shape, y_test.shape)"
      ],
      "id": "cell-4"
    },
    {
      "cell_type": "code",
      "execution_count": 0,
      "metadata": {
        "outputId": "52503a89-f7fa-4969-8ef9-4d3fe7de0da1",
        "quarto-private-1": {
          "key": "colab",
          "value": {
            "base_uri": "https://localhost:8080/",
            "height": 492
          }
        }
      },
      "outputs": [],
      "source": [
        "clf = DecisionTreeRegressor()\n",
        "# clf = DecisionTreeClassifier()\n",
        "\n",
        "# Build step forward feature selection\n",
        "sfs1 = sfs(clf,\n",
        "           k_features=6,\n",
        "           forward=True,\n",
        "           floating=False,\n",
        "           verbose=2,\n",
        "          #  scoring='accuracy',\n",
        "           scoring='neg_root_mean_squared_error',\n",
        "           cv=5)\n",
        "\n",
        "# Perform SFFS\n",
        "sfs1 = sfs1.fit(X_train, y_train)"
      ],
      "id": "cell-5"
    },
    {
      "cell_type": "code",
      "execution_count": 0,
      "metadata": {
        "quarto-private-1": {
          "key": "colab",
          "value": {}
        }
      },
      "outputs": [],
      "source": [
        "feat_cols = list(sfs1.k_feature_idx_)\n",
        "\n",
        "# data['features']"
      ],
      "id": "cell-6"
    },
    {
      "cell_type": "code",
      "execution_count": 0,
      "metadata": {
        "outputId": "9ab533bc-9131-46c9-a526-882950248dfc",
        "quarto-private-1": {
          "key": "colab",
          "value": {
            "base_uri": "https://localhost:8080/",
            "height": 54
          }
        }
      },
      "outputs": [
        {
          "output_type": "display_data",
          "metadata": {},
          "data": {
            "text/plain": [
              "array(['MedInc', 'AveRooms', 'AveBedrms', 'Population', 'Latitude',\n",
              "       'Longitude'], dtype='<U10')"
            ]
          }
        }
      ],
      "source": [
        "np.array(data['feature_names'])[feat_cols]"
      ],
      "id": "cell-7"
    },
    {
      "cell_type": "code",
      "execution_count": 0,
      "metadata": {
        "outputId": "12a18635-38d0-4a39-9455-56b45621d9bd",
        "quarto-private-1": {
          "key": "colab",
          "value": {
            "base_uri": "https://localhost:8080/",
            "height": 163
          }
        }
      },
      "outputs": [
        {
          "output_type": "display_data",
          "metadata": {},
          "data": {
            "text/plain": [
              "['MedInc',\n",
              " 'HouseAge',\n",
              " 'AveRooms',\n",
              " 'AveBedrms',\n",
              " 'Population',\n",
              " 'AveOccup',\n",
              " 'Latitude',\n",
              " 'Longitude']"
            ]
          }
        }
      ],
      "source": [
        "data['feature_names']"
      ],
      "id": "cell-8"
    },
    {
      "cell_type": "code",
      "execution_count": 0,
      "metadata": {
        "outputId": "b34010df-5eae-481d-e01a-af457b578dd1",
        "quarto-private-1": {
          "key": "colab",
          "value": {
            "base_uri": "https://localhost:8080/",
            "height": 565
          }
        }
      },
      "outputs": [],
      "source": [
        "clf = DecisionTreeRegressor()\n",
        "# clf = DecisionTreeClassifier()\n",
        "\n",
        "# Build step forward feature selection\n",
        "sbs = sfs(clf,\n",
        "           k_features=1,\n",
        "           forward=False,\n",
        "           floating=False,\n",
        "           verbose=2,\n",
        "          #  scoring='accuracy',\n",
        "           scoring='neg_root_mean_squared_error',\n",
        "           cv=5)\n",
        "\n",
        "# Perform SFFS\n",
        "sfs1 = sbs.fit(X_train, y_train)"
      ],
      "id": "cell-9"
    },
    {
      "cell_type": "code",
      "execution_count": 0,
      "metadata": {
        "quarto-private-1": {
          "key": "colab",
          "value": {}
        }
      },
      "outputs": [],
      "source": [],
      "id": "cell-10"
    }
  ],
  "nbformat": 4,
  "nbformat_minor": 5,
  "metadata": {
    "colab": {
      "name": "SFS and BFS.ipynb",
      "provenance": []
    },
    "kernelspec": {
      "name": "python3",
      "display_name": "Python 3",
      "language": "python"
    }
  }
}