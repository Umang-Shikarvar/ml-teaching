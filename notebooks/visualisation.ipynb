{
 "cells": [
  {
   "cell_type": "code",
   "execution_count": 1,
   "metadata": {},
   "outputs": [],
   "source": [
    "import matplotlib.pyplot as plt\n",
    "import matplotlib.patches as patches\n",
    "\n",
    "%matplotlib inline"
   ]
  },
  {
   "cell_type": "code",
   "execution_count": 2,
   "metadata": {},
   "outputs": [
    {
     "data": {
      "text/plain": [
       "<matplotlib.patches.Rectangle at 0x7fb7e4060b00>"
      ]
     },
     "execution_count": 2,
     "metadata": {},
     "output_type": "execute_result"
    },
    {
     "data": {
      "image/png": "[encoded data removed]",
      "text/plain": [
       "<Figure size 432x288 with 1 Axes>"
      ]
     },
     "metadata": {
      "needs_background": "light"
     },
     "output_type": "display_data"
    }
   ],
   "source": [
    "someX, someY = 0.5, 0.5\n",
    "fig,ax = plt.subplots()\n",
    "ax.set_aspect(\"equal\")\n",
    "ax.add_patch(patches.Rectangle((0.5, 0.5), 0.1, 0.1,\n",
    "                      alpha=1, facecolor='gray'))"
   ]
  },
  {
   "cell_type": "code",
   "execution_count": 3,
   "metadata": {},
   "outputs": [],
   "source": [
    "import sys\n",
    "sys.path.append(\"convnet-drawer/\")"
   ]
  },
  {
   "cell_type": "code",
   "execution_count": 4,
   "metadata": {},
   "outputs": [
    {
     "data": {
      "image/png": "[encoded data removed]",
      "text/plain": [
       "<Figure size 432x288 with 1 Axes>"
      ]
     },
     "metadata": {
      "needs_background": "light"
     },
     "output_type": "display_data"
    }
   ],
   "source": [
    "from convnet_drawer import Model, Conv2D, MaxPooling2D, Flatten, Dense\n",
    "from matplotlib_util import save_model_to_file\n",
    "channel_scale = 1/5\n",
    "\n",
    "model = Model(input_shape=(32, 32, 1))\n",
    "model.add(Conv2D(6, (3, 3), (1, 1)))\n",
    "model.add(MaxPooling2D((3, 3), strides=(2, 2)))\n",
    "model.add(Conv2D(256, (5, 5), padding=\"same\"))\n",
    "model.add(MaxPooling2D((3, 3), strides=(2, 2)))\n",
    "model.add(Conv2D(384, (3, 3), padding=\"same\"))\n",
    "model.add(Conv2D(384, (3, 3), padding=\"same\"))\n",
    "model.add(Conv2D(256, (3, 3), padding=\"same\"))\n",
    "model.add(MaxPooling2D((3, 3), strides=(2, 2)))\n",
    "model.add(Flatten())\n",
    "model.add(Dense(4096))\n",
    "model.add(Dense(4096))\n",
    "model.add(Dense(1000))\n",
    "\n",
    "# save as svg file\n",
    "model.save_fig(\"example.svg\")\n",
    "\n",
    "\n",
    "\n",
    "# save via matplotlib\n",
    "save_model_to_file(model, \"example.pdf\")"
   ]
  },
  {
   "cell_type": "markdown",
   "metadata": {},
   "source": [
    "model"
   ]
  },
  {
   "cell_type": "code",
   "execution_count": 206,
   "metadata": {},
   "outputs": [
    {
     "data": {
      "image/png": "[encoded data removed]",
      "text/plain": [
       "<Figure size 432x288 with 1 Axes>"
      ]
     },
     "metadata": {
      "needs_background": "light"
     },
     "output_type": "display_data"
    }
   ],
   "source": [
    "##### from mpl_toolkits.mplot3d import Axes3D\n",
    "import numpy as np\n",
    "import matplotlib.pyplot as plt\n",
    "\n",
    "def cuboid_data(o, size=(1,1,1)):\n",
    "    # code taken from\n",
    "    # https://stackoverflow.com/a/35978146/4124317\n",
    "    # suppose axis direction: x: to left; y: to inside; z: to upper\n",
    "    # get the length, width, and height\n",
    "    l, w, h = size\n",
    "    x = [[o[0], o[0] + l, o[0] + l, o[0], o[0]],  \n",
    "         [o[0], o[0] + l, o[0] + l, o[0], o[0]],  \n",
    "         [o[0], o[0] + l, o[0] + l, o[0], o[0]],  \n",
    "         [o[0], o[0] + l, o[0] + l, o[0], o[0]]]  \n",
    "    y = [[o[1], o[1], o[1] + w, o[1] + w, o[1]],  \n",
    "         [o[1], o[1], o[1] + w, o[1] + w, o[1]],  \n",
    "         [o[1], o[1], o[1], o[1], o[1]],          \n",
    "         [o[1] + w, o[1] + w, o[1] + w, o[1] + w, o[1] + w]]   \n",
    "    z = [[o[2], o[2], o[2], o[2], o[2]],                       \n",
    "         [o[2] + h, o[2] + h, o[2] + h, o[2] + h, o[2] + h],   \n",
    "         [o[2], o[2], o[2] + h, o[2] + h, o[2]],               \n",
    "         [o[2], o[2], o[2] + h, o[2] + h, o[2]]]               \n",
    "    return np.array(x), np.array(y), np.array(z)\n",
    "\n",
    "def plotCubeAt(pos=(0,0,0), size=(1,1,1), ax=None,**kwargs):\n",
    "    # Plotting a cube element at position pos\n",
    "    if ax !=None:\n",
    "        X, Y, Z = cuboid_data( pos, size )\n",
    "        ax.plot_surface(X, Y, Z, rstride=1, cstride=1, **kwargs)\n",
    "\n",
    "sizes = [(32,32,1), (28, 28, 6), (14, 14, 6), (10, 10, 16), (5, 5, 16), (1, 120, 1)]\n",
    "positions = [(0, 0, 0)]*len(sizes)\n",
    "for i in range(1, len(sizes)):\n",
    "    positions[i] = (positions[i-1][0] + sizes[i-1][0]+10, 0, 0)\n",
    "colors = [\"grey\"]*len(sizes)\n",
    "\n",
    "\n",
    "fig = plt.figure()\n",
    "ax = fig.gca(projection='3d')\n",
    "ax.view_init(84, -90)\n",
    "ax.set_aspect('equal')\n",
    "ax.set_axis_off()\n",
    "ax.set_xlabel('X')\n",
    "ax.set_xlim(-5, positions[-1][0]+10)\n",
    "ax.set_ylabel('Y')\n",
    "ax.set_ylim(-1, 130)\n",
    "ax.set_zlabel('Z')\n",
    "ax.set_zlim(-1, 5)\n",
    "#ax.set_visible(False)\n",
    "for p,s,c in zip(positions,sizes,colors):\n",
    "    plotCubeAt(pos=p, size=s, ax=ax, color=c)\n",
    "ax.w_zaxis.line.set_lw(0.)\n",
    "ax.set_zticks([])\n",
    "\n",
    "for i in range(len(positions)):\n",
    "    ax.text(positions[i][0], -5, 0, \"X\".join(str(x) for x in sizes[i]), color='black', fontsize=4)\n",
    "fig.subplots_adjust(left=0, right=1, bottom=0, top=1)\n",
    "fig.tight_layout()\n",
    "plt.tight_layout()\n",
    "plt.savefig(\"lenet.pdf\", bbox_inches=\"tight\", transparent=True, dpi=600)"
   ]
  },
  {
   "cell_type": "code",
   "execution_count": null,
   "metadata": {},
   "outputs": [],
   "source": []
  }
 ],
 "metadata": {
  "kernelspec": {
   "display_name": "Python 3",
   "language": "python",
   "name": "python3"
  },
  "language_info": {
   "codemirror_mode": {
    "name": "ipython",
    "version": 3
   },
   "file_extension": ".py",
   "mimetype": "text/x-python",
   "name": "python",
   "nbconvert_exporter": "python",
   "pygments_lexer": "ipython3",
   "version": "3.7.1"
  }
 },
 "nbformat": 4,
 "nbformat_minor": 2
}
