{
  "cells": [
    {
      "cell_type": "markdown",
      "metadata": {},
      "source": [
        "# Dummy Variables and Multi-collinearity\n",
        "\n",
        "Nipun Batra  \n",
        "2024-01-27\n",
        "\n",
        "<figure>\n",
        "<a\n",
        "href=\"https://colab.research.google.com/github/nipunbatra/ml-teaching/blob/master/notebooks/dummy-variables-multi-colinearity.ipynb\"><img\n",
        "src=\"https://colab.research.google.com/assets/colab-badge.svg\" /></a>\n",
        "<figcaption>Open In Colab</figcaption>\n",
        "</figure>"
      ],
      "id": "2a0b5274-28a9-4f91-a1c7-2ed8f3a9461e"
    },
    {
      "cell_type": "code",
      "execution_count": 1,
      "metadata": {},
      "outputs": [],
      "source": [
        "import matplotlib.pyplot as plt\n",
        "import pandas as pd\n",
        "%matplotlib inline\n",
        "%config InlineBackend.figure_format = 'retina'\n",
        "\n",
        "import numpy as np"
      ],
      "id": "cell-2"
    },
    {
      "cell_type": "code",
      "execution_count": 2,
      "metadata": {},
      "outputs": [],
      "source": [
        "x1 = np.array([1, 2, 3])\n",
        "x2 = 2*x1\n",
        "\n",
        "y = np.array([4, 6, 8])"
      ],
      "id": "cell-3"
    },
    {
      "cell_type": "code",
      "execution_count": 3,
      "metadata": {},
      "outputs": [],
      "source": [
        "all_ones = np.ones(x1.shape[0])\n",
        "X = np.array([all_ones, x1, x2]).T"
      ],
      "id": "cell-4"
    },
    {
      "cell_type": "code",
      "execution_count": 4,
      "metadata": {},
      "outputs": [
        {
          "output_type": "display_data",
          "metadata": {},
          "data": {
            "text/plain": [
              "(3, 3)"
            ]
          }
        }
      ],
      "source": [
        "X.shape"
      ],
      "id": "cell-5"
    },
    {
      "cell_type": "code",
      "execution_count": 5,
      "metadata": {},
      "outputs": [
        {
          "output_type": "display_data",
          "metadata": {},
          "data": {
            "text/plain": [
              "array([[1., 1., 2.],\n",
              "       [1., 2., 4.],\n",
              "       [1., 3., 6.]])"
            ]
          }
        }
      ],
      "source": [
        "X"
      ],
      "id": "cell-6"
    },
    {
      "cell_type": "code",
      "execution_count": 6,
      "metadata": {},
      "outputs": [],
      "source": [
        "def solve_normal_equation(X, y):\n",
        "    try:\n",
        "        theta = np.linalg.inv(X.T @ X) @ X.T @ y\n",
        "        return theta\n",
        "    except np.linalg.LinAlgError:\n",
        "        print('The matrix is singular')\n",
        "        print(\"X.T @ X = \\n\", X.T @ X)\n",
        "        return None\n",
        "    \n",
        "### Assignment question: Use np.linalg.solve instead of inv. Why is this better?"
      ],
      "id": "cell-7"
    },
    {
      "cell_type": "code",
      "execution_count": 7,
      "metadata": {},
      "outputs": [
        {
          "output_type": "stream",
          "name": "stdout",
          "text": [
            "The matrix is singular\n",
            "X.T @ X = \n",
            " [[ 3.  6. 12.]\n",
            " [ 6. 14. 28.]\n",
            " [12. 28. 56.]]"
          ]
        }
      ],
      "source": [
        "solve_normal_equation(X, y)"
      ],
      "id": "cell-8"
    },
    {
      "cell_type": "code",
      "execution_count": 8,
      "metadata": {},
      "outputs": [
        {
          "output_type": "display_data",
          "metadata": {},
          "data": {
            "text/plain": [
              "(2, 2)"
            ]
          }
        }
      ],
      "source": [
        "np.linalg.matrix_rank(X), np.linalg.matrix_rank(X.T @ X)"
      ],
      "id": "cell-9"
    },
    {
      "cell_type": "code",
      "execution_count": 9,
      "metadata": {},
      "outputs": [
        {
          "output_type": "display_data",
          "metadata": {},
          "data": {
            "text/plain": [
              "(array([0.4, 0.8]), 2.0)"
            ]
          }
        }
      ],
      "source": [
        "from sklearn.linear_model import LinearRegression\n",
        "lr = LinearRegression()\n",
        "\n",
        "data = np.array([x1, x2]).T\n",
        "\n",
        "lr.fit(data, y)\n",
        "lr.coef_, lr.intercept_\n",
        "\n",
        "\n",
        "# Assignment question: figure why sklearn is able to solve the problem"
      ],
      "id": "cell-10"
    },
    {
      "cell_type": "code",
      "execution_count": 10,
      "metadata": {},
      "outputs": [
        {
          "output_type": "display_data",
          "metadata": {},
          "data": {
            "text/plain": [
              "array([[1.00001, 1.     , 2.     ],\n",
              "       [1.     , 2.00001, 4.     ],\n",
              "       [1.     , 3.     , 6.00001]])"
            ]
          }
        }
      ],
      "source": [
        "# Regularization\n",
        "\n",
        "eps = 1e-5\n",
        "X = np.array([all_ones, x1, x2]).T\n",
        "X = np.eye(3)*eps + X\n",
        "X"
      ],
      "id": "cell-11"
    },
    {
      "cell_type": "code",
      "execution_count": 11,
      "metadata": {},
      "outputs": [
        {
          "output_type": "display_data",
          "metadata": {},
          "data": {
            "text/plain": [
              "3"
            ]
          }
        }
      ],
      "source": [
        "np.linalg.matrix_rank(X)"
      ],
      "id": "cell-12"
    },
    {
      "cell_type": "code",
      "execution_count": 12,
      "metadata": {},
      "outputs": [
        {
          "output_type": "display_data",
          "metadata": {},
          "data": {
            "text/plain": [
              "array([2.00023248, 1.19987743, 0.40001887])"
            ]
          }
        }
      ],
      "source": [
        "solve_normal_equation(X, y)"
      ],
      "id": "cell-13"
    },
    {
      "cell_type": "code",
      "execution_count": 13,
      "metadata": {},
      "outputs": [
        {
          "output_type": "stream",
          "name": "stdout",
          "text": [
            "[[1. 1.]\n",
            " [1. 2.]\n",
            " [1. 3.]]"
          ]
        }
      ],
      "source": [
        "# Drop variables\n",
        "X = np.array([all_ones, x1]).T\n",
        "print(X)"
      ],
      "id": "cell-14"
    },
    {
      "cell_type": "code",
      "execution_count": 14,
      "metadata": {},
      "outputs": [
        {
          "output_type": "display_data",
          "metadata": {},
          "data": {
            "text/plain": [
              "array([2., 2.])"
            ]
          }
        }
      ],
      "source": [
        "solve_normal_equation(X, y)"
      ],
      "id": "cell-15"
    },
    {
      "cell_type": "code",
      "execution_count": 15,
      "metadata": {},
      "outputs": [
        {
          "output_type": "display_data",
          "metadata": {},
          "data": {
            "text/html": [
              "\n",
              "</div>"
            ]
          }
        }
      ],
      "source": [
        "# Dummy variables\n",
        "\n",
        "## dataset\n",
        "num_records = 12\n",
        "windspeed = np.random.randint(0, 10, num_records)\n",
        "vehicles = np.random.randint(100, 500, num_records)\n",
        "direction = np.random.choice(['N', 'S', 'E', 'W'], num_records)\n",
        "pollution = np.random.randint(0, 100, num_records)\n",
        "\n",
        "df = pd.DataFrame({'windspeed': windspeed, 'vehicles': vehicles, 'direction': direction, 'pollution': pollution})\n",
        "df"
      ],
      "id": "cell-16"
    },
    {
      "cell_type": "code",
      "execution_count": 16,
      "metadata": {},
      "outputs": [],
      "source": [
        "def fit_data(df, X, y):\n",
        "    try:\n",
        "        lr = LinearRegression()\n",
        "        lr.fit(X, y)\n",
        "        rep = f\"y = {lr.intercept_:0.2f}\"\n",
        "        for i, coef in enumerate(lr.coef_):\n",
        "            rep += f\" + {coef:0.2f}*{df.columns[i]}\"\n",
        "        return rep\n",
        "    except Exception as e:\n",
        "        print(e)\n",
        "        return None\n",
        "        "
      ],
      "id": "cell-17"
    },
    {
      "cell_type": "code",
      "execution_count": 17,
      "metadata": {},
      "outputs": [
        {
          "output_type": "stream",
          "name": "stdout",
          "text": [
            "could not convert string to float: 'W'"
          ]
        }
      ],
      "source": [
        "fit_data(df, df[df.columns[:-1]], df['pollution'])"
      ],
      "id": "cell-18"
    },
    {
      "cell_type": "code",
      "execution_count": 18,
      "metadata": {},
      "outputs": [],
      "source": [
        "# Ordinal encoding\n",
        "from sklearn.preprocessing import OrdinalEncoder"
      ],
      "id": "cell-19"
    },
    {
      "cell_type": "code",
      "execution_count": 19,
      "metadata": {},
      "outputs": [],
      "source": [
        "enc = OrdinalEncoder()"
      ],
      "id": "cell-20"
    },
    {
      "cell_type": "code",
      "execution_count": 20,
      "metadata": {},
      "outputs": [
        {
          "output_type": "display_data",
          "metadata": {},
          "data": {
            "text/html": [
              "\n",
              "</div>"
            ]
          }
        }
      ],
      "source": [
        "df2 = df.copy()\n",
        "df2['direction'] = enc.fit_transform(df[['direction']]).flatten()\n",
        "df2"
      ],
      "id": "cell-21"
    },
    {
      "cell_type": "code",
      "execution_count": 21,
      "metadata": {},
      "outputs": [
        {
          "output_type": "display_data",
          "metadata": {},
          "data": {
            "text/plain": [
              "'y = 26.49 + 1.49*windspeed + 0.03*vehicles + 1.02*direction'"
            ]
          }
        }
      ],
      "source": [
        "fit_data(df2, df2[df2.columns[:-1]], df2['pollution'])"
      ],
      "id": "cell-22"
    },
    {
      "cell_type": "code",
      "execution_count": 22,
      "metadata": {},
      "outputs": [
        {
          "output_type": "display_data",
          "metadata": {},
          "data": {
            "text/plain": [
              "E    0\n",
              "N    1\n",
              "S    2\n",
              "W    3\n",
              "dtype: int64"
            ]
          }
        }
      ],
      "source": [
        "pd.Series({x: i for i, x in enumerate(enc.categories_[0])})"
      ],
      "id": "cell-23"
    },
    {
      "cell_type": "code",
      "execution_count": 23,
      "metadata": {},
      "outputs": [],
      "source": [
        "# One-hot encoding\n",
        "from sklearn.preprocessing import OneHotEncoder\n",
        "\n",
        "ohe = OneHotEncoder(sparse_output=False)"
      ],
      "id": "cell-24"
    },
    {
      "cell_type": "code",
      "execution_count": 24,
      "metadata": {},
      "outputs": [
        {
          "output_type": "display_data",
          "metadata": {},
          "data": {
            "text/plain": [
              "array([[0., 0., 0., 1.],\n",
              "       [0., 0., 1., 0.],\n",
              "       [0., 0., 1., 0.],\n",
              "       [1., 0., 0., 0.],\n",
              "       [0., 0., 1., 0.],\n",
              "       [0., 0., 1., 0.],\n",
              "       [0., 1., 0., 0.],\n",
              "       [0., 0., 0., 1.],\n",
              "       [0., 1., 0., 0.],\n",
              "       [0., 1., 0., 0.],\n",
              "       [0., 0., 1., 0.],\n",
              "       [0., 0., 1., 0.]])"
            ]
          }
        }
      ],
      "source": [
        "direction_ohe = ohe.fit_transform(df[['direction']])\n",
        "direction_ohe"
      ],
      "id": "cell-25"
    },
    {
      "cell_type": "code",
      "execution_count": 25,
      "metadata": {},
      "outputs": [],
      "source": [
        "col_names_ohe = [f\"Is it {x}?\" for x in enc.categories_[0]]"
      ],
      "id": "cell-26"
    },
    {
      "cell_type": "code",
      "execution_count": 26,
      "metadata": {},
      "outputs": [
        {
          "output_type": "display_data",
          "metadata": {},
          "data": {
            "text/html": [
              "\n",
              "</div>"
            ]
          }
        }
      ],
      "source": [
        "direction_ohe_df = pd.DataFrame(direction_ohe, columns=col_names_ohe)\n",
        "direction_ohe_df"
      ],
      "id": "cell-27"
    },
    {
      "cell_type": "code",
      "execution_count": 27,
      "metadata": {},
      "outputs": [
        {
          "output_type": "display_data",
          "metadata": {},
          "data": {
            "text/plain": [
              "0     0.0\n",
              "1     0.0\n",
              "2     0.0\n",
              "3     0.0\n",
              "4     0.0\n",
              "5     0.0\n",
              "6     0.0\n",
              "7     0.0\n",
              "8     0.0\n",
              "9     0.0\n",
              "10    0.0\n",
              "11    0.0\n",
              "dtype: float64"
            ]
          }
        }
      ],
      "source": [
        "# Confirm that we can write Is it W? as a linear combination of the other columns\n",
        "1-direction_ohe_df[[\"Is it N?\", \"Is it S?\", \"Is it E?\"]].sum(axis=1) - direction_ohe_df[\"Is it W?\"]\n"
      ],
      "id": "cell-28"
    },
    {
      "cell_type": "code",
      "execution_count": 28,
      "metadata": {},
      "outputs": [],
      "source": [
        "X = np.hstack([df[['windspeed', 'vehicles']].values, direction_ohe])"
      ],
      "id": "cell-29"
    },
    {
      "cell_type": "code",
      "execution_count": 29,
      "metadata": {},
      "outputs": [
        {
          "output_type": "display_data",
          "metadata": {},
          "data": {
            "text/plain": [
              "array([[  0., 355.,   0.,   0.,   0.,   1.],\n",
              "       [  2., 367.,   0.,   0.,   1.,   0.],\n",
              "       [  2., 447.,   0.,   0.,   1.,   0.],\n",
              "       [  1., 223.,   1.,   0.,   0.,   0.],\n",
              "       [  1., 272.,   0.,   0.,   1.,   0.],\n",
              "       [  9., 394.,   0.,   0.,   1.,   0.],\n",
              "       [  0., 333.,   0.,   1.,   0.,   0.],\n",
              "       [  3., 308.,   0.,   0.,   0.,   1.],\n",
              "       [  7., 480.,   0.,   1.,   0.,   0.],\n",
              "       [  9., 360.,   0.,   1.,   0.,   0.],\n",
              "       [  0., 125.,   0.,   0.,   1.,   0.],\n",
              "       [  9., 401.,   0.,   0.,   1.,   0.]])"
            ]
          }
        }
      ],
      "source": [
        "X"
      ],
      "id": "cell-30"
    },
    {
      "cell_type": "code",
      "execution_count": 30,
      "metadata": {},
      "outputs": [],
      "source": [
        "X_aug = np.hstack([np.ones((X.shape[0], 1)), X])"
      ],
      "id": "cell-31"
    },
    {
      "cell_type": "code",
      "execution_count": 31,
      "metadata": {},
      "outputs": [
        {
          "output_type": "display_data",
          "metadata": {},
          "data": {
            "text/plain": [
              "array([[  1.,   0., 355.,   0.,   0.,   0.,   1.],\n",
              "       [  1.,   2., 367.,   0.,   0.,   1.,   0.],\n",
              "       [  1.,   2., 447.,   0.,   0.,   1.,   0.],\n",
              "       [  1.,   1., 223.,   1.,   0.,   0.,   0.],\n",
              "       [  1.,   1., 272.,   0.,   0.,   1.,   0.],\n",
              "       [  1.,   9., 394.,   0.,   0.,   1.,   0.],\n",
              "       [  1.,   0., 333.,   0.,   1.,   0.,   0.],\n",
              "       [  1.,   3., 308.,   0.,   0.,   0.,   1.],\n",
              "       [  1.,   7., 480.,   0.,   1.,   0.,   0.],\n",
              "       [  1.,   9., 360.,   0.,   1.,   0.,   0.],\n",
              "       [  1.,   0., 125.,   0.,   0.,   1.,   0.],\n",
              "       [  1.,   9., 401.,   0.,   0.,   1.,   0.]])"
            ]
          }
        }
      ],
      "source": [
        "X_aug"
      ],
      "id": "cell-32"
    },
    {
      "cell_type": "code",
      "execution_count": 33,
      "metadata": {},
      "outputs": [
        {
          "output_type": "display_data",
          "metadata": {},
          "data": {
            "text/plain": [
              "(12, 7)"
            ]
          }
        }
      ],
      "source": [
        "X_aug.shape"
      ],
      "id": "cell-33"
    },
    {
      "cell_type": "code",
      "execution_count": 34,
      "metadata": {},
      "outputs": [
        {
          "output_type": "display_data",
          "metadata": {},
          "data": {
            "text/plain": [
              "(6, 6, (7, 7))"
            ]
          }
        }
      ],
      "source": [
        "np.linalg.matrix_rank(X_aug), np.linalg.matrix_rank(X_aug.T @ X_aug), (X_aug.T @ X_aug).shape"
      ],
      "id": "cell-34"
    },
    {
      "cell_type": "code",
      "execution_count": 35,
      "metadata": {},
      "outputs": [
        {
          "output_type": "display_data",
          "metadata": {},
          "data": {
            "text/html": [
              "\n",
              "</div>"
            ]
          }
        }
      ],
      "source": [
        "pd.DataFrame(X_aug.T @ X_aug)"
      ],
      "id": "cell-35"
    },
    {
      "cell_type": "code",
      "execution_count": 36,
      "metadata": {},
      "outputs": [
        {
          "output_type": "display_data",
          "metadata": {},
          "data": {
            "text/plain": [
              "array([[0., 0., 1.],\n",
              "       [0., 1., 0.],\n",
              "       [0., 1., 0.],\n",
              "       [0., 0., 0.],\n",
              "       [0., 1., 0.],\n",
              "       [0., 1., 0.],\n",
              "       [1., 0., 0.],\n",
              "       [0., 0., 1.],\n",
              "       [1., 0., 0.],\n",
              "       [1., 0., 0.],\n",
              "       [0., 1., 0.],\n",
              "       [0., 1., 0.]])"
            ]
          }
        }
      ],
      "source": [
        "ohe = OneHotEncoder(sparse_output=False, drop='first')\n",
        "ohe.fit_transform(df[['direction']])\n"
      ],
      "id": "cell-36"
    },
    {
      "cell_type": "code",
      "execution_count": 37,
      "metadata": {},
      "outputs": [
        {
          "output_type": "display_data",
          "metadata": {},
          "data": {
            "text/html": [
              "\n",
              "</div>"
            ]
          }
        }
      ],
      "source": [
        "direction_ohe_n_1 = ohe.fit_transform(df[['direction']])\n",
        "col_names_ohe_n_1 = [f\"Is it {x}?\" for x in enc.categories_[0][1:]]\n",
        "df_ohe_n_1 = pd.DataFrame(direction_ohe_n_1, columns=col_names_ohe_n_1)\n",
        "df_ohe_n_1"
      ],
      "id": "cell-37"
    },
    {
      "cell_type": "code",
      "execution_count": 38,
      "metadata": {},
      "outputs": [
        {
          "output_type": "display_data",
          "metadata": {},
          "data": {
            "text/plain": [
              "array([[  1.,   0., 355.,   0.,   0.,   1.],\n",
              "       [  1.,   2., 367.,   0.,   1.,   0.],\n",
              "       [  1.,   2., 447.,   0.,   1.,   0.],\n",
              "       [  1.,   1., 223.,   0.,   0.,   0.],\n",
              "       [  1.,   1., 272.,   0.,   1.,   0.],\n",
              "       [  1.,   9., 394.,   0.,   1.,   0.],\n",
              "       [  1.,   0., 333.,   1.,   0.,   0.],\n",
              "       [  1.,   3., 308.,   0.,   0.,   1.],\n",
              "       [  1.,   7., 480.,   1.,   0.,   0.],\n",
              "       [  1.,   9., 360.,   1.,   0.,   0.],\n",
              "       [  1.,   0., 125.,   0.,   1.,   0.],\n",
              "       [  1.,   9., 401.,   0.,   1.,   0.]])"
            ]
          }
        }
      ],
      "source": [
        "X = np.hstack([df[['windspeed', 'vehicles']].values, df_ohe_n_1.values])\n",
        "X_aug = np.hstack([np.ones((X.shape[0], 1)), X])\n",
        "\n",
        "X_aug"
      ],
      "id": "cell-38"
    },
    {
      "cell_type": "code",
      "execution_count": 39,
      "metadata": {},
      "outputs": [
        {
          "output_type": "display_data",
          "metadata": {},
          "data": {
            "text/plain": [
              "(6, 6, (6, 6))"
            ]
          }
        }
      ],
      "source": [
        "np.linalg.matrix_rank(X_aug), np.linalg.matrix_rank(X_aug.T @ X_aug), (X_aug.T @ X_aug).shape"
      ],
      "id": "cell-39"
    },
    {
      "cell_type": "code",
      "execution_count": 40,
      "metadata": {},
      "outputs": [],
      "source": [
        "# Interepeting dummy variables\n",
        "\n",
        "## dataset\n",
        "\n",
        "X = np.array(['F', 'F', 'F', 'M', 'M'])\n",
        "y = np.array([5, 5.2, 5.4, 5.8, 6])"
      ],
      "id": "cell-40"
    },
    {
      "cell_type": "code",
      "execution_count": 41,
      "metadata": {},
      "outputs": [
        {
          "output_type": "display_data",
          "metadata": {},
          "data": {
            "text/plain": [
              "array([[0],\n",
              "       [0],\n",
              "       [0],\n",
              "       [1],\n",
              "       [1]])"
            ]
          }
        }
      ],
      "source": [
        "from sklearn.preprocessing import LabelBinarizer\n",
        "l = LabelBinarizer()\n",
        "l.fit_transform(X)"
      ],
      "id": "cell-41"
    },
    {
      "cell_type": "code",
      "execution_count": 42,
      "metadata": {},
      "outputs": [],
      "source": [
        "X_binary = 1 - l.fit_transform(X)"
      ],
      "id": "cell-42"
    },
    {
      "cell_type": "code",
      "execution_count": 43,
      "metadata": {},
      "outputs": [
        {
          "output_type": "display_data",
          "metadata": {},
          "data": {
            "text/plain": [
              "array([[1],\n",
              "       [1],\n",
              "       [1],\n",
              "       [0],\n",
              "       [0]])"
            ]
          }
        }
      ],
      "source": [
        "X_binary    "
      ],
      "id": "cell-43"
    },
    {
      "cell_type": "code",
      "execution_count": 44,
      "metadata": {},
      "outputs": [
        {
          "output_type": "display_data",
          "metadata": {},
          "data": {
            "text/html": [
              "<style>#sk-container-id-1 {color: black;}#sk-container-id-1 pre{padding: 0;}#sk-container-id-1 div.sk-toggleable {background-color: white;}#sk-container-id-1 label.sk-toggleable__label {cursor: pointer;display: block;width: 100%;margin-bottom: 0;padding: 0.3em;box-sizing: border-box;text-align: center;}#sk-container-id-1 label.sk-toggleable__label-arrow:before {content: \"▸\";float: left;margin-right: 0.25em;color: #696969;}#sk-container-id-1 label.sk-toggleable__label-arrow:hover:before {color: black;}#sk-container-id-1 div.sk-estimator:hover label.sk-toggleable__label-arrow:before {color: black;}#sk-container-id-1 div.sk-toggleable__content {max-height: 0;max-width: 0;overflow: hidden;text-align: left;background-color: #f0f8ff;}#sk-container-id-1 div.sk-toggleable__content pre {margin: 0.2em;color: black;border-radius: 0.25em;background-color: #f0f8ff;}#sk-container-id-1 input.sk-toggleable__control:checked~div.sk-toggleable__content {max-height: 200px;max-width: 100%;overflow: auto;}#sk-container-id-1 input.sk-toggleable__control:checked~label.sk-toggleable__label-arrow:before {content: \"▾\";}#sk-container-id-1 div.sk-estimator input.sk-toggleable__control:checked~label.sk-toggleable__label {background-color: #d4ebff;}#sk-container-id-1 div.sk-label input.sk-toggleable__control:checked~label.sk-toggleable__label {background-color: #d4ebff;}#sk-container-id-1 input.sk-hidden--visually {border: 0;clip: rect(1px 1px 1px 1px);clip: rect(1px, 1px, 1px, 1px);height: 1px;margin: -1px;overflow: hidden;padding: 0;position: absolute;width: 1px;}#sk-container-id-1 div.sk-estimator {font-family: monospace;background-color: #f0f8ff;border: 1px dotted black;border-radius: 0.25em;box-sizing: border-box;margin-bottom: 0.5em;}#sk-container-id-1 div.sk-estimator:hover {background-color: #d4ebff;}#sk-container-id-1 div.sk-parallel-item::after {content: \"\";width: 100%;border-bottom: 1px solid gray;flex-grow: 1;}#sk-container-id-1 div.sk-label:hover label.sk-toggleable__label {background-color: #d4ebff;}#sk-container-id-1 div.sk-serial::before {content: \"\";position: absolute;border-left: 1px solid gray;box-sizing: border-box;top: 0;bottom: 0;left: 50%;z-index: 0;}#sk-container-id-1 div.sk-serial {display: flex;flex-direction: column;align-items: center;background-color: white;padding-right: 0.2em;padding-left: 0.2em;position: relative;}#sk-container-id-1 div.sk-item {position: relative;z-index: 1;}#sk-container-id-1 div.sk-parallel {display: flex;align-items: stretch;justify-content: center;background-color: white;position: relative;}#sk-container-id-1 div.sk-item::before, #sk-container-id-1 div.sk-parallel-item::before {content: \"\";position: absolute;border-left: 1px solid gray;box-sizing: border-box;top: 0;bottom: 0;left: 50%;z-index: -1;}#sk-container-id-1 div.sk-parallel-item {display: flex;flex-direction: column;z-index: 1;position: relative;background-color: white;}#sk-container-id-1 div.sk-parallel-item:first-child::after {align-self: flex-end;width: 50%;}#sk-container-id-1 div.sk-parallel-item:last-child::after {align-self: flex-start;width: 50%;}#sk-container-id-1 div.sk-parallel-item:only-child::after {width: 0;}#sk-container-id-1 div.sk-dashed-wrapped {border: 1px dashed gray;margin: 0 0.4em 0.5em 0.4em;box-sizing: border-box;padding-bottom: 0.4em;background-color: white;}#sk-container-id-1 div.sk-label label {font-family: monospace;font-weight: bold;display: inline-block;line-height: 1.2em;}#sk-container-id-1 div.sk-label-container {text-align: center;}#sk-container-id-1 div.sk-container {/* jupyter's `normalize.less` sets `[hidden] { display: none; }` but bootstrap.min.css set `[hidden] { display: none !important; }` so we also need the `!important` here to be able to override the default hidden behavior on the sphinx rendered scikit-learn.org. See: https://github.com/scikit-learn/scikit-learn/issues/21755 */display: inline-block !important;position: relative;}#sk-container-id-1 div.sk-text-repr-fallback {display: none;}</style><div id=\"sk-container-id-1\" class=\"sk-top-container\"><div class=\"sk-text-repr-fallback\"><pre>LinearRegression()</pre><b>In a Jupyter environment, please rerun this cell to show the HTML representation or trust the notebook. <br />On GitHub, the HTML representation is unable to render, please try loading this page with nbviewer.org.</b></div><div class=\"sk-container\" hidden><div class=\"sk-item\"><div class=\"sk-estimator sk-toggleable\"><input class=\"sk-toggleable__control sk-hidden--visually\" id=\"sk-estimator-id-1\" type=\"checkbox\" checked><label for=\"sk-estimator-id-1\" class=\"sk-toggleable__label sk-toggleable__label-arrow\">LinearRegression</label><div class=\"sk-toggleable__content\"><pre>LinearRegression()</pre></div></div></div></div></div>"
            ]
          }
        }
      ],
      "source": [
        "lr = LinearRegression()\n",
        "lr.fit(X_binary, y)"
      ],
      "id": "cell-44"
    },
    {
      "cell_type": "code",
      "execution_count": 45,
      "metadata": {},
      "outputs": [
        {
          "output_type": "display_data",
          "metadata": {},
          "data": {
            "text/plain": [
              "(array([-0.7]), 5.8999999999999995)"
            ]
          }
        }
      ],
      "source": [
        "lr.coef_, lr.intercept_"
      ],
      "id": "cell-45"
    },
    {
      "cell_type": "code",
      "execution_count": 219,
      "metadata": {},
      "outputs": [
        {
          "output_type": "display_data",
          "metadata": {},
          "data": {
            "text/plain": [
              "5.9"
            ]
          }
        }
      ],
      "source": [
        "y[(X_binary==0).flatten()].mean()"
      ],
      "id": "cell-46"
    },
    {
      "cell_type": "code",
      "execution_count": 220,
      "metadata": {},
      "outputs": [
        {
          "output_type": "display_data",
          "metadata": {},
          "data": {
            "text/plain": [
              "5.2"
            ]
          }
        }
      ],
      "source": [
        "y[(X_binary==1).flatten()].mean()"
      ],
      "id": "cell-47"
    }
  ],
  "nbformat": 4,
  "nbformat_minor": 5,
  "metadata": {
    "kernelspec": {
      "name": "python3",
      "display_name": "base",
      "language": "python"
    },
    "language_info": {
      "name": "python",
      "codemirror_mode": {
        "name": "ipython",
        "version": "3"
      },
      "file_extension": ".py",
      "mimetype": "text/x-python",
      "nbconvert_exporter": "python",
      "pygments_lexer": "ipython3",
      "version": "3.9.7"
    }
  }
}