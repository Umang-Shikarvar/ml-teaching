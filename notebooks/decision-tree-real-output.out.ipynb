{
  "cells": [
    {
      "cell_type": "markdown",
      "metadata": {},
      "source": [
        "# Decision Trees Real Output\n",
        "\n",
        "Nipun Batra  \n",
        "2024-01-01\n",
        "\n",
        "<figure>\n",
        "<a\n",
        "href=\"https://colab.research.google.com/github/nipunbatra/ml-teaching/blob/master/notebooks/decision-tree-real-output.ipynb\"><img\n",
        "src=\"https://colab.research.google.com/assets/colab-badge.svg\" /></a>\n",
        "<figcaption>Open In Colab</figcaption>\n",
        "</figure>"
      ],
      "id": "62acde2a-5c5d-4a6b-a00f-d88c30c8f097"
    },
    {
      "cell_type": "code",
      "execution_count": 40,
      "metadata": {},
      "outputs": [],
      "source": [
        "import matplotlib.pyplot as plt\n",
        "import numpy as np\n",
        "import pandas as pd\n",
        "# Retina mode\n",
        "%matplotlib inline\n",
        "%config InlineBackend.figure_format = 'retina'\n",
        "\n",
        "from latexify import latexify, format_axes"
      ],
      "id": "cell-2"
    },
    {
      "cell_type": "code",
      "execution_count": 4,
      "metadata": {},
      "outputs": [],
      "source": [
        "df = pd.read_csv(\"../datasets/tennis-real-output.csv\", index_col=[0])"
      ],
      "id": "cell-3"
    },
    {
      "cell_type": "code",
      "execution_count": 5,
      "metadata": {},
      "outputs": [
        {
          "output_type": "display_data",
          "metadata": {},
          "data": {
            "text/html": [
              "\n",
              "</div>"
            ]
          }
        }
      ],
      "source": [
        "df"
      ],
      "id": "cell-4"
    },
    {
      "cell_type": "code",
      "execution_count": 7,
      "metadata": {},
      "outputs": [
        {
          "output_type": "stream",
          "name": "stdout",
          "text": [
            "32.714285714285715"
          ]
        }
      ],
      "source": [
        "mean_mins = df[\"Minutes Played\"].mean()\n",
        "print(mean_mins)"
      ],
      "id": "cell-5"
    },
    {
      "cell_type": "code",
      "execution_count": 8,
      "metadata": {},
      "outputs": [
        {
          "output_type": "stream",
          "name": "stdout",
          "text": [
            "311.3469387755102"
          ]
        }
      ],
      "source": [
        "initial_mse = ((df[\"Minutes Played\"] - mean_mins) ** 2).mean()\n",
        "print(initial_mse)"
      ],
      "id": "cell-6"
    },
    {
      "cell_type": "code",
      "execution_count": 35,
      "metadata": {},
      "outputs": [
        {
          "output_type": "stream",
          "name": "stdout",
          "text": [
            "[20 40 50 60 10 60 40 35]\n",
            "Wind: Weak\n",
            "Subset MSE: 277.734375\n",
            "Weighted MSE = 8/14 * 277.7 = 158.7\n",
            "\n",
            "\n",
            "[24 10  4 45 40 20]\n",
            "Wind: Strong\n",
            "Subset MSE: 218.13888888888889\n",
            "Weighted MSE = 6/14 * 218.1 = 93.49\n",
            "\n",
            "\n",
            "Weighted total MSE: 252.19345238095235"
          ]
        }
      ],
      "source": [
        "# Explore MSE for different splits based on the \"Outlook\" attribute\n",
        "weighted_total_mse = 0.0\n",
        "for category in df[\"Wind\"].unique():\n",
        "    subset = df[df[\"Wind\"] == category]\n",
        "    \n",
        "    # Calculate MSE for the subset\n",
        "    mse_subset = ((subset[\"Minutes Played\"] - subset[\"Minutes Played\"].mean()) ** 2).mean()\n",
        "    \n",
        "    # Calculate the weighted MSE\n",
        "    weighted_mse = (len(subset) / len(df)) * mse_subset\n",
        "    weighted_total_mse = weighted_total_mse + weighted_mse\n",
        "    \n",
        "    print(subset[\"Minutes Played\"].values)\n",
        "    print(f\"Wind: {category}\")\n",
        "    print(\"Subset MSE:\", mse_subset)\n",
        "    print(f\"Weighted MSE = {len(subset)}/{len(df)} * {mse_subset:0.4} = {weighted_mse:0.4}\")\n",
        "    print(\"\\n\")\n",
        "\n",
        "print(\"Weighted total MSE:\", weighted_total_mse)"
      ],
      "id": "cell-7"
    },
    {
      "cell_type": "code",
      "execution_count": 31,
      "metadata": {},
      "outputs": [
        {
          "output_type": "stream",
          "name": "stdout",
          "text": [
            "59.15348639455783"
          ]
        }
      ],
      "source": [
        "reduction_mse_wind = initial_mse - weighted_total_mse\n",
        "print(reduction_mse_wind)"
      ],
      "id": "cell-8"
    },
    {
      "cell_type": "code",
      "execution_count": 27,
      "metadata": {},
      "outputs": [],
      "source": [
        "def reduction_mse(df_dataset, input_attribute, target_attribute):\n",
        "    # Calculate the initial MSE\n",
        "    mean_target = df_dataset[target_attribute].mean()\n",
        "    initial_mse = ((df_dataset[target_attribute] - mean_target) ** 2).mean()\n",
        "    weighted_total_mse = 0.0\n",
        "\n",
        "    for category in df_dataset[input_attribute].unique():\n",
        "        subset = df_dataset[df_dataset[input_attribute] == category]\n",
        "        mse_subset = ((subset[target_attribute] - subset[target_attribute].mean()) ** 2).mean()\n",
        "        \n",
        "        weighted_mse = (len(subset) / len(df_dataset)) * mse_subset\n",
        "        weighted_total_mse = weighted_total_mse + weighted_mse\n",
        "    \n",
        "    return initial_mse - weighted_total_mse\n",
        "\n",
        "    "
      ],
      "id": "cell-9"
    },
    {
      "cell_type": "code",
      "execution_count": 36,
      "metadata": {},
      "outputs": [],
      "source": [
        "reduction = {}\n",
        "for attribute in [\"Outlook\", \"Temp\", \"Humidity\", \"Wind\"]:\n",
        "    reduction[attribute] = reduction_mse(df, attribute, \"Minutes Played\")\n",
        "    \n",
        "reduction_ser = pd.Series(reduction)"
      ],
      "id": "cell-10"
    },
    {
      "cell_type": "code",
      "execution_count": 41,
      "metadata": {},
      "outputs": [],
      "source": [
        "latexify()"
      ],
      "id": "cell-11"
    },
    {
      "cell_type": "code",
      "execution_count": 46,
      "metadata": {},
      "outputs": [
        {
          "output_type": "display_data",
          "metadata": {},
          "data": {
            "image/png": "[encoded data removed]"
          }
        }
      ],
      "source": [
        "bars = reduction_ser.plot(kind='bar', rot=0, color='k')\n",
        "format_axes(plt.gca())\n",
        "\n",
        "# Add values on top of the bars\n",
        "for bar in bars.patches:\n",
        "    yval = bar.get_height()\n",
        "    plt.text(bar.get_x() + bar.get_width()/2, yval, round(yval, 2), ha='center', va='bottom')\n",
        "\n",
        "plt.xlabel(\"Attribute\")\n",
        "plt.ylabel(\"Reduction in MSE\")\n",
        "plt.savefig(\"../figures/decision-trees/discrete-input-real-output-level-1.pdf\")"
      ],
      "id": "cell-12"
    }
  ],
  "nbformat": 4,
  "nbformat_minor": 5,
  "metadata": {
    "kernelspec": {
      "name": "python3",
      "display_name": "base",
      "language": "python"
    },
    "language_info": {
      "name": "python",
      "codemirror_mode": {
        "name": "ipython",
        "version": "3"
      },
      "file_extension": ".py",
      "mimetype": "text/x-python",
      "nbconvert_exporter": "python",
      "pygments_lexer": "ipython3",
      "version": "3.9.15"
    }
  }
}