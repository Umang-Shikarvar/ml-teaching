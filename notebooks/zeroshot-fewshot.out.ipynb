{
  "cells": [
    {
      "cell_type": "markdown",
      "metadata": {},
      "source": [
        "# Notebook to demonstrate Zero shot and Few shot Learning"
      ],
      "id": "d3a4aef9-7ff9-461a-87e6-b599a04d33d2"
    },
    {
      "cell_type": "code",
      "execution_count": 2,
      "metadata": {},
      "outputs": [],
      "source": [
        "%pip install langchain langchain_groq"
      ],
      "id": "cell-2"
    },
    {
      "cell_type": "code",
      "execution_count": 2,
      "metadata": {},
      "outputs": [],
      "source": [
        "import pandas as pd \n",
        "from langchain_groq.chat_models import ChatGroq\n",
        "import json"
      ],
      "id": "cell-3"
    },
    {
      "cell_type": "code",
      "execution_count": 3,
      "metadata": {},
      "outputs": [],
      "source": [
        "with open(\"../secrets.json\") as f:\n",
        "    secrets = json.load(f)   \n",
        "Groq_Token = secrets[\"groq\"]"
      ],
      "id": "cell-4"
    },
    {
      "cell_type": "code",
      "execution_count": 4,
      "metadata": {},
      "outputs": [],
      "source": [
        "# Groq API and Models \n",
        "\n",
        "groq_models = {\"llama3-70b\": \"llama3-70b-8192\", \"mixtral\": \"mixtral-8x7b-32768\", \"gemma-7b\": \"gemma-7b-it\",\"llama3.1-70b\":\"llama-3.1-70b-versatile\",\"llama3-8b\":\"llama3-8b-8192\",\"llama3.1-8b\":\"llama-3.1-8b-instant\",\"gemma-9b\":\"gemma2-9b-it\"}"
      ],
      "id": "cell-5"
    },
    {
      "cell_type": "markdown",
      "metadata": {},
      "source": [
        "**NOTE : DO NOT SHARE THE API KEY WITH ANYONE. DO NOT COMMIT THE API KEY\n",
        "TO GITHUB.**\n",
        "\n",
        "Always do a sanity check before committing the code to github. If the\n",
        "key is found in the code, you will be penalized with a 0.5 marks\n",
        "deduction.\n",
        "\n",
        "# Zero Shot"
      ],
      "id": "9652b8ee-0380-4be0-95c4-370a83e6edd8"
    },
    {
      "cell_type": "code",
      "execution_count": 5,
      "metadata": {},
      "outputs": [
        {
          "output_type": "stream",
          "name": "stdout",
          "text": [
            "Sentiment label: Neutral\n",
            "\n",
            "Explanation: The sentence expresses mixed sentiments. The words \"amazing\" and \"happy\" convey a positive sentiment, indicating satisfaction with the product quality and customer service. However, the phrase \"delivery was delayed\" expresses a negative sentiment, indicating dissatisfaction with the delivery experience. Overall, the positive and negative sentiments balance each other out, resulting in a neutral sentiment label."
          ]
        }
      ],
      "source": [
        "# Statement \n",
        "sentence = \"The product quality is amazing but the delivery was delayed. However I am happy with the customer service.\"\n",
        "\n",
        "sentence_2 = \"The product quality is amazing and the delivery was not delayed. I am happy with the customer service.\"\n",
        "# System Prompts \n",
        "query = f\"\"\"\n",
        "* You are a sentiment analysis model. \n",
        "* Your task is to analyze the sentiment expressed in the given text and classify it as 'positive', 'negative', or 'neutral'. \n",
        "* Provide the sentiment label and, if necessary, a brief explanation of your reasoning.\n",
        "\n",
        "Sentence: {sentence}\n",
        "\"\"\" \n",
        "\n",
        "\n",
        "# To use Groq LLMs \n",
        "model_name = \"llama3-70b\" # We can choose any model from the groq_models dictionary\n",
        "llm = ChatGroq(model=groq_models[model_name], api_key=Groq_Token, temperature=0)\n",
        "answer = llm.invoke(query)\n",
        "\n",
        "print(answer.content)"
      ],
      "id": "cell-8"
    },
    {
      "cell_type": "markdown",
      "metadata": {},
      "source": [
        "# Few Shot"
      ],
      "id": "25e30b2c-be36-4c65-aea7-778ba78465df"
    },
    {
      "cell_type": "code",
      "execution_count": 6,
      "metadata": {},
      "outputs": [
        {
          "output_type": "stream",
          "name": "stdout",
          "text": [
            "Sentiment: Positive\n",
            "\n",
            "Explanation: Although the sentence mentions a negative aspect (\"the delivery was delayed\"), the positive sentiments (\"The product quality is amazing\" and \"I am happy with the customer service\") outweigh the negative one, resulting in an overall positive sentiment. The use of the word \"amazing\" and \"happy\" also indicates a strong positive emotion, which contributes to the positive sentiment classification."
          ]
        }
      ],
      "source": [
        "# Statement \n",
        "sentence = \"The product quality is amazing but the delivery was delayed. However I am happy with the customer service.\"\n",
        "\n",
        "# System Prompts \n",
        "query = f\"\"\"\n",
        "* You are a sentiment analysis model. \n",
        "* Your task is to analyze the sentiment expressed in the given text and classify it as 'positive', 'negative', or 'neutral'. \n",
        "* Provide the sentiment label and, if necessary, a brief explanation of your reasoning.\n",
        "\n",
        "Here are few examples:\n",
        "1. Sentence: 'The customer service was excellent, and I received my order quickly.'\n",
        "Sentiment: Positive\n",
        "\n",
        "2. Sentence: 'The food was bland and the service was slow.'\n",
        "Sentiment: Negative\n",
        "\n",
        "3. Sentence: 'The product is okay, but it's not worth the price.'\n",
        "Sentiment: Neutral\n",
        "\n",
        "Sentence: {sentence}\n",
        "\"\"\" \n",
        "\n",
        "# To use Groq LLMs \n",
        "model_name = \"llama3-70b\" # We can choose any model from the groq_models dictionary\n",
        "llm = ChatGroq(model=groq_models[model_name], api_key=Groq_Token, temperature=0)\n",
        "answer = llm.invoke(query)\n",
        "\n",
        "print(answer.content)"
      ],
      "id": "cell-10"
    }
  ],
  "nbformat": 4,
  "nbformat_minor": 5,
  "metadata": {
    "kernelspec": {
      "name": "python3",
      "display_name": "Python 3",
      "language": "python"
    },
    "language_info": {
      "name": "python",
      "codemirror_mode": {
        "name": "ipython",
        "version": "3"
      },
      "file_extension": ".py",
      "mimetype": "text/x-python",
      "nbconvert_exporter": "python",
      "pygments_lexer": "ipython3",
      "version": "3.10.11"
    }
  }
}